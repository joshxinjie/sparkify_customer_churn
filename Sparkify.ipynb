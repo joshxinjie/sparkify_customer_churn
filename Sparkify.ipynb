{
 "cells": [
  {
   "cell_type": "markdown",
   "metadata": {},
   "source": [
    "# Sparkify Project Workspace\n",
    "This workspace contains a tiny subset (128MB) of the full dataset available (12GB). Feel free to use this workspace to build your project, or to explore a smaller subset with Spark before deploying your cluster on the cloud. Instructions for setting up your Spark cluster is included in the last lesson of the Extracurricular Spark Course content.\n",
    "\n",
    "You can follow the steps below to guide your data analysis and model building portion of this project."
   ]
  },
  {
   "cell_type": "code",
   "execution_count": 1,
   "metadata": {},
   "outputs": [],
   "source": [
    "# import libraries\n",
    "from pyspark.sql import SparkSession\n",
    "from pyspark.sql.functions import add_months, avg, count, countDistinct, col, datediff,\\\n",
    "desc, expr, from_unixtime, floor, isnan, lag, lit, month, months_between,\\\n",
    "min, max, split, sum, udf, unix_timestamp, when, year\n",
    "from pyspark.sql.types import IntegerType, DateType\n",
    "from pyspark.sql.window import Window\n",
    "\n",
    "from pyspark.ml import Pipeline\n",
    "from pyspark.ml.classification import LogisticRegression, GBTClassifier, LinearSVC\n",
    "from pyspark.ml.evaluation import BinaryClassificationEvaluator, MulticlassClassificationEvaluator\n",
    "from pyspark.ml.feature import StandardScaler, VectorAssembler\n",
    "from pyspark.ml.regression import LinearRegression\n",
    "from pyspark.ml.tuning import CrossValidator, ParamGridBuilder\n",
    "\n",
    "import matplotlib.pyplot as plt\n",
    "\n",
    "import pandas as pd\n",
    "import numpy as np\n",
    "\n",
    "from datetime import datetime"
   ]
  },
  {
   "cell_type": "code",
   "execution_count": 2,
   "metadata": {},
   "outputs": [],
   "source": [
    "# create a Spark session\n",
    "spark = SparkSession.builder \\\n",
    "    .master(\"local\") \\\n",
    "    .appName(\"Sparkify\") \\\n",
    "    .getOrCreate()"
   ]
  },
  {
   "cell_type": "markdown",
   "metadata": {},
   "source": [
    "# Load and Clean Dataset\n",
    "Clean your dataset, checking for invalid or missing data. For example, records without userids or sessionids. In this workspace, the filename is `mini_sparkify_event_data.json`."
   ]
  },
  {
   "cell_type": "code",
   "execution_count": 3,
   "metadata": {},
   "outputs": [
    {
     "data": {
      "text/plain": [
       "Row(artist='Martha Tilston', auth='Logged In', firstName='Colin', gender='M', itemInSession=50, lastName='Freeman', length=277.89016, level='paid', location='Bakersfield, CA', method='PUT', page='NextSong', registration=1538173362000, sessionId=29, song='Rockpools', status=200, ts=1538352117000, userAgent='Mozilla/5.0 (Windows NT 6.1; WOW64; rv:31.0) Gecko/20100101 Firefox/31.0', userId='30')"
      ]
     },
     "execution_count": 3,
     "metadata": {},
     "output_type": "execute_result"
    }
   ],
   "source": [
    "df = spark.read.json(\"mini_sparkify_event_data.json\")\n",
    "df.head()"
   ]
  },
  {
   "cell_type": "code",
   "execution_count": 4,
   "metadata": {},
   "outputs": [
    {
     "name": "stdout",
     "output_type": "stream",
     "text": [
      "root\n",
      " |-- artist: string (nullable = true)\n",
      " |-- auth: string (nullable = true)\n",
      " |-- firstName: string (nullable = true)\n",
      " |-- gender: string (nullable = true)\n",
      " |-- itemInSession: long (nullable = true)\n",
      " |-- lastName: string (nullable = true)\n",
      " |-- length: double (nullable = true)\n",
      " |-- level: string (nullable = true)\n",
      " |-- location: string (nullable = true)\n",
      " |-- method: string (nullable = true)\n",
      " |-- page: string (nullable = true)\n",
      " |-- registration: long (nullable = true)\n",
      " |-- sessionId: long (nullable = true)\n",
      " |-- song: string (nullable = true)\n",
      " |-- status: long (nullable = true)\n",
      " |-- ts: long (nullable = true)\n",
      " |-- userAgent: string (nullable = true)\n",
      " |-- userId: string (nullable = true)\n",
      "\n"
     ]
    }
   ],
   "source": [
    "df.printSchema()"
   ]
  },
  {
   "cell_type": "code",
   "execution_count": 5,
   "metadata": {},
   "outputs": [
    {
     "data": {
      "text/plain": [
       "Row(artist='Martha Tilston', auth='Logged In', firstName='Colin', gender='M', itemInSession=50, lastName='Freeman', length=277.89016, level='paid', location='Bakersfield, CA', method='PUT', page='NextSong', registration=1538173362000, sessionId=29, song='Rockpools', status=200, ts=1538352117000, userAgent='Mozilla/5.0 (Windows NT 6.1; WOW64; rv:31.0) Gecko/20100101 Firefox/31.0', userId='30')"
      ]
     },
     "execution_count": 5,
     "metadata": {},
     "output_type": "execute_result"
    }
   ],
   "source": [
    "df.head()"
   ]
  },
  {
   "cell_type": "markdown",
   "metadata": {},
   "source": [
    "### Investigate timestamps"
   ]
  },
  {
   "cell_type": "code",
   "execution_count": 112,
   "metadata": {},
   "outputs": [
    {
     "name": "stdout",
     "output_type": "stream",
     "text": [
      "+-------+--------------------+\n",
      "|summary|                  ts|\n",
      "+-------+--------------------+\n",
      "|  count|              286500|\n",
      "|   mean|1.540956889810483...|\n",
      "| stddev|1.5075439608226302E9|\n",
      "|    min|       1538352117000|\n",
      "|    max|       1543799476000|\n",
      "+-------+--------------------+\n",
      "\n"
     ]
    }
   ],
   "source": [
    "df.describe(\"ts\").show()"
   ]
  },
  {
   "cell_type": "code",
   "execution_count": 114,
   "metadata": {},
   "outputs": [
    {
     "name": "stdout",
     "output_type": "stream",
     "text": [
      "Start Time: 2018-10-01 00:01:57\n",
      "End Time: 2018-12-03 01:11:16\n"
     ]
    }
   ],
   "source": [
    "ts = int(1538352117000)\n",
    "ts /= 1000\n",
    "print(\"Start Time: {}\".format(datetime.utcfromtimestamp(ts).strftime('%Y-%m-%d %H:%M:%S')))\n",
    "\n",
    "ts = int(1543799476000)\n",
    "ts /= 1000\n",
    "print(\"End Time: {}\".format(datetime.utcfromtimestamp(ts).strftime('%Y-%m-%d %H:%M:%S')))"
   ]
  },
  {
   "cell_type": "markdown",
   "metadata": {},
   "source": [
    "### Investigate pages"
   ]
  },
  {
   "cell_type": "code",
   "execution_count": 115,
   "metadata": {},
   "outputs": [
    {
     "name": "stdout",
     "output_type": "stream",
     "text": [
      "+--------------------+\n",
      "|                page|\n",
      "+--------------------+\n",
      "|              Cancel|\n",
      "|    Submit Downgrade|\n",
      "|         Thumbs Down|\n",
      "|                Home|\n",
      "|           Downgrade|\n",
      "|         Roll Advert|\n",
      "|              Logout|\n",
      "|       Save Settings|\n",
      "|Cancellation Conf...|\n",
      "|               About|\n",
      "| Submit Registration|\n",
      "|            Settings|\n",
      "|               Login|\n",
      "|            Register|\n",
      "|     Add to Playlist|\n",
      "|          Add Friend|\n",
      "|            NextSong|\n",
      "|           Thumbs Up|\n",
      "|                Help|\n",
      "|             Upgrade|\n",
      "+--------------------+\n",
      "only showing top 20 rows\n",
      "\n"
     ]
    }
   ],
   "source": [
    "df.select(\"page\").dropDuplicates().show()"
   ]
  },
  {
   "cell_type": "code",
   "execution_count": 6,
   "metadata": {},
   "outputs": [
    {
     "name": "stdout",
     "output_type": "stream",
     "text": [
      "+------+---------+---------+------+-------------+--------+------+-----+--------------------+------+------+-------------+---------+----+------+-------------+--------------------+------+\n",
      "|artist|     auth|firstName|gender|itemInSession|lastName|length|level|            location|method|  page| registration|sessionId|song|status|           ts|           userAgent|userId|\n",
      "+------+---------+---------+------+-------------+--------+------+-----+--------------------+------+------+-------------+---------+----+------+-------------+--------------------+------+\n",
      "|  null|Logged In|   Adriel|     M|          103| Mendoza|  null| paid|  Kansas City, MO-KS|   PUT|Cancel|1535623466000|      514|null|   307|1538943740000|\"Mozilla/5.0 (Mac...|    18|\n",
      "|  null|Logged In|    Diego|     M|           55|   Mckee|  null| paid|Phoenix-Mesa-Scot...|   PUT|Cancel|1537167593000|      540|null|   307|1539033031000|\"Mozilla/5.0 (iPh...|    32|\n",
      "|  null|Logged In|    Mason|     M|            9|    Hart|  null| free|  Corpus Christi, TX|   PUT|Cancel|1533157139000|      174|null|   307|1539318918000|\"Mozilla/5.0 (Mac...|   125|\n",
      "|  null|Logged In|Alexander|     M|          331|  Garcia|  null| paid|Indianapolis-Carm...|   PUT|Cancel|1536817381000|      508|null|   307|1539375378000|Mozilla/5.0 (Wind...|   105|\n",
      "+------+---------+---------+------+-------------+--------+------+-----+--------------------+------+------+-------------+---------+----+------+-------------+--------------------+------+\n",
      "only showing top 4 rows\n",
      "\n"
     ]
    }
   ],
   "source": [
    "df.filter(df.page==\"Cancel\").show(4)"
   ]
  },
  {
   "cell_type": "code",
   "execution_count": 7,
   "metadata": {},
   "outputs": [
    {
     "name": "stdout",
     "output_type": "stream",
     "text": [
      "+------+---------+---------+------+-------------+--------+------+-----+--------------------+------+----------------+-------------+---------+----+------+-------------+--------------------+------+\n",
      "|artist|     auth|firstName|gender|itemInSession|lastName|length|level|            location|method|            page| registration|sessionId|song|status|           ts|           userAgent|userId|\n",
      "+------+---------+---------+------+-------------+--------+------+-----+--------------------+------+----------------+-------------+---------+----+------+-------------+--------------------+------+\n",
      "|  null|Logged In|     Kael|     M|           47|   Baker|  null| paid|Kingsport-Bristol...|   PUT|Submit Downgrade|1533102330000|      249|null|   307|1538393619000|\"Mozilla/5.0 (Mac...|   131|\n",
      "|  null|Logged In|   Calvin|     M|           17|Marshall|  null| paid|      Pittsburgh, PA|   PUT|Submit Downgrade|1537120757000|      313|null|   307|1538516445000|\"Mozilla/5.0 (Mac...|    38|\n",
      "|  null|Logged In|  Kaylenn|     F|          354| Jenkins|  null| paid|           Price, UT|   PUT|Submit Downgrade|1535903878000|      479|null|   307|1538835479000|\"Mozilla/5.0 (Mac...|   141|\n",
      "|  null|Logged In|    Colin|     M|          214| Freeman|  null| paid|     Bakersfield, CA|   PUT|Submit Downgrade|1538173362000|      532|null|   307|1538995454000|Mozilla/5.0 (Wind...|    30|\n",
      "+------+---------+---------+------+-------------+--------+------+-----+--------------------+------+----------------+-------------+---------+----+------+-------------+--------------------+------+\n",
      "only showing top 4 rows\n",
      "\n"
     ]
    }
   ],
   "source": [
    "df.filter(df.page==\"Submit Downgrade\").show(4)"
   ]
  },
  {
   "cell_type": "code",
   "execution_count": 8,
   "metadata": {},
   "outputs": [
    {
     "name": "stdout",
     "output_type": "stream",
     "text": [
      "+------+---------+---------+------+-------------+--------+------+-----+--------------------+------+--------------------+-------------+---------+----+------+-------------+--------------------+------+\n",
      "|artist|     auth|firstName|gender|itemInSession|lastName|length|level|            location|method|                page| registration|sessionId|song|status|           ts|           userAgent|userId|\n",
      "+------+---------+---------+------+-------------+--------+------+-----+--------------------+------+--------------------+-------------+---------+----+------+-------------+--------------------+------+\n",
      "|  null|Cancelled|   Adriel|     M|          104| Mendoza|  null| paid|  Kansas City, MO-KS|   GET|Cancellation Conf...|1535623466000|      514|null|   200|1538943990000|\"Mozilla/5.0 (Mac...|    18|\n",
      "|  null|Cancelled|    Diego|     M|           56|   Mckee|  null| paid|Phoenix-Mesa-Scot...|   GET|Cancellation Conf...|1537167593000|      540|null|   200|1539033046000|\"Mozilla/5.0 (iPh...|    32|\n",
      "|  null|Cancelled|    Mason|     M|           10|    Hart|  null| free|  Corpus Christi, TX|   GET|Cancellation Conf...|1533157139000|      174|null|   200|1539318918000|\"Mozilla/5.0 (Mac...|   125|\n",
      "|  null|Cancelled|Alexander|     M|          332|  Garcia|  null| paid|Indianapolis-Carm...|   GET|Cancellation Conf...|1536817381000|      508|null|   200|1539375441000|Mozilla/5.0 (Wind...|   105|\n",
      "+------+---------+---------+------+-------------+--------+------+-----+--------------------+------+--------------------+-------------+---------+----+------+-------------+--------------------+------+\n",
      "only showing top 4 rows\n",
      "\n"
     ]
    }
   ],
   "source": [
    "df.filter(df.page==\"Cancellation Confirmation\").show(4)"
   ]
  },
  {
   "cell_type": "code",
   "execution_count": 9,
   "metadata": {},
   "outputs": [
    {
     "name": "stdout",
     "output_type": "stream",
     "text": [
      "+------+---------+---------+------+-------------+--------+------+-----+--------------------+------+-----------+-------------+---------+----+------+-------------+--------------------+------+\n",
      "|artist|     auth|firstName|gender|itemInSession|lastName|length|level|            location|method|       page| registration|sessionId|song|status|           ts|           userAgent|userId|\n",
      "+------+---------+---------+------+-------------+--------+------+-----+--------------------+------+-----------+-------------+---------+----+------+-------------+--------------------+------+\n",
      "|  null|Logged In|    Micah|     M|           84|    Long|  null| free|Boston-Cambridge-...|   GET|Roll Advert|1538331630000|        8|null|   200|1538353150000|\"Mozilla/5.0 (Win...|     9|\n",
      "|  null|Logged In|    Micah|     M|          119|    Long|  null| free|Boston-Cambridge-...|   GET|Roll Advert|1538331630000|        8|null|   200|1538358779000|\"Mozilla/5.0 (Win...|     9|\n",
      "|  null|Logged In|    Micah|     M|          127|    Long|  null| free|Boston-Cambridge-...|   GET|Roll Advert|1538331630000|        8|null|   200|1538360228000|\"Mozilla/5.0 (Win...|     9|\n",
      "|  null|Logged In|    Colin|     M|           86| Freeman|  null| paid|     Bakersfield, CA|   GET|Roll Advert|1538173362000|       29|null|   200|1538360737000|Mozilla/5.0 (Wind...|    30|\n",
      "+------+---------+---------+------+-------------+--------+------+-----+--------------------+------+-----------+-------------+---------+----+------+-------------+--------------------+------+\n",
      "only showing top 4 rows\n",
      "\n"
     ]
    }
   ],
   "source": [
    "# both free and premium have adverts\n",
    "df.filter(df.page==\"Roll Advert\").show(4)"
   ]
  },
  {
   "cell_type": "code",
   "execution_count": 10,
   "metadata": {},
   "outputs": [
    {
     "name": "stdout",
     "output_type": "stream",
     "text": [
      "+------+---------+---------+------+-------------+--------+------+-----+--------------------+------+-------------+-------------+---------+----+------+-------------+--------------------+------+\n",
      "|artist|     auth|firstName|gender|itemInSession|lastName|length|level|            location|method|         page| registration|sessionId|song|status|           ts|           userAgent|userId|\n",
      "+------+---------+---------+------+-------------+--------+------+-----+--------------------+------+-------------+-------------+---------+----+------+-------------+--------------------+------+\n",
      "|  null|Logged In|   Oliver|     M|           19| Gilbert|  null| paid|Philadelphia-Camd...|   PUT|Save Settings|1535093367000|      225|null|   307|1538415777000|\"Mozilla/5.0 (Mac...|    81|\n",
      "|  null|Logged In|  Spencer|     M|           53|Gonzalez|  null| free|         Concord, NH|   PUT|Save Settings|1537347211000|       64|null|   307|1538427008000|Mozilla/5.0 (X11;...|    65|\n",
      "|  null|Logged In|     Lina|     F|           30| Francis|  null| free|Los Angeles-Long ...|   PUT|Save Settings|1536948181000|      215|null|   307|1538429124000|Mozilla/5.0 (Wind...|   115|\n",
      "|  null|Logged In|Sebastian|     M|            3|    Wang|  null| free|         Jackson, MS|   PUT|Save Settings|1538050164000|      314|null|   307|1538477387000|\"Mozilla/5.0 (Mac...|    53|\n",
      "+------+---------+---------+------+-------------+--------+------+-----+--------------------+------+-------------+-------------+---------+----+------+-------------+--------------------+------+\n",
      "only showing top 4 rows\n",
      "\n"
     ]
    }
   ],
   "source": [
    "df.filter(df.page==\"Save Settings\").show(4)"
   ]
  },
  {
   "cell_type": "code",
   "execution_count": 11,
   "metadata": {},
   "outputs": [
    {
     "name": "stdout",
     "output_type": "stream",
     "text": [
      "+----------------+---------+---------+------+-------------+--------+---------+-----+--------------------+------+--------+-------------+---------+--------------------+------+-------------+--------------------+------+\n",
      "|          artist|     auth|firstName|gender|itemInSession|lastName|   length|level|            location|method|    page| registration|sessionId|                song|status|           ts|           userAgent|userId|\n",
      "+----------------+---------+---------+------+-------------+--------+---------+-----+--------------------+------+--------+-------------+---------+--------------------+------+-------------+--------------------+------+\n",
      "|  Martha Tilston|Logged In|    Colin|     M|           50| Freeman|277.89016| paid|     Bakersfield, CA|   PUT|NextSong|1538173362000|       29|           Rockpools|   200|1538352117000|Mozilla/5.0 (Wind...|    30|\n",
      "|Five Iron Frenzy|Logged In|    Micah|     M|           79|    Long|236.09424| free|Boston-Cambridge-...|   PUT|NextSong|1538331630000|        8|              Canada|   200|1538352180000|\"Mozilla/5.0 (Win...|     9|\n",
      "|    Adam Lambert|Logged In|    Colin|     M|           51| Freeman| 282.8273| paid|     Bakersfield, CA|   PUT|NextSong|1538173362000|       29|   Time For Miracles|   200|1538352394000|Mozilla/5.0 (Wind...|    30|\n",
      "|          Enigma|Logged In|    Micah|     M|           80|    Long|262.71302| free|Boston-Cambridge-...|   PUT|NextSong|1538331630000|        8|Knocking On Forbi...|   200|1538352416000|\"Mozilla/5.0 (Win...|     9|\n",
      "+----------------+---------+---------+------+-------------+--------+---------+-----+--------------------+------+--------+-------------+---------+--------------------+------+-------------+--------------------+------+\n",
      "only showing top 4 rows\n",
      "\n"
     ]
    }
   ],
   "source": [
    "df.filter(df.page==\"NextSong\").show(4)"
   ]
  },
  {
   "cell_type": "code",
   "execution_count": 12,
   "metadata": {},
   "outputs": [
    {
     "name": "stdout",
     "output_type": "stream",
     "text": [
      "+------+---------+---------+------+-------------+--------+------+-----+--------------------+------+---------------+-------------+---------+----+------+-------------+--------------------+------+\n",
      "|artist|     auth|firstName|gender|itemInSession|lastName|length|level|            location|method|           page| registration|sessionId|song|status|           ts|           userAgent|userId|\n",
      "+------+---------+---------+------+-------------+--------+------+-----+--------------------+------+---------------+-------------+---------+----+------+-------------+--------------------+------+\n",
      "|  null|Logged In|    Colin|     M|           54| Freeman|  null| paid|     Bakersfield, CA|   PUT|Add to Playlist|1538173362000|       29|null|   200|1538352905000|Mozilla/5.0 (Wind...|    30|\n",
      "|  null|Logged In|  Ashlynn|     F|           15|Williams|  null| free|     Tallahassee, FL|   PUT|Add to Playlist|1537365219000|      217|null|   200|1538356816000|\"Mozilla/5.0 (Mac...|    74|\n",
      "|  null|Logged In|    Micah|     M|          122|    Long|  null| free|Boston-Cambridge-...|   PUT|Add to Playlist|1538331630000|        8|null|   200|1538359261000|\"Mozilla/5.0 (Win...|     9|\n",
      "|  null|Logged In|    Colin|     M|           91| Freeman|  null| paid|     Bakersfield, CA|   PUT|Add to Playlist|1538173362000|       29|null|   200|1538361575000|Mozilla/5.0 (Wind...|    30|\n",
      "+------+---------+---------+------+-------------+--------+------+-----+--------------------+------+---------------+-------------+---------+----+------+-------------+--------------------+------+\n",
      "only showing top 4 rows\n",
      "\n"
     ]
    }
   ],
   "source": [
    "df.filter(df.page==\"Add to Playlist\").show(4)"
   ]
  },
  {
   "cell_type": "code",
   "execution_count": 13,
   "metadata": {},
   "outputs": [
    {
     "name": "stdout",
     "output_type": "stream",
     "text": [
      "+------+---------+---------+------+-------------+--------+------+-----+--------------------+------+----------+-------------+---------+----+------+-------------+--------------------+------+\n",
      "|artist|     auth|firstName|gender|itemInSession|lastName|length|level|            location|method|      page| registration|sessionId|song|status|           ts|           userAgent|userId|\n",
      "+------+---------+---------+------+-------------+--------+------+-----+--------------------+------+----------+-------------+---------+----+------+-------------+--------------------+------+\n",
      "|  null|Logged In|     Alex|     M|           14|   Hogan|  null| free|Denver-Aurora-Lak...|   PUT|Add Friend|1535066380000|      100|null|   307|1538361194000|Mozilla/5.0 (Wind...|   101|\n",
      "|  null|Logged In|  Madison|     F|            6| Morales|  null| paid|Tampa-St. Petersb...|   PUT|Add Friend|1536287099000|      222|null|   307|1538370014000|\"Mozilla/5.0 (Mac...|    25|\n",
      "|  null|Logged In|  Madison|     F|           69| Morales|  null| paid|Tampa-St. Petersb...|   PUT|Add Friend|1536287099000|      222|null|   307|1538383934000|\"Mozilla/5.0 (Mac...|    25|\n",
      "|  null|Logged In|  Madison|     F|           75| Morales|  null| paid|Tampa-St. Petersb...|   PUT|Add Friend|1536287099000|      222|null|   307|1538384925000|\"Mozilla/5.0 (Mac...|    25|\n",
      "+------+---------+---------+------+-------------+--------+------+-----+--------------------+------+----------+-------------+---------+----+------+-------------+--------------------+------+\n",
      "only showing top 4 rows\n",
      "\n"
     ]
    }
   ],
   "source": [
    "df.filter(df.page==\"Add Friend\").show(4)"
   ]
  },
  {
   "cell_type": "markdown",
   "metadata": {},
   "source": [
    "### Investigate timestamps"
   ]
  },
  {
   "cell_type": "code",
   "execution_count": 14,
   "metadata": {},
   "outputs": [
    {
     "name": "stdout",
     "output_type": "stream",
     "text": [
      "+------+----+---------+------+-------------+--------+------+-----+--------+------+----+------------+---------+----+------+---+---------+------+\n",
      "|artist|auth|firstName|gender|itemInSession|lastName|length|level|location|method|page|registration|sessionId|song|status| ts|userAgent|userId|\n",
      "+------+----+---------+------+-------------+--------+------+-----+--------+------+----+------------+---------+----+------+---+---------+------+\n",
      "|     0|   0|        0|     0|            0|       0|     0|    0|       0|     0|   0|           0|        0|   0|     0|  0|        0|     0|\n",
      "+------+----+---------+------+-------------+--------+------+-----+--------+------+----+------------+---------+----+------+---+---------+------+\n",
      "\n"
     ]
    }
   ],
   "source": [
    "# check NaN values per column\n",
    "# taken from: https://stackoverflow.com/questions/44627386/how-to-find-count-of-null-and-nan-values-for-each-column-in-a-pyspark-dataframe\n",
    "df.select([count(when(isnan(c), c)).alias(c) for c in df.columns]).show()"
   ]
  },
  {
   "cell_type": "code",
   "execution_count": 15,
   "metadata": {},
   "outputs": [
    {
     "name": "stdout",
     "output_type": "stream",
     "text": [
      "+------+----+---------+------+-------------+--------+------+-----+--------+------+----+------------+---------+-----+------+---+---------+------+\n",
      "|artist|auth|firstName|gender|itemInSession|lastName|length|level|location|method|page|registration|sessionId| song|status| ts|userAgent|userId|\n",
      "+------+----+---------+------+-------------+--------+------+-----+--------+------+----+------------+---------+-----+------+---+---------+------+\n",
      "| 58392|   0|     8346|  8346|            0|    8346| 58392|    0|    8346|     0|   0|        8346|        0|58392|     0|  0|     8346|     0|\n",
      "+------+----+---------+------+-------------+--------+------+-----+--------+------+----+------------+---------+-----+------+---+---------+------+\n",
      "\n"
     ]
    }
   ],
   "source": [
    "# check null values per column\n",
    "df.select([count(when(col(c).isNull(), c)).alias(c) for c in df.columns]).show()"
   ]
  },
  {
   "cell_type": "code",
   "execution_count": 16,
   "metadata": {},
   "outputs": [
    {
     "name": "stdout",
     "output_type": "stream",
     "text": [
      "+------+----------+---------+------+-------------+--------+------+-----+--------+------+----+------------+---------+----+------+-------------+---------+------+\n",
      "|artist|      auth|firstName|gender|itemInSession|lastName|length|level|location|method|page|registration|sessionId|song|status|           ts|userAgent|userId|\n",
      "+------+----------+---------+------+-------------+--------+------+-----+--------+------+----+------------+---------+----+------+-------------+---------+------+\n",
      "|  null|Logged Out|     null|  null|          100|    null|  null| free|    null|   GET|Home|        null|        8|null|   200|1538355745000|     null|      |\n",
      "|  null|Logged Out|     null|  null|          101|    null|  null| free|    null|   GET|Help|        null|        8|null|   200|1538355807000|     null|      |\n",
      "|  null|Logged Out|     null|  null|          102|    null|  null| free|    null|   GET|Home|        null|        8|null|   200|1538355841000|     null|      |\n",
      "+------+----------+---------+------+-------------+--------+------+-----+--------+------+----+------------+---------+----+------+-------------+---------+------+\n",
      "only showing top 3 rows\n",
      "\n"
     ]
    }
   ],
   "source": [
    "df.filter(col(\"firstName\").isNull()).show(3)"
   ]
  },
  {
   "cell_type": "code",
   "execution_count": 17,
   "metadata": {},
   "outputs": [
    {
     "name": "stdout",
     "output_type": "stream",
     "text": [
      "+------+----+---------+------+-------------+--------+------+-----+--------+------+----+------------+---------+----+------+---+---------+------+\n",
      "|artist|auth|firstName|gender|itemInSession|lastName|length|level|location|method|page|registration|sessionId|song|status| ts|userAgent|userId|\n",
      "+------+----+---------+------+-------------+--------+------+-----+--------+------+----+------------+---------+----+------+---+---------+------+\n",
      "+------+----+---------+------+-------------+--------+------+-----+--------+------+----+------------+---------+----+------+---+---------+------+\n",
      "\n"
     ]
    }
   ],
   "source": [
    "df.filter((col(\"firstName\").isNull()) & (col(\"gender\").isNotNull())).show()"
   ]
  },
  {
   "cell_type": "code",
   "execution_count": 18,
   "metadata": {},
   "outputs": [
    {
     "name": "stdout",
     "output_type": "stream",
     "text": [
      "+------+----+---------+------+-------------+--------+------+-----+--------+------+----+------------+---------+----+------+---+---------+------+\n",
      "|artist|auth|firstName|gender|itemInSession|lastName|length|level|location|method|page|registration|sessionId|song|status| ts|userAgent|userId|\n",
      "+------+----+---------+------+-------------+--------+------+-----+--------+------+----+------------+---------+----+------+---+---------+------+\n",
      "+------+----+---------+------+-------------+--------+------+-----+--------+------+----+------------+---------+----+------+---+---------+------+\n",
      "\n"
     ]
    }
   ],
   "source": [
    "df.filter((col(\"firstName\").isNull()) & (col(\"lastName\").isNotNull())).show()"
   ]
  },
  {
   "cell_type": "markdown",
   "metadata": {},
   "source": [
    "Entries with missing firstName are also missing gender, lastName, location, registration, userAgent"
   ]
  },
  {
   "cell_type": "code",
   "execution_count": 19,
   "metadata": {},
   "outputs": [
    {
     "name": "stdout",
     "output_type": "stream",
     "text": [
      "+-----+\n",
      "|level|\n",
      "+-----+\n",
      "| free|\n",
      "| paid|\n",
      "+-----+\n",
      "\n"
     ]
    }
   ],
   "source": [
    "df.filter(col(\"firstName\").isNull()).select(\"level\").dropDuplicates().show()"
   ]
  },
  {
   "cell_type": "code",
   "execution_count": 20,
   "metadata": {},
   "outputs": [
    {
     "name": "stdout",
     "output_type": "stream",
     "text": [
      "+------+----------+---------+------+-------------+--------+------+-----+--------+------+-----+------------+---------+----+------+-------------+---------+------+\n",
      "|artist|      auth|firstName|gender|itemInSession|lastName|length|level|location|method| page|registration|sessionId|song|status|           ts|userAgent|userId|\n",
      "+------+----------+---------+------+-------------+--------+------+-----+--------+------+-----+------------+---------+----+------+-------------+---------+------+\n",
      "|  null|Logged Out|     null|  null|           49|    null|  null| paid|    null|   GET| Home|        null|      141|null|   200|1538381499000|     null|      |\n",
      "|  null|Logged Out|     null|  null|           50|    null|  null| paid|    null|   PUT|Login|        null|      141|null|   307|1538381500000|     null|      |\n",
      "|  null|Logged Out|     null|  null|           57|    null|  null| paid|    null|   GET| Home|        null|      141|null|   200|1538382349000|     null|      |\n",
      "|  null|Logged Out|     null|  null|           58|    null|  null| paid|    null|   PUT|Login|        null|      141|null|   307|1538382350000|     null|      |\n",
      "|  null|Logged Out|     null|  null|           95|    null|  null| paid|    null|   GET| Home|        null|      248|null|   200|1538388294000|     null|      |\n",
      "|  null|Logged Out|     null|  null|           96|    null|  null| paid|    null|   PUT|Login|        null|      248|null|   307|1538388295000|     null|      |\n",
      "|  null|Logged Out|     null|  null|            0|    null|  null| paid|    null|   PUT|Login|        null|      237|null|   307|1538389406000|     null|      |\n",
      "|  null|Logged Out|     null|  null|          103|    null|  null| paid|    null|   GET| Home|        null|      141|null|   200|1538391913000|     null|      |\n",
      "|  null|Logged Out|     null|  null|          104|    null|  null| paid|    null|   PUT|Login|        null|      141|null|   307|1538391914000|     null|      |\n",
      "|  null|Logged Out|     null|  null|            0|    null|  null| paid|    null|   GET| Home|        null|      236|null|   200|1538398122000|     null|      |\n",
      "+------+----------+---------+------+-------------+--------+------+-----+--------+------+-----+------------+---------+----+------+-------------+---------+------+\n",
      "only showing top 10 rows\n",
      "\n"
     ]
    }
   ],
   "source": [
    "# entries with missing firstname but with paid level are logging out\n",
    "df.filter((col(\"firstName\").isNull()) & (col(\"level\")==\"paid\")).show(10)"
   ]
  },
  {
   "cell_type": "markdown",
   "metadata": {},
   "source": [
    "We can just discard the data with missing firstName, lastName."
   ]
  },
  {
   "cell_type": "markdown",
   "metadata": {},
   "source": [
    "### Data preprocessing"
   ]
  },
  {
   "cell_type": "code",
   "execution_count": 6,
   "metadata": {},
   "outputs": [],
   "source": [
    "# filter out all entries with missing names.\n",
    "# they are not recording information that we will need for the model\n",
    "df = df.filter(df.firstName.isNotNull())"
   ]
  },
  {
   "cell_type": "code",
   "execution_count": 7,
   "metadata": {},
   "outputs": [
    {
     "name": "stdout",
     "output_type": "stream",
     "text": [
      "+------+----+---------+------+-------------+--------+------+-----+--------+------+----+------------+---------+-----+------+---+---------+------+\n",
      "|artist|auth|firstName|gender|itemInSession|lastName|length|level|location|method|page|registration|sessionId| song|status| ts|userAgent|userId|\n",
      "+------+----+---------+------+-------------+--------+------+-----+--------+------+----+------------+---------+-----+------+---+---------+------+\n",
      "| 50046|   0|        0|     0|            0|       0| 50046|    0|       0|     0|   0|           0|        0|50046|     0|  0|        0|     0|\n",
      "+------+----+---------+------+-------------+--------+------+-----+--------+------+----+------------+---------+-----+------+---+---------+------+\n",
      "\n"
     ]
    }
   ],
   "source": [
    "# check null values\n",
    "# ensure gender has no null values\n",
    "df.select([count(when(col(c).isNull(), c)).alias(c) for c in df.columns]).show()"
   ]
  },
  {
   "cell_type": "code",
   "execution_count": 8,
   "metadata": {},
   "outputs": [
    {
     "name": "stdout",
     "output_type": "stream",
     "text": [
      "+----------------+---------+---------+------+-------------+--------+---------+-----+--------------------+------+--------+-------------+---------+--------------------+------+-------------+--------------------+------+----------+-------------------+\n",
      "|          artist|     auth|firstName|gender|itemInSession|lastName|   length|level|            location|method|    page| registration|sessionId|                song|status|           ts|           userAgent|userId|    ts_adj|           datetime|\n",
      "+----------------+---------+---------+------+-------------+--------+---------+-----+--------------------+------+--------+-------------+---------+--------------------+------+-------------+--------------------+------+----------+-------------------+\n",
      "|  Martha Tilston|Logged In|    Colin|     M|           50| Freeman|277.89016| paid|     Bakersfield, CA|   PUT|NextSong|1538173362000|       29|           Rockpools|   200|1538352117000|Mozilla/5.0 (Wind...|    30|1538352117|2018-10-01 00:01:57|\n",
      "|Five Iron Frenzy|Logged In|    Micah|     M|           79|    Long|236.09424| free|Boston-Cambridge-...|   PUT|NextSong|1538331630000|        8|              Canada|   200|1538352180000|\"Mozilla/5.0 (Win...|     9|1538352180|2018-10-01 00:03:00|\n",
      "|    Adam Lambert|Logged In|    Colin|     M|           51| Freeman| 282.8273| paid|     Bakersfield, CA|   PUT|NextSong|1538173362000|       29|   Time For Miracles|   200|1538352394000|Mozilla/5.0 (Wind...|    30|1538352394|2018-10-01 00:06:34|\n",
      "|          Enigma|Logged In|    Micah|     M|           80|    Long|262.71302| free|Boston-Cambridge-...|   PUT|NextSong|1538331630000|        8|Knocking On Forbi...|   200|1538352416000|\"Mozilla/5.0 (Win...|     9|1538352416|2018-10-01 00:06:56|\n",
      "|       Daft Punk|Logged In|    Colin|     M|           52| Freeman|223.60771| paid|     Bakersfield, CA|   PUT|NextSong|1538173362000|       29|Harder Better Fas...|   200|1538352676000|Mozilla/5.0 (Wind...|    30|1538352676|2018-10-01 00:11:16|\n",
      "+----------------+---------+---------+------+-------------+--------+---------+-----+--------------------+------+--------+-------------+---------+--------------------+------+-------------+--------------------+------+----------+-------------------+\n",
      "only showing top 5 rows\n",
      "\n"
     ]
    }
   ],
   "source": [
    "# original timestamp in milliseconds, so divide by 1000\n",
    "adjust_timestamp = udf(lambda x : x//1000, IntegerType())\n",
    "df = df.withColumn(\"ts_adj\", adjust_timestamp('ts'))\n",
    "\n",
    "# convert adjusted timestamp to datetime\n",
    "df = df.withColumn(\"datetime\", from_unixtime(col(\"ts_adj\")))\n",
    "df.show(5)"
   ]
  },
  {
   "cell_type": "code",
   "execution_count": 9,
   "metadata": {},
   "outputs": [
    {
     "name": "stdout",
     "output_type": "stream",
     "text": [
      "+----------------+---------+---------+------+-------------+--------+---------+-----+--------------------+------+--------+-------------+---------+--------------------+------+-------------+--------------------+------+----------+-------------------+----------+-------------------+\n",
      "|          artist|     auth|firstName|gender|itemInSession|lastName|   length|level|            location|method|    page| registration|sessionId|                song|status|           ts|           userAgent|userId|    ts_adj|           datetime|   reg_adj|       reg_datetime|\n",
      "+----------------+---------+---------+------+-------------+--------+---------+-----+--------------------+------+--------+-------------+---------+--------------------+------+-------------+--------------------+------+----------+-------------------+----------+-------------------+\n",
      "|  Martha Tilston|Logged In|    Colin|     M|           50| Freeman|277.89016| paid|     Bakersfield, CA|   PUT|NextSong|1538173362000|       29|           Rockpools|   200|1538352117000|Mozilla/5.0 (Wind...|    30|1538352117|2018-10-01 00:01:57|1538173362|2018-09-28 22:22:42|\n",
      "|Five Iron Frenzy|Logged In|    Micah|     M|           79|    Long|236.09424| free|Boston-Cambridge-...|   PUT|NextSong|1538331630000|        8|              Canada|   200|1538352180000|\"Mozilla/5.0 (Win...|     9|1538352180|2018-10-01 00:03:00|1538331630|2018-09-30 18:20:30|\n",
      "|    Adam Lambert|Logged In|    Colin|     M|           51| Freeman| 282.8273| paid|     Bakersfield, CA|   PUT|NextSong|1538173362000|       29|   Time For Miracles|   200|1538352394000|Mozilla/5.0 (Wind...|    30|1538352394|2018-10-01 00:06:34|1538173362|2018-09-28 22:22:42|\n",
      "|          Enigma|Logged In|    Micah|     M|           80|    Long|262.71302| free|Boston-Cambridge-...|   PUT|NextSong|1538331630000|        8|Knocking On Forbi...|   200|1538352416000|\"Mozilla/5.0 (Win...|     9|1538352416|2018-10-01 00:06:56|1538331630|2018-09-30 18:20:30|\n",
      "|       Daft Punk|Logged In|    Colin|     M|           52| Freeman|223.60771| paid|     Bakersfield, CA|   PUT|NextSong|1538173362000|       29|Harder Better Fas...|   200|1538352676000|Mozilla/5.0 (Wind...|    30|1538352676|2018-10-01 00:11:16|1538173362|2018-09-28 22:22:42|\n",
      "+----------------+---------+---------+------+-------------+--------+---------+-----+--------------------+------+--------+-------------+---------+--------------------+------+-------------+--------------------+------+----------+-------------------+----------+-------------------+\n",
      "only showing top 5 rows\n",
      "\n"
     ]
    }
   ],
   "source": [
    "# convert registration timestamp to datetime\n",
    "df = df.withColumn(\"reg_adj\", adjust_timestamp('registration'))\n",
    "#df.show(5)\n",
    "# convert adjusted registration timestamp to datetime\n",
    "df = df.withColumn(\"reg_datetime\", from_unixtime(col(\"reg_adj\")))\n",
    "df.show(5)"
   ]
  },
  {
   "cell_type": "code",
   "execution_count": 10,
   "metadata": {},
   "outputs": [],
   "source": [
    "# drop all the timestamp columns. Will not need them\n",
    "columns_to_drop = ['registration', 'ts', 'ts_adj', 'reg_adj']\n",
    "df = df.drop(*columns_to_drop)"
   ]
  },
  {
   "cell_type": "code",
   "execution_count": 11,
   "metadata": {},
   "outputs": [
    {
     "name": "stdout",
     "output_type": "stream",
     "text": [
      "+-----+\n",
      "|month|\n",
      "+-----+\n",
      "|   10|\n",
      "|   10|\n",
      "|   10|\n",
      "|   10|\n",
      "|   10|\n",
      "+-----+\n",
      "only showing top 5 rows\n",
      "\n"
     ]
    }
   ],
   "source": [
    "# to extract month example\n",
    "df.select(month('datetime').alias('month')).show(5)"
   ]
  },
  {
   "cell_type": "code",
   "execution_count": 12,
   "metadata": {},
   "outputs": [
    {
     "name": "stdout",
     "output_type": "stream",
     "text": [
      "+-----+\n",
      "|month|\n",
      "+-----+\n",
      "| 2018|\n",
      "| 2018|\n",
      "| 2018|\n",
      "| 2018|\n",
      "| 2018|\n",
      "+-----+\n",
      "only showing top 5 rows\n",
      "\n"
     ]
    }
   ],
   "source": [
    "# to extract year example\n",
    "df.select(year('datetime').alias('month')).show(5)"
   ]
  },
  {
   "cell_type": "code",
   "execution_count": 13,
   "metadata": {},
   "outputs": [
    {
     "name": "stdout",
     "output_type": "stream",
     "text": [
      "+----------+\n",
      "|    months|\n",
      "+----------+\n",
      "|0.09899754|\n",
      "|0.03993056|\n",
      "|0.09910096|\n",
      "|0.04001867|\n",
      "|0.09920624|\n",
      "+----------+\n",
      "only showing top 5 rows\n",
      "\n"
     ]
    }
   ],
   "source": [
    "# try\n",
    "df.select(months_between(df.datetime, df.reg_datetime).alias('months')).show(5)"
   ]
  },
  {
   "cell_type": "code",
   "execution_count": 14,
   "metadata": {},
   "outputs": [],
   "source": [
    "# hard-coded. Try to change this\n",
    "\n",
    "# add start date of analysis\n",
    "df = df.withColumn('analysis_start_date', lit('2018-10-01 00:00:00'))"
   ]
  },
  {
   "cell_type": "code",
   "execution_count": 15,
   "metadata": {},
   "outputs": [],
   "source": [
    "# number the months starting from the very first month of the analysis\n",
    "df = df.withColumn(\"month_num\", floor(months_between(df.datetime, df.analysis_start_date)))"
   ]
  },
  {
   "cell_type": "code",
   "execution_count": 16,
   "metadata": {},
   "outputs": [
    {
     "name": "stdout",
     "output_type": "stream",
     "text": [
      "+----------------+---------+---------+------+-------------+--------+---------+-----+--------------------+------+--------+---------+---------+------+--------------------+------+-------------------+-------------------+-------------------+---------+\n",
      "|          artist|     auth|firstName|gender|itemInSession|lastName|   length|level|            location|method|    page|sessionId|     song|status|           userAgent|userId|           datetime|       reg_datetime|analysis_start_date|month_num|\n",
      "+----------------+---------+---------+------+-------------+--------+---------+-----+--------------------+------+--------+---------+---------+------+--------------------+------+-------------------+-------------------+-------------------+---------+\n",
      "|  Martha Tilston|Logged In|    Colin|     M|           50| Freeman|277.89016| paid|     Bakersfield, CA|   PUT|NextSong|       29|Rockpools|   200|Mozilla/5.0 (Wind...|    30|2018-10-01 00:01:57|2018-09-28 22:22:42|2018-10-01 00:00:00|        0|\n",
      "|Five Iron Frenzy|Logged In|    Micah|     M|           79|    Long|236.09424| free|Boston-Cambridge-...|   PUT|NextSong|        8|   Canada|   200|\"Mozilla/5.0 (Win...|     9|2018-10-01 00:03:00|2018-09-30 18:20:30|2018-10-01 00:00:00|        0|\n",
      "+----------------+---------+---------+------+-------------+--------+---------+-----+--------------------+------+--------+---------+---------+------+--------------------+------+-------------------+-------------------+-------------------+---------+\n",
      "only showing top 2 rows\n",
      "\n"
     ]
    }
   ],
   "source": [
    "df.show(2)"
   ]
  },
  {
   "cell_type": "code",
   "execution_count": 17,
   "metadata": {},
   "outputs": [],
   "source": [
    "# engineer free or paid binary variable\n",
    "# free: 0, paid: 1\n",
    "df = df.replace([\"free\", \"paid\"], [\"0\", \"1\"], \"level\")\n",
    "\n",
    "# engineer male and female binary binary variable\n",
    "# male: 0, female: 1\n",
    "df = df.replace([\"M\", \"F\"], [\"0\", \"1\"], \"gender\")"
   ]
  },
  {
   "cell_type": "markdown",
   "metadata": {},
   "source": [
    "# Exploratory Data Analysis\n",
    "When you're working with the full dataset, perform EDA by loading a small subset of the data and doing basic manipulations within Spark. In this workspace, you are already provided a small subset of data you can explore.\n",
    "\n",
    "### Define Churn\n",
    "\n",
    "Once you've done some preliminary analysis, create a column `Churn` to use as the label for your model. I suggest using the `Cancellation Confirmation` events to define your churn, which happen for both paid and free users. As a bonus task, you can also look into the `Downgrade` events.\n",
    "\n",
    "### Explore Data\n",
    "Once you've defined churn, perform some exploratory data analysis to observe the behavior for users who stayed vs users who churned. You can start by exploring aggregates on these two groups of users, observing how much of a specific action they experienced per a certain time unit or number of songs played."
   ]
  },
  {
   "cell_type": "code",
   "execution_count": 18,
   "metadata": {},
   "outputs": [],
   "source": [
    "# can possibly switch to a 2-class classification system\n",
    "def define_churn(x):\n",
    "    \"\"\"\n",
    "    Defining churn as cancellation of service or downgrading from premium to free tier.\n",
    "    \"\"\"\n",
    "    if x == \"Cancellation Confirmation\":\n",
    "        return 1\n",
    "    elif x == \"Submit Downgrade\":\n",
    "        return 1\n",
    "    else:\n",
    "        return 0\n",
    "    \n",
    "churn_event = udf(lambda x : define_churn(x), IntegerType())\n",
    "    \n",
    "df = df.withColumn(\"churn\", churn_event(\"page\"))"
   ]
  },
  {
   "cell_type": "code",
   "execution_count": 19,
   "metadata": {},
   "outputs": [
    {
     "name": "stdout",
     "output_type": "stream",
     "text": [
      "+----------------+---------+---------+------+-------------+--------+---------+-----+--------------------+------+--------+---------+---------+------+--------------------+------+-------------------+-------------------+-------------------+---------+-----+\n",
      "|          artist|     auth|firstName|gender|itemInSession|lastName|   length|level|            location|method|    page|sessionId|     song|status|           userAgent|userId|           datetime|       reg_datetime|analysis_start_date|month_num|churn|\n",
      "+----------------+---------+---------+------+-------------+--------+---------+-----+--------------------+------+--------+---------+---------+------+--------------------+------+-------------------+-------------------+-------------------+---------+-----+\n",
      "|  Martha Tilston|Logged In|    Colin|     0|           50| Freeman|277.89016|    1|     Bakersfield, CA|   PUT|NextSong|       29|Rockpools|   200|Mozilla/5.0 (Wind...|    30|2018-10-01 00:01:57|2018-09-28 22:22:42|2018-10-01 00:00:00|        0|    0|\n",
      "|Five Iron Frenzy|Logged In|    Micah|     0|           79|    Long|236.09424|    0|Boston-Cambridge-...|   PUT|NextSong|        8|   Canada|   200|\"Mozilla/5.0 (Win...|     9|2018-10-01 00:03:00|2018-09-30 18:20:30|2018-10-01 00:00:00|        0|    0|\n",
      "+----------------+---------+---------+------+-------------+--------+---------+-----+--------------------+------+--------+---------+---------+------+--------------------+------+-------------------+-------------------+-------------------+---------+-----+\n",
      "only showing top 2 rows\n",
      "\n"
     ]
    }
   ],
   "source": [
    "df.show(2)"
   ]
  },
  {
   "cell_type": "code",
   "execution_count": 20,
   "metadata": {},
   "outputs": [
    {
     "name": "stdout",
     "output_type": "stream",
     "text": [
      "+---------+-----+------+\n",
      "|month_num|churn| count|\n",
      "+---------+-----+------+\n",
      "|        0|    0|144848|\n",
      "|        0|    1|    68|\n",
      "|        1|    0|133187|\n",
      "|        1|    1|    47|\n",
      "|        2|    0|     4|\n",
      "+---------+-----+------+\n",
      "\n"
     ]
    }
   ],
   "source": [
    "df.select('month_num','churn').groupBy('month_num','churn').count().orderBy('month_num', 'churn').show()"
   ]
  },
  {
   "cell_type": "code",
   "execution_count": 21,
   "metadata": {},
   "outputs": [],
   "source": [
    "# aggregate number of page visits for each user on a monthly basis\n",
    "\n",
    "df_register = df.select('userId', 'month_num', 'page') \\\n",
    ".where(df.page==\"Register\") \\\n",
    ".groupBy('userId', 'month_num') \\\n",
    ".agg({'page':'count'}) \\\n",
    ".withColumnRenamed('count(page)', 'numRegister')\n",
    "\n",
    "df_cancel = df.select('userId', 'month_num', 'page') \\\n",
    ".where(df.page==\"Cancel\") \\\n",
    ".groupBy('userId', 'month_num') \\\n",
    ".agg({'page':'count'}) \\\n",
    ".withColumnRenamed('count(page)', 'numCancelVisits')\n",
    "\n",
    "df_upgrade = df.select('userId', 'month_num', 'page') \\\n",
    ".where(df.page==\"Upgrade\") \\\n",
    ".groupBy('userId', 'month_num') \\\n",
    ".agg({'page':'count'}) \\\n",
    ".withColumnRenamed('count(page)', 'numUpgradeVisits')\n",
    "\n",
    "df_downgrade = df.select('userId', 'month_num', 'page') \\\n",
    ".where(df.page==\"Downgrade\") \\\n",
    ".groupBy('userId', 'month_num') \\\n",
    ".agg({'page':'count'}) \\\n",
    ".withColumnRenamed('count(page)', 'numDowngradeVisits')\n",
    "\n",
    "df_home = df.select('userId', 'month_num', 'page') \\\n",
    ".where(df.page==\"Home\") \\\n",
    ".groupBy('userId', 'month_num') \\\n",
    ".agg({'page':'count'}) \\\n",
    ".withColumnRenamed('count(page)', 'numHomeVisits')\n",
    "\n",
    "df_about = df.select('userId', 'month_num', 'page') \\\n",
    ".where(df.page==\"About\") \\\n",
    ".groupBy('userId', 'month_num') \\\n",
    ".agg({'page':'count'}) \\\n",
    ".withColumnRenamed('count(page)', 'numAboutVisits')\n",
    "\n",
    "df_settings = df.select('userId', 'month_num', 'page') \\\n",
    ".where(df.page==\"Settings\") \\\n",
    ".groupBy('userId', 'month_num') \\\n",
    ".agg({'page':'count'}) \\\n",
    ".withColumnRenamed('count(page)', 'numSettingsVisits')\n",
    "\n",
    "df_saveSettings = df.select('userId', 'month_num', 'page') \\\n",
    ".where(df.page==\"Save Settings\") \\\n",
    ".groupBy('userId', 'month_num') \\\n",
    ".agg({'page':'count'}) \\\n",
    ".withColumnRenamed('count(page)', 'numSaveSettings')\n",
    "\n",
    "df_login = df.select('userId', 'month_num', 'page') \\\n",
    ".where(df.page==\"Login\") \\\n",
    ".groupBy('userId', 'month_num') \\\n",
    ".agg({'page':'count'}) \\\n",
    ".withColumnRenamed('count(page)', 'numLogins')\n",
    "\n",
    "df_logout = df.select('userId', 'month_num', 'page') \\\n",
    ".where(df.page==\"Logout\") \\\n",
    ".groupBy('userId', 'month_num') \\\n",
    ".agg({'page':'count'}) \\\n",
    ".withColumnRenamed('count(page)', 'numLogouts')\n",
    "\n",
    "df_addPlaylist = df.select('userId', 'month_num', 'page') \\\n",
    ".where(df.page==\"Add to Playlist\") \\\n",
    ".groupBy('userId', 'month_num') \\\n",
    ".agg({'page':'count'}) \\\n",
    ".withColumnRenamed('count(page)', 'numAddPlaylists')\n",
    "\n",
    "df_addFriend = df.select('userId', 'month_num', 'page') \\\n",
    ".where(df.page==\"Add Friend\") \\\n",
    ".groupBy('userId', 'month_num') \\\n",
    ".agg({'page':'count'}) \\\n",
    ".withColumnRenamed('count(page)', 'numFriends')\n",
    "\n",
    "df_thumbsUp = df.select('userId', 'month_num', 'page') \\\n",
    ".where(df.page==\"Thumbs Up\") \\\n",
    ".groupBy('userId', 'month_num') \\\n",
    ".agg({'page':'count'}) \\\n",
    ".withColumnRenamed('count(page)', 'numThumbsUp')\n",
    "\n",
    "df_thumbsDown = df.select('userId', 'month_num', 'page') \\\n",
    ".where(df.page==\"Thumbs Down\") \\\n",
    ".groupBy('userId', 'month_num') \\\n",
    ".agg({'page':'count'}) \\\n",
    ".withColumnRenamed('count(page)', 'numThumbsDown')\n",
    "\n",
    "df_advert = df.select('userId', 'month_num', 'page') \\\n",
    ".where(df.page==\"Roll Advert\") \\\n",
    ".groupBy('userId', 'month_num') \\\n",
    ".agg({'page':'count'}) \\\n",
    ".withColumnRenamed('count(page)', 'numAdverts')\n",
    "\n",
    "df_songsPlayed = df.select('userId', 'month_num', 'page') \\\n",
    ".where(df.page==\"NextSong\") \\\n",
    ".groupBy('userId', 'month_num') \\\n",
    ".agg({'page':'count'}) \\\n",
    ".withColumnRenamed('count(page)', 'numSongsPlayed')\n",
    "\n",
    "df_totalListen = df.select('userId', 'month_num', 'length') \\\n",
    ".groupBy('userId', 'month_num') \\\n",
    ".agg({'length':'sum'}) \\\n",
    ".withColumnRenamed('sum(length)', 'totalListenTime')\n",
    "\n",
    "# number of songs per session\n",
    "df_songsPerSession = df.select('userId', 'month_num', 'page', 'sessionId') \\\n",
    ".where(df.page==\"NextSong\") \\\n",
    ".groupBy('userId', 'month_num', 'sessionId') \\\n",
    ".agg({'page':'count'}) \\\n",
    ".withColumnRenamed('count(page)', 'SongsPerSession')\n",
    "# avg number of songs per session\n",
    "df_avgSongsPerSession = df_songsPerSession.groupBy('userId', 'month_num') \\\n",
    ".agg(avg(df_songsPerSession.SongsPerSession).alias('avgSongsPerSession'))\n",
    "\n",
    "# number of singers\n",
    "df_singersPlayed = df.select('userId', 'month_num', 'page', 'artist') \\\n",
    ".where(df.page==\"NextSong\") \\\n",
    ".groupBy('userId', 'month_num') \\\n",
    ".agg(countDistinct(df.artist).alias('numSingersPlayed'))\n",
    "\n",
    "# number of singers per session\n",
    "df_singersPerSession = df.select('userId', 'month_num', 'page', 'artist', 'sessionId') \\\n",
    ".where(df.page==\"NextSong\") \\\n",
    ".groupBy('userId', 'month_num', 'sessionId') \\\n",
    ".agg(countDistinct(df.artist).alias('SingersPerSession'))\n",
    "# avg number of singers per session\n",
    "df_avgSingersPerSession = df_singersPerSession.groupBy('userId', 'month_num') \\\n",
    ".agg(avg(df_singersPerSession.SingersPerSession).alias('avgSingersPerSession'))\n",
    "\n",
    "# groupby user, month_num, sessionId.\n",
    "df_userSession = df.groupBy(\"userId\", \"month_num\", \"sessionId\") \\\n",
    ".agg(((max(unix_timestamp(df.datetime))-min(unix_timestamp(df.datetime)))/60.0).alias('sessionTimeMins'))\n",
    "# Find avg session time\n",
    "df_avgUserSession = df_userSession.groupBy('userId', 'month_num').agg(avg(df_userSession.sessionTimeMins).alias('avgSessionMins'))\n",
    "\n",
    "# number of sessions\n",
    "df_numSession = df.select('userId', 'month_num', 'sessionId').dropDuplicates() \\\n",
    ".groupby('userId', 'month_num').agg({'sessionId':'count'}) \\\n",
    ".withColumnRenamed('count(sessionId)', 'numSessions')\n",
    "\n",
    "# if user had premium at any point of the month, assumer he/she has premium for\n",
    "# the whole month for simplicity\n",
    "df_level = df.select('userId', 'month_num', 'level') \\\n",
    ".groupBy('userId', 'month_num') \\\n",
    ".agg({'level':'max'}) \\\n",
    ".withColumnRenamed('max(level)', 'level')\n",
    "\n",
    "# assuming nobody changes gender midway\n",
    "df_gender = df.select('userId', 'month_num', 'gender') \\\n",
    ".groupBy('userId', 'month_num') \\\n",
    ".agg({'gender':'max'}) \\\n",
    ".withColumnRenamed('max(gender)', 'gender')\n",
    "\n",
    "# start of each month\n",
    "# from https://stackoverflow.com/questions/45612208/add-months-to-date-column-in-spark-dataframe\n",
    "df = df.withColumn(\"start_of_month\", expr(\"add_months(analysis_start_date, month_num)\"))\n",
    "# days since registration from start of each month\n",
    "# from https://stackoverflow.com/questions/44020818/how-to-calculate-date-difference-in-pyspark\n",
    "df = df.withColumn(\"daysSinceReg\", datediff(df.start_of_month, df.reg_datetime))\n",
    "#\n",
    "df_daysReg = df.select('userId', 'month_num', 'daysSinceReg') \\\n",
    ".groupBy('userId', 'month_num') \\\n",
    ".agg(min(df.daysSinceReg).alias('daysSinceReg'))\n",
    "\n",
    "df_churn = df.select('userId', 'month_num', 'churn') \\\n",
    ".groupBy('userId', 'month_num') \\\n",
    ".agg({'churn':'max'}) \\\n",
    ".withColumnRenamed('max(churn)', 'churn')"
   ]
  },
  {
   "cell_type": "code",
   "execution_count": 22,
   "metadata": {},
   "outputs": [],
   "source": [
    "all_data = df_register.join(df_cancel, ['userId', 'month_num'], 'outer') \\\n",
    ".join(df_upgrade, ['userId', 'month_num'], 'outer') \\\n",
    ".join(df_downgrade, ['userId', 'month_num'], 'outer') \\\n",
    ".join(df_home, ['userId', 'month_num'], 'outer') \\\n",
    ".join(df_about, ['userId', 'month_num'], 'outer') \\\n",
    ".join(df_settings, ['userId', 'month_num'], 'outer') \\\n",
    ".join(df_saveSettings, ['userId', 'month_num'], 'outer') \\\n",
    ".join(df_login, ['userId', 'month_num'], 'outer') \\\n",
    ".join(df_logout, ['userId', 'month_num'], 'outer') \\\n",
    ".join(df_addPlaylist, ['userId', 'month_num'], 'outer') \\\n",
    ".join(df_addFriend, ['userId', 'month_num'], 'outer') \\\n",
    ".join(df_thumbsUp, ['userId', 'month_num'], 'outer') \\\n",
    ".join(df_thumbsDown, ['userId', 'month_num'], 'outer') \\\n",
    ".join(df_advert, ['userId', 'month_num'], 'outer') \\\n",
    ".join(df_songsPlayed, ['userId', 'month_num'], 'outer') \\\n",
    ".join(df_totalListen, ['userId', 'month_num'], 'outer') \\\n",
    ".join(df_avgSongsPerSession, ['userId', 'month_num'], 'outer') \\\n",
    ".join(df_singersPlayed, ['userId', 'month_num']) \\\n",
    ".join(df_avgSingersPerSession, ['userId', 'month_num'], 'outer') \\\n",
    ".join(df_avgUserSession, ['userId', 'month_num'], 'outer') \\\n",
    ".join(df_numSession, ['userId', 'month_num'], 'outer') \\\n",
    ".join(df_level, ['userId', 'month_num'], 'outer') \\\n",
    ".join(df_gender, ['userId', 'month_num'], 'outer') \\\n",
    ".join(df_daysReg, ['userId', 'month_num'], 'outer') \\\n",
    ".join(df_churn, ['userId', 'month_num'], 'outer')"
   ]
  },
  {
   "cell_type": "code",
   "execution_count": 23,
   "metadata": {},
   "outputs": [
    {
     "name": "stdout",
     "output_type": "stream",
     "text": [
      "+------+---------+-----------+---------------+----------------+------------------+-------------+--------------+-----------------+---------------+---------+----------+---------------+----------+-----------+-------------+----------+--------------+------------------+------------------+----------------+--------------------+------------------+-----------+-----+------+------------+-----+\n",
      "|userId|month_num|numRegister|numCancelVisits|numUpgradeVisits|numDowngradeVisits|numHomeVisits|numAboutVisits|numSettingsVisits|numSaveSettings|numLogins|numLogouts|numAddPlaylists|numFriends|numThumbsUp|numThumbsDown|numAdverts|numSongsPlayed|   totalListenTime|avgSongsPerSession|numSingersPlayed|avgSingersPerSession|    avgSessionMins|numSessions|level|gender|daysSinceReg|churn|\n",
      "+------+---------+-----------+---------------+----------------+------------------+-------------+--------------+-----------------+---------------+---------+----------+---------------+----------+-----------+-------------+----------+--------------+------------------+------------------+----------------+--------------------+------------------+-----------+-----+------+------------+-----+\n",
      "|   149|        0|       null|           null|               1|              null|            7|          null|                3|           null|     null|         3|              5|         9|         11|            1|        13|           186|       48136.58831|              62.0|             173|                61.0| 265.7277777777778|          3|    0|     0|          16|    0|\n",
      "|    55|        0|       null|           null|            null|              null|            5|          null|             null|           null|     null|         3|              4|      null|          4|            1|        12|           106|28080.879359999995|17.666666666666668|             104|                17.5| 85.83888888888889|          6|    0|     0|          20|    0|\n",
      "|   120|        0|       null|           null|            null|                17|           41|             4|                8|              1|     null|        15|             36|        18|         73|            9|      null|          1301| 325147.5961700002|144.55555555555554|             956|  126.55555555555556| 598.6833333333333|          9|    1|     1|          69|    0|\n",
      "|200001|        0|       null|              1|               1|              null|           10|          null|                6|              2|     null|         4|              3|      null|         10|            1|         3|           115|30793.221329999982|             28.75|             110|                28.5| 83.70833333333333|          6|    0|     0|           2|    1|\n",
      "|100022|        0|       null|           null|               3|              null|           19|             1|                7|              1|     null|         8|              8|         7|         24|           12|        65|           394| 94831.80824000001|              39.4|             348|                37.6|154.06166666666667|         10|    0|     1|           6|    0|\n",
      "+------+---------+-----------+---------------+----------------+------------------+-------------+--------------+-----------------+---------------+---------+----------+---------------+----------+-----------+-------------+----------+--------------+------------------+------------------+----------------+--------------------+------------------+-----------+-----+------+------------+-----+\n",
      "only showing top 5 rows\n",
      "\n"
     ]
    }
   ],
   "source": [
    "all_data.show(5)"
   ]
  },
  {
   "cell_type": "code",
   "execution_count": 24,
   "metadata": {},
   "outputs": [],
   "source": [
    "windowlag = (Window.partitionBy('userId').orderBy('month_num'))\n",
    "\n",
    "# generate 1 month lag features\n",
    "all_data = all_data.withColumn('numRegister_lastMonth', lag(all_data['numRegister']).over(windowlag))\n",
    "all_data = all_data.withColumn('numCancelVisits_lastMonth', lag(all_data['numCancelVisits']).over(windowlag))\n",
    "all_data = all_data.withColumn('numUpgradeVisits_lastMonth', lag(all_data['numUpgradeVisits']).over(windowlag))\n",
    "all_data = all_data.withColumn('numDowngradeVisits_lastMonth', lag(all_data['numDowngradeVisits']).over(windowlag))\n",
    "all_data = all_data.withColumn('numHomeVisits_lastMonth', lag(all_data['numHomeVisits']).over(windowlag))\n",
    "all_data = all_data.withColumn('numAboutVisits_lastMonth', lag(all_data['numAboutVisits']).over(windowlag))\n",
    "all_data = all_data.withColumn('numSettingsVisits_lastMonth', lag(all_data['numSettingsVisits']).over(windowlag))\n",
    "all_data = all_data.withColumn('numSaveSettings_lastMonth', lag(all_data['numSaveSettings']).over(windowlag))\n",
    "all_data = all_data.withColumn('numLogins_lastMonth', lag(all_data['numLogins']).over(windowlag))\n",
    "all_data = all_data.withColumn('numLogouts_lastMonth', lag(all_data['numLogouts']).over(windowlag))\n",
    "all_data = all_data.withColumn('numAddPlaylists_lastMonth', lag(all_data['numAddPlaylists']).over(windowlag))\n",
    "all_data = all_data.withColumn('numFriends_lastMonth', lag(all_data['numFriends']).over(windowlag))\n",
    "all_data = all_data.withColumn('numThumbsUp_lastMonth', lag(all_data['numThumbsUp']).over(windowlag))\n",
    "all_data = all_data.withColumn('numThumbsDown_lastMonth', lag(all_data['numThumbsDown']).over(windowlag))\n",
    "all_data = all_data.withColumn('numAdverts_lastMonth', lag(all_data['numAdverts']).over(windowlag))\n",
    "all_data = all_data.withColumn('numSongsPlayed_lastMonth', lag(all_data['numSongsPlayed']).over(windowlag))\n",
    "all_data = all_data.withColumn('totalListenTime_lastMonth', lag(all_data['totalListenTime']).over(windowlag))\n",
    "all_data = all_data.withColumn('avgSongsPerSession_lastMonth', lag(all_data['avgSongsPerSession']).over(windowlag))\n",
    "all_data = all_data.withColumn('numSingersPlayed_lastMonth', lag(all_data['numSingersPlayed']).over(windowlag))\n",
    "all_data = all_data.withColumn('avgSingersPerSession_lastMonth', lag(all_data['avgSingersPerSession']).over(windowlag))\n",
    "all_data = all_data.withColumn('avgSessionMins_lastMonth', lag(all_data['avgSessionMins']).over(windowlag))\n",
    "all_data = all_data.withColumn('numSessions_lastMonth', lag(all_data['numSessions']).over(windowlag))\n",
    "all_data = all_data.withColumn('level_lastMonth', lag(all_data['level']).over(windowlag))"
   ]
  },
  {
   "cell_type": "code",
   "execution_count": 25,
   "metadata": {},
   "outputs": [
    {
     "name": "stdout",
     "output_type": "stream",
     "text": [
      "+------+---------+-----------+---------------+----------------+------------------+-------------+--------------+-----------------+---------------+---------+----------+---------------+----------+-----------+-------------+----------+--------------+------------------+------------------+----------------+--------------------+------------------+-----------+-----+------+------------+-----+---------------------+-------------------------+--------------------------+----------------------------+-----------------------+------------------------+---------------------------+-------------------------+-------------------+--------------------+-------------------------+--------------------+---------------------+-----------------------+--------------------+------------------------+-------------------------+----------------------------+--------------------------+------------------------------+------------------------+---------------------+---------------+\n",
      "|userId|month_num|numRegister|numCancelVisits|numUpgradeVisits|numDowngradeVisits|numHomeVisits|numAboutVisits|numSettingsVisits|numSaveSettings|numLogins|numLogouts|numAddPlaylists|numFriends|numThumbsUp|numThumbsDown|numAdverts|numSongsPlayed|   totalListenTime|avgSongsPerSession|numSingersPlayed|avgSingersPerSession|    avgSessionMins|numSessions|level|gender|daysSinceReg|churn|numRegister_lastMonth|numCancelVisits_lastMonth|numUpgradeVisits_lastMonth|numDowngradeVisits_lastMonth|numHomeVisits_lastMonth|numAboutVisits_lastMonth|numSettingsVisits_lastMonth|numSaveSettings_lastMonth|numLogins_lastMonth|numLogouts_lastMonth|numAddPlaylists_lastMonth|numFriends_lastMonth|numThumbsUp_lastMonth|numThumbsDown_lastMonth|numAdverts_lastMonth|numSongsPlayed_lastMonth|totalListenTime_lastMonth|avgSongsPerSession_lastMonth|numSingersPlayed_lastMonth|avgSingersPerSession_lastMonth|avgSessionMins_lastMonth|numSessions_lastMonth|level_lastMonth|\n",
      "+------+---------+-----------+---------------+----------------+------------------+-------------+--------------+-----------------+---------------+---------+----------+---------------+----------+-----------+-------------+----------+--------------+------------------+------------------+----------------+--------------------+------------------+-----------+-----+------+------------+-----+---------------------+-------------------------+--------------------------+----------------------------+-----------------------+------------------------+---------------------------+-------------------------+-------------------+--------------------+-------------------------+--------------------+---------------------+-----------------------+--------------------+------------------------+-------------------------+----------------------------+--------------------------+------------------------------+------------------------+---------------------+---------------+\n",
      "|    55|        0|       null|           null|            null|              null|            5|          null|             null|           null|     null|         3|              4|      null|          4|            1|        12|           106|28080.879359999995|17.666666666666668|             104|                17.5| 85.83888888888889|          6|    0|     0|          20|    0|                 null|                     null|                      null|                        null|                   null|                    null|                       null|                     null|               null|                null|                     null|                null|                 null|                   null|                null|                    null|                     null|                        null|                      null|                          null|                    null|                 null|           null|\n",
      "|    55|        1|       null|           null|               2|              null|           15|             1|                1|           null|     null|         3|              9|         8|         13|            4|        17|           275| 68838.64099000006|              55.0|             253|                52.2|254.15333333333336|          5|    1|     0|          51|    0|                 null|                     null|                      null|                        null|                      5|                    null|                       null|                     null|               null|                   3|                        4|                null|                    4|                      1|                  12|                     106|       28080.879359999995|          17.666666666666668|                       104|                          17.5|       85.83888888888889|                    6|              0|\n",
      "+------+---------+-----------+---------------+----------------+------------------+-------------+--------------+-----------------+---------------+---------+----------+---------------+----------+-----------+-------------+----------+--------------+------------------+------------------+----------------+--------------------+------------------+-----------+-----+------+------------+-----+---------------------+-------------------------+--------------------------+----------------------------+-----------------------+------------------------+---------------------------+-------------------------+-------------------+--------------------+-------------------------+--------------------+---------------------+-----------------------+--------------------+------------------------+-------------------------+----------------------------+--------------------------+------------------------------+------------------------+---------------------+---------------+\n",
      "\n"
     ]
    }
   ],
   "source": [
    "# check one individual\n",
    "all_data.filter(all_data.userId==\"55\").show()"
   ]
  },
  {
   "cell_type": "code",
   "execution_count": 26,
   "metadata": {},
   "outputs": [],
   "source": [
    "windowMov = (Window.partitionBy('userId').orderBy('month_num')\n",
    "             .rangeBetween(Window.unboundedPreceding, 0))\n",
    "\n",
    "# generate moving averages from previous months, not including current mmonth.\n",
    "# For small dataset, it will be the same as the 1 month lag values\n",
    "# since there are only 2 months. For the full dataset, there may be more than 2 months, \n",
    "# so moving averages will be different from 1 month lag\n",
    "all_data = all_data.withColumn('numRegister_cum_old', sum('numRegister').over(windowMov))\n",
    "all_data = all_data.withColumn('numRegister_cum',\\\n",
    "                               (all_data['numRegister_cum_old'] - all_data['numRegister']))\n",
    "all_data = all_data.withColumn('numRegister_movAvg',\\\n",
    "                               (all_data['numRegister_cum'] / all_data['month_num']))\n",
    "\n",
    "all_data = all_data.withColumn('numCancelVisits_cum_old', sum('numCancelVisits').over(windowMov))\n",
    "all_data = all_data.withColumn('numCancelVisits_cum',\\\n",
    "                               (all_data['numCancelVisits_cum_old'] - all_data['numCancelVisits']))\n",
    "all_data = all_data.withColumn('numCancelVisits_movAvg',\\\n",
    "                               (all_data['numCancelVisits_cum'] / all_data['month_num']))\n",
    "\n",
    "all_data = all_data.withColumn('numUpgradeVisits_cum_old', sum('numUpgradeVisits').over(windowMov))\n",
    "all_data = all_data.withColumn('numUpgradeVisits_cum',\\\n",
    "                               (all_data['numUpgradeVisits_cum_old'] - all_data['numUpgradeVisits']))\n",
    "all_data = all_data.withColumn('numUpgradeVisits_movAvg',\\\n",
    "                               (all_data['numUpgradeVisits_cum'] / all_data['month_num']))\n",
    "\n",
    "all_data = all_data.withColumn('numDowngradeVisits_cum_old', sum('numDowngradeVisits').over(windowMov))\n",
    "all_data = all_data.withColumn('numDowngradeVisits_cum',\\\n",
    "                               (all_data['numDowngradeVisits_cum_old'] - all_data['numDowngradeVisits']))\n",
    "all_data = all_data.withColumn('numDowngradeVisits_movAvg',\\\n",
    "                               (all_data['numDowngradeVisits_cum'] / all_data['month_num']))\n",
    "\n",
    "all_data = all_data.withColumn('numHomeVisits_cum_old', sum('numHomeVisits').over(windowMov))\n",
    "all_data = all_data.withColumn('numHomeVisits_cum',\\\n",
    "                               (all_data['numHomeVisits_cum_old'] - all_data['numHomeVisits']))\n",
    "all_data = all_data.withColumn('numHomeVisits_movAvg',\\\n",
    "                               (all_data['numHomeVisits_cum'] / all_data['month_num']))\n",
    "\n",
    "all_data = all_data.withColumn('numAboutVisits_cum_old', sum('numAboutVisits').over(windowMov))\n",
    "all_data = all_data.withColumn('numAboutVisits_cum',\\\n",
    "                               (all_data['numAboutVisits_cum_old'] - all_data['numAboutVisits']))\n",
    "all_data = all_data.withColumn('numAboutVisits_movAvg',\\\n",
    "                               (all_data['numAboutVisits_cum'] / all_data['month_num']))\n",
    "\n",
    "all_data = all_data.withColumn('numSettingsVisits_cum_old', sum('numSettingsVisits').over(windowMov))\n",
    "all_data = all_data.withColumn('numSettingsVisits_cum',\\\n",
    "                               (all_data['numSettingsVisits_cum_old'] - all_data['numSettingsVisits']))\n",
    "all_data = all_data.withColumn('numSettingsVisits_movAvg',\\\n",
    "                               (all_data['numSettingsVisits_cum'] / all_data['month_num']))\n",
    "\n",
    "all_data = all_data.withColumn('numSaveSettings_cum_old', sum('numSaveSettings').over(windowMov))\n",
    "all_data = all_data.withColumn('numSaveSettings_cum',\\\n",
    "                               (all_data['numSaveSettings_cum_old'] - all_data['numSaveSettings']))\n",
    "all_data = all_data.withColumn('numSaveSettings_movAvg',\\\n",
    "                               (all_data['numSaveSettings_cum'] / all_data['month_num']))\n",
    "\n",
    "all_data = all_data.withColumn('numLogins_cum_old', sum('numLogins').over(windowMov))\n",
    "all_data = all_data.withColumn('numLogins_cum',\\\n",
    "                               (all_data['numLogins_cum_old'] - all_data['numLogins']))\n",
    "all_data = all_data.withColumn('numLogins_movAvg',\\\n",
    "                               (all_data['numLogins_cum'] / all_data['month_num']))\n",
    "\n",
    "all_data = all_data.withColumn('numLogouts_cum_old', sum('numLogouts').over(windowMov))\n",
    "all_data = all_data.withColumn('numLogouts_cum',\\\n",
    "                               (all_data['numLogouts_cum_old'] - all_data['numLogouts']))\n",
    "all_data = all_data.withColumn('numLogouts_movAvg',\\\n",
    "                               (all_data['numLogouts_cum'] / all_data['month_num']))\n",
    "\n",
    "all_data = all_data.withColumn('numAddPlaylists_cum_old', sum('numAddPlaylists').over(windowMov))\n",
    "all_data = all_data.withColumn('numAddPlaylists_cum',\\\n",
    "                               (all_data['numAddPlaylists_cum_old'] - all_data['numAddPlaylists']))\n",
    "all_data = all_data.withColumn('numAddPlaylists_movAvg',\\\n",
    "                               (all_data['numAddPlaylists_cum'] / all_data['month_num']))\n",
    "\n",
    "all_data = all_data.withColumn('numFriends_cum_old', sum('numFriends').over(windowMov))\n",
    "all_data = all_data.withColumn('numFriends_cum',\\\n",
    "                               (all_data['numFriends_cum_old'] - all_data['numFriends']))\n",
    "all_data = all_data.withColumn('numFriends_movAvg',\\\n",
    "                               (all_data['numFriends_cum'] / all_data['month_num']))\n",
    "\n",
    "all_data = all_data.withColumn('numThumbsUp_cum_old', sum('numThumbsUp').over(windowMov))\n",
    "all_data = all_data.withColumn('numThumbsUp_cum',\\\n",
    "                               (all_data['numThumbsUp_cum_old'] - all_data['numThumbsUp']))\n",
    "all_data = all_data.withColumn('numThumbsUp_movAvg',\\\n",
    "                               (all_data['numThumbsUp_cum'] / all_data['month_num']))\n",
    "\n",
    "all_data = all_data.withColumn('numThumbsDown_cum_old', sum('numThumbsDown').over(windowMov))\n",
    "all_data = all_data.withColumn('numThumbsDown_cum',\\\n",
    "                               (all_data['numThumbsDown_cum_old'] - all_data['numThumbsDown']))\n",
    "all_data = all_data.withColumn('numThumbsDown_movAvg',\\\n",
    "                               (all_data['numThumbsDown_cum'] / all_data['month_num']))\n",
    "\n",
    "all_data = all_data.withColumn('numAdverts_cum_old', sum('numAdverts').over(windowMov))\n",
    "all_data = all_data.withColumn('numAdverts_cum',\\\n",
    "                               (all_data['numAdverts_cum_old'] - all_data['numAdverts']))\n",
    "all_data = all_data.withColumn('numAdverts_movAvg',\\\n",
    "                               (all_data['numAdverts_cum'] / all_data['month_num']))\n",
    "\n",
    "all_data = all_data.withColumn('numSongsPlayed_cum_old', sum('numSongsPlayed').over(windowMov))\n",
    "all_data = all_data.withColumn('numSongsPlayed_cum',\\\n",
    "                               (all_data['numSongsPlayed_cum_old'] - all_data['numSongsPlayed']))\n",
    "all_data = all_data.withColumn('numSongsPlayed_movAvg',\\\n",
    "                               (all_data['numSongsPlayed_cum'] / all_data['month_num']))\n",
    "\n",
    "all_data = all_data.withColumn('totalListenTime_cum_old', sum('totalListenTime').over(windowMov))\n",
    "all_data = all_data.withColumn('totalListenTime_cum',\\\n",
    "                               (all_data['totalListenTime_cum_old'] - all_data['totalListenTime']))\n",
    "all_data = all_data.withColumn('totalListenTime_movAvg',\\\n",
    "                               (all_data['totalListenTime_cum'] / all_data['month_num']))\n",
    "\n",
    "all_data = all_data.withColumn('avgSongsPerSession_cum_old', sum('avgSongsPerSession').over(windowMov))\n",
    "all_data = all_data.withColumn('avgSongsPerSession_cum',\\\n",
    "                               (all_data['avgSongsPerSession_cum_old'] - all_data['avgSongsPerSession']))\n",
    "all_data = all_data.withColumn('avgSongsPerSession_movAvg',\\\n",
    "                               (all_data['avgSongsPerSession_cum'] / all_data['month_num']))\n",
    "\n",
    "all_data = all_data.withColumn('numSingersPlayed_cum_old', sum('numSingersPlayed').over(windowMov))\n",
    "all_data = all_data.withColumn('numSingersPlayed_cum',\\\n",
    "                               (all_data['numSingersPlayed_cum_old'] - all_data['numSingersPlayed']))\n",
    "all_data = all_data.withColumn('numSingersPlayed_movAvg',\\\n",
    "                               (all_data['numSingersPlayed_cum'] / all_data['month_num']))\n",
    "\n",
    "all_data = all_data.withColumn('avgSingersPerSession_cum_old', sum('avgSingersPerSession').over(windowMov))\n",
    "all_data = all_data.withColumn('avgSingersPerSession_cum',\\\n",
    "                               (all_data['avgSingersPerSession_cum_old'] - all_data['avgSingersPerSession']))\n",
    "all_data = all_data.withColumn('avgSingersPerSession_movAvg',\\\n",
    "                               (all_data['avgSingersPerSession_cum'] / all_data['month_num']))\n",
    "\n",
    "all_data = all_data.withColumn('avgSessionMins_cum_old', sum('avgSessionMins').over(windowMov))\n",
    "all_data = all_data.withColumn('avgSessionMins_cum',\\\n",
    "                               (all_data['avgSessionMins_cum_old'] - all_data['avgSessionMins']))\n",
    "all_data = all_data.withColumn('avgSessionMins_movAvg',\\\n",
    "                               (all_data['avgSessionMins_cum'] / all_data['month_num']))\n",
    "\n",
    "all_data = all_data.withColumn('numSessions_cum_old', sum('numSessions').over(windowMov))\n",
    "all_data = all_data.withColumn('numSessions_cum',\\\n",
    "                               (all_data['numSessions_cum_old'] - all_data['numSessions']))\n",
    "all_data = all_data.withColumn('numSessions_movAvg',\\\n",
    "                               (all_data['numSessions_cum'] / all_data['month_num']))"
   ]
  },
  {
   "cell_type": "code",
   "execution_count": 27,
   "metadata": {
    "scrolled": false
   },
   "outputs": [
    {
     "name": "stdout",
     "output_type": "stream",
     "text": [
      "+------+---------+-----------+---------------+----------------+------------------+-------------+--------------+-----------------+---------------+---------+----------+---------------+----------+-----------+-------------+----------+--------------+------------------+------------------+----------------+--------------------+------------------+-----------+-----+------+------------+-----+---------------------+-------------------------+--------------------------+----------------------------+-----------------------+------------------------+---------------------------+-------------------------+-------------------+--------------------+-------------------------+--------------------+---------------------+-----------------------+--------------------+------------------------+-------------------------+----------------------------+--------------------------+------------------------------+------------------------+---------------------+---------------+-------------------+---------------+------------------+-----------------------+-------------------+----------------------+------------------------+--------------------+-----------------------+--------------------------+----------------------+-------------------------+---------------------+-----------------+--------------------+----------------------+------------------+---------------------+-------------------------+---------------------+------------------------+-----------------------+-------------------+----------------------+-----------------+-------------+----------------+------------------+--------------+-----------------+-----------------------+-------------------+----------------------+------------------+--------------+-----------------+-------------------+---------------+------------------+---------------------+-----------------+--------------------+------------------+--------------+-----------------+----------------------+------------------+---------------------+-----------------------+-------------------+----------------------+--------------------------+----------------------+-------------------------+------------------------+--------------------+-----------------------+----------------------------+------------------------+---------------------------+----------------------+------------------+---------------------+-------------------+---------------+------------------+\n",
      "|userId|month_num|numRegister|numCancelVisits|numUpgradeVisits|numDowngradeVisits|numHomeVisits|numAboutVisits|numSettingsVisits|numSaveSettings|numLogins|numLogouts|numAddPlaylists|numFriends|numThumbsUp|numThumbsDown|numAdverts|numSongsPlayed|   totalListenTime|avgSongsPerSession|numSingersPlayed|avgSingersPerSession|    avgSessionMins|numSessions|level|gender|daysSinceReg|churn|numRegister_lastMonth|numCancelVisits_lastMonth|numUpgradeVisits_lastMonth|numDowngradeVisits_lastMonth|numHomeVisits_lastMonth|numAboutVisits_lastMonth|numSettingsVisits_lastMonth|numSaveSettings_lastMonth|numLogins_lastMonth|numLogouts_lastMonth|numAddPlaylists_lastMonth|numFriends_lastMonth|numThumbsUp_lastMonth|numThumbsDown_lastMonth|numAdverts_lastMonth|numSongsPlayed_lastMonth|totalListenTime_lastMonth|avgSongsPerSession_lastMonth|numSingersPlayed_lastMonth|avgSingersPerSession_lastMonth|avgSessionMins_lastMonth|numSessions_lastMonth|level_lastMonth|numRegister_cum_old|numRegister_cum|numRegister_movAvg|numCancelVisits_cum_old|numCancelVisits_cum|numCancelVisits_movAvg|numUpgradeVisits_cum_old|numUpgradeVisits_cum|numUpgradeVisits_movAvg|numDowngradeVisits_cum_old|numDowngradeVisits_cum|numDowngradeVisits_movAvg|numHomeVisits_cum_old|numHomeVisits_cum|numHomeVisits_movAvg|numAboutVisits_cum_old|numAboutVisits_cum|numAboutVisits_movAvg|numSettingsVisits_cum_old|numSettingsVisits_cum|numSettingsVisits_movAvg|numSaveSettings_cum_old|numSaveSettings_cum|numSaveSettings_movAvg|numLogins_cum_old|numLogins_cum|numLogins_movAvg|numLogouts_cum_old|numLogouts_cum|numLogouts_movAvg|numAddPlaylists_cum_old|numAddPlaylists_cum|numAddPlaylists_movAvg|numFriends_cum_old|numFriends_cum|numFriends_movAvg|numThumbsUp_cum_old|numThumbsUp_cum|numThumbsUp_movAvg|numThumbsDown_cum_old|numThumbsDown_cum|numThumbsDown_movAvg|numAdverts_cum_old|numAdverts_cum|numAdverts_movAvg|numSongsPlayed_cum_old|numSongsPlayed_cum|numSongsPlayed_movAvg|totalListenTime_cum_old|totalListenTime_cum|totalListenTime_movAvg|avgSongsPerSession_cum_old|avgSongsPerSession_cum|avgSongsPerSession_movAvg|numSingersPlayed_cum_old|numSingersPlayed_cum|numSingersPlayed_movAvg|avgSingersPerSession_cum_old|avgSingersPerSession_cum|avgSingersPerSession_movAvg|avgSessionMins_cum_old|avgSessionMins_cum|avgSessionMins_movAvg|numSessions_cum_old|numSessions_cum|numSessions_movAvg|\n",
      "+------+---------+-----------+---------------+----------------+------------------+-------------+--------------+-----------------+---------------+---------+----------+---------------+----------+-----------+-------------+----------+--------------+------------------+------------------+----------------+--------------------+------------------+-----------+-----+------+------------+-----+---------------------+-------------------------+--------------------------+----------------------------+-----------------------+------------------------+---------------------------+-------------------------+-------------------+--------------------+-------------------------+--------------------+---------------------+-----------------------+--------------------+------------------------+-------------------------+----------------------------+--------------------------+------------------------------+------------------------+---------------------+---------------+-------------------+---------------+------------------+-----------------------+-------------------+----------------------+------------------------+--------------------+-----------------------+--------------------------+----------------------+-------------------------+---------------------+-----------------+--------------------+----------------------+------------------+---------------------+-------------------------+---------------------+------------------------+-----------------------+-------------------+----------------------+-----------------+-------------+----------------+------------------+--------------+-----------------+-----------------------+-------------------+----------------------+------------------+--------------+-----------------+-------------------+---------------+------------------+---------------------+-----------------+--------------------+------------------+--------------+-----------------+----------------------+------------------+---------------------+-----------------------+-------------------+----------------------+--------------------------+----------------------+-------------------------+------------------------+--------------------+-----------------------+----------------------------+------------------------+---------------------------+----------------------+------------------+---------------------+-------------------+---------------+------------------+\n",
      "|    55|        0|       null|           null|            null|              null|            5|          null|             null|           null|     null|         3|              4|      null|          4|            1|        12|           106|28080.879359999995|17.666666666666668|             104|                17.5| 85.83888888888889|          6|    0|     0|          20|    0|                 null|                     null|                      null|                        null|                   null|                    null|                       null|                     null|               null|                null|                     null|                null|                 null|                   null|                null|                    null|                     null|                        null|                      null|                          null|                    null|                 null|           null|               null|           null|              null|                   null|               null|                  null|                    null|                null|                   null|                      null|                  null|                     null|                    5|                0|                null|                  null|              null|                 null|                     null|                 null|                    null|                   null|               null|                  null|             null|         null|            null|                 3|             0|             null|                      4|                  0|                  null|              null|          null|             null|                  4|              0|              null|                    1|                0|                null|                12|             0|             null|                   106|                 0|                 null|     28080.879359999995|                0.0|                  null|        17.666666666666668|                   0.0|                     null|                     104|                   0|                   null|                        17.5|                     0.0|                       null|     85.83888888888889|               0.0|                 null|                  6|              0|              null|\n",
      "|    55|        1|       null|           null|               2|              null|           15|             1|                1|           null|     null|         3|              9|         8|         13|            4|        17|           275| 68838.64099000006|              55.0|             253|                52.2|254.15333333333336|          5|    1|     0|          51|    0|                 null|                     null|                      null|                        null|                      5|                    null|                       null|                     null|               null|                   3|                        4|                null|                    4|                      1|                  12|                     106|       28080.879359999995|          17.666666666666668|                       104|                          17.5|       85.83888888888889|                    6|              0|               null|           null|              null|                   null|               null|                  null|                       2|                   0|                    0.0|                      null|                  null|                     null|                   20|                5|                 5.0|                     1|                 0|                  0.0|                        1|                    0|                     0.0|                   null|               null|                  null|             null|         null|            null|                 6|             3|              3.0|                     13|                  4|                   4.0|                 8|             0|              0.0|                 17|              4|               4.0|                    5|                1|                 1.0|                29|            12|             12.0|                   381|               106|                106.0|      96919.52035000005|  28080.87935999999|     28080.87935999999|         72.66666666666667|     17.66666666666667|        17.66666666666667|                     357|                 104|                  104.0|                        69.7|                    17.5|                       17.5|    339.99222222222227|  85.8388888888889|     85.8388888888889|                 11|              6|               6.0|\n",
      "+------+---------+-----------+---------------+----------------+------------------+-------------+--------------+-----------------+---------------+---------+----------+---------------+----------+-----------+-------------+----------+--------------+------------------+------------------+----------------+--------------------+------------------+-----------+-----+------+------------+-----+---------------------+-------------------------+--------------------------+----------------------------+-----------------------+------------------------+---------------------------+-------------------------+-------------------+--------------------+-------------------------+--------------------+---------------------+-----------------------+--------------------+------------------------+-------------------------+----------------------------+--------------------------+------------------------------+------------------------+---------------------+---------------+-------------------+---------------+------------------+-----------------------+-------------------+----------------------+------------------------+--------------------+-----------------------+--------------------------+----------------------+-------------------------+---------------------+-----------------+--------------------+----------------------+------------------+---------------------+-------------------------+---------------------+------------------------+-----------------------+-------------------+----------------------+-----------------+-------------+----------------+------------------+--------------+-----------------+-----------------------+-------------------+----------------------+------------------+--------------+-----------------+-------------------+---------------+------------------+---------------------+-----------------+--------------------+------------------+--------------+-----------------+----------------------+------------------+---------------------+-----------------------+-------------------+----------------------+--------------------------+----------------------+-------------------------+------------------------+--------------------+-----------------------+----------------------------+------------------------+---------------------------+----------------------+------------------+---------------------+-------------------+---------------+------------------+\n",
      "\n"
     ]
    }
   ],
   "source": [
    "all_data.filter(all_data.userId==\"55\").show()"
   ]
  },
  {
   "cell_type": "code",
   "execution_count": 28,
   "metadata": {},
   "outputs": [
    {
     "name": "stdout",
     "output_type": "stream",
     "text": [
      "+------+---------+-----------+---------------+----------------+------------------+-------------+--------------+-----------------+---------------+---------+----------+---------------+----------+-----------+-------------+----------+--------------+---------------+------------------+----------------+--------------------+--------------+-----------+-----+------+------------+-----+---------------------+-------------------------+--------------------------+----------------------------+-----------------------+------------------------+---------------------------+-------------------------+-------------------+--------------------+-------------------------+--------------------+---------------------+-----------------------+--------------------+------------------------+-------------------------+----------------------------+--------------------------+------------------------------+------------------------+---------------------+---------------+-------------------+---------------+------------------+-----------------------+-------------------+----------------------+------------------------+--------------------+-----------------------+--------------------------+----------------------+-------------------------+---------------------+-----------------+--------------------+----------------------+------------------+---------------------+-------------------------+---------------------+------------------------+-----------------------+-------------------+----------------------+-----------------+-------------+----------------+------------------+--------------+-----------------+-----------------------+-------------------+----------------------+------------------+--------------+-----------------+-------------------+---------------+------------------+---------------------+-----------------+--------------------+------------------+--------------+-----------------+----------------------+------------------+---------------------+-----------------------+-------------------+----------------------+--------------------------+----------------------+-------------------------+------------------------+--------------------+-----------------------+----------------------------+------------------------+---------------------------+----------------------+------------------+---------------------+-------------------+---------------+------------------+\n",
      "|userId|month_num|numRegister|numCancelVisits|numUpgradeVisits|numDowngradeVisits|numHomeVisits|numAboutVisits|numSettingsVisits|numSaveSettings|numLogins|numLogouts|numAddPlaylists|numFriends|numThumbsUp|numThumbsDown|numAdverts|numSongsPlayed|totalListenTime|avgSongsPerSession|numSingersPlayed|avgSingersPerSession|avgSessionMins|numSessions|level|gender|daysSinceReg|churn|numRegister_lastMonth|numCancelVisits_lastMonth|numUpgradeVisits_lastMonth|numDowngradeVisits_lastMonth|numHomeVisits_lastMonth|numAboutVisits_lastMonth|numSettingsVisits_lastMonth|numSaveSettings_lastMonth|numLogins_lastMonth|numLogouts_lastMonth|numAddPlaylists_lastMonth|numFriends_lastMonth|numThumbsUp_lastMonth|numThumbsDown_lastMonth|numAdverts_lastMonth|numSongsPlayed_lastMonth|totalListenTime_lastMonth|avgSongsPerSession_lastMonth|numSingersPlayed_lastMonth|avgSingersPerSession_lastMonth|avgSessionMins_lastMonth|numSessions_lastMonth|level_lastMonth|numRegister_cum_old|numRegister_cum|numRegister_movAvg|numCancelVisits_cum_old|numCancelVisits_cum|numCancelVisits_movAvg|numUpgradeVisits_cum_old|numUpgradeVisits_cum|numUpgradeVisits_movAvg|numDowngradeVisits_cum_old|numDowngradeVisits_cum|numDowngradeVisits_movAvg|numHomeVisits_cum_old|numHomeVisits_cum|numHomeVisits_movAvg|numAboutVisits_cum_old|numAboutVisits_cum|numAboutVisits_movAvg|numSettingsVisits_cum_old|numSettingsVisits_cum|numSettingsVisits_movAvg|numSaveSettings_cum_old|numSaveSettings_cum|numSaveSettings_movAvg|numLogins_cum_old|numLogins_cum|numLogins_movAvg|numLogouts_cum_old|numLogouts_cum|numLogouts_movAvg|numAddPlaylists_cum_old|numAddPlaylists_cum|numAddPlaylists_movAvg|numFriends_cum_old|numFriends_cum|numFriends_movAvg|numThumbsUp_cum_old|numThumbsUp_cum|numThumbsUp_movAvg|numThumbsDown_cum_old|numThumbsDown_cum|numThumbsDown_movAvg|numAdverts_cum_old|numAdverts_cum|numAdverts_movAvg|numSongsPlayed_cum_old|numSongsPlayed_cum|numSongsPlayed_movAvg|totalListenTime_cum_old|totalListenTime_cum|totalListenTime_movAvg|avgSongsPerSession_cum_old|avgSongsPerSession_cum|avgSongsPerSession_movAvg|numSingersPlayed_cum_old|numSingersPlayed_cum|numSingersPlayed_movAvg|avgSingersPerSession_cum_old|avgSingersPerSession_cum|avgSingersPerSession_movAvg|avgSessionMins_cum_old|avgSessionMins_cum|avgSessionMins_movAvg|numSessions_cum_old|numSessions_cum|numSessions_movAvg|\n",
      "+------+---------+-----------+---------------+----------------+------------------+-------------+--------------+-----------------+---------------+---------+----------+---------------+----------+-----------+-------------+----------+--------------+---------------+------------------+----------------+--------------------+--------------+-----------+-----+------+------------+-----+---------------------+-------------------------+--------------------------+----------------------------+-----------------------+------------------------+---------------------------+-------------------------+-------------------+--------------------+-------------------------+--------------------+---------------------+-----------------------+--------------------+------------------------+-------------------------+----------------------------+--------------------------+------------------------------+------------------------+---------------------+---------------+-------------------+---------------+------------------+-----------------------+-------------------+----------------------+------------------------+--------------------+-----------------------+--------------------------+----------------------+-------------------------+---------------------+-----------------+--------------------+----------------------+------------------+---------------------+-------------------------+---------------------+------------------------+-----------------------+-------------------+----------------------+-----------------+-------------+----------------+------------------+--------------+-----------------+-----------------------+-------------------+----------------------+------------------+--------------+-----------------+-------------------+---------------+------------------+---------------------+-----------------+--------------------+------------------+--------------+-----------------+----------------------+------------------+---------------------+-----------------------+-------------------+----------------------+--------------------------+----------------------+-------------------------+------------------------+--------------------+-----------------------+----------------------------+------------------------+---------------------------+----------------------+------------------+---------------------+-------------------+---------------+------------------+\n",
      "|     0|        0|          0|              0|               0|                 0|            0|             0|                0|              0|        0|         0|              0|         0|          0|            0|         0|             0|              0|                 0|               0|                   0|             0|          0|    0|     0|           0|    0|                    0|                        0|                         0|                           0|                      0|                       0|                          0|                        0|                  0|                   0|                        0|                   0|                    0|                      0|                   0|                       0|                        0|                           0|                         0|                             0|                       0|                    0|            225|                  0|              0|                 0|                      0|                  0|                     0|                       0|                   0|                      0|                         0|                     0|                        0|                    0|                0|                   0|                     0|                 0|                    0|                        0|                    0|                       0|                      0|                  0|                     0|                0|            0|               0|                 0|             0|                0|                      0|                  0|                     0|                 0|             0|                0|                  0|              0|                 0|                    0|                0|                   0|                 0|             0|                0|                     0|                 0|                    0|                      0|                  0|                     0|                         0|                     0|                        0|                       0|                   0|                      0|                           0|                       0|                          0|                     0|                 0|                    0|                  0|              0|                 0|\n",
      "+------+---------+-----------+---------------+----------------+------------------+-------------+--------------+-----------------+---------------+---------+----------+---------------+----------+-----------+-------------+----------+--------------+---------------+------------------+----------------+--------------------+--------------+-----------+-----+------+------------+-----+---------------------+-------------------------+--------------------------+----------------------------+-----------------------+------------------------+---------------------------+-------------------------+-------------------+--------------------+-------------------------+--------------------+---------------------+-----------------------+--------------------+------------------------+-------------------------+----------------------------+--------------------------+------------------------------+------------------------+---------------------+---------------+-------------------+---------------+------------------+-----------------------+-------------------+----------------------+------------------------+--------------------+-----------------------+--------------------------+----------------------+-------------------------+---------------------+-----------------+--------------------+----------------------+------------------+---------------------+-------------------------+---------------------+------------------------+-----------------------+-------------------+----------------------+-----------------+-------------+----------------+------------------+--------------+-----------------+-----------------------+-------------------+----------------------+------------------+--------------+-----------------+-------------------+---------------+------------------+---------------------+-----------------+--------------------+------------------+--------------+-----------------+----------------------+------------------+---------------------+-----------------------+-------------------+----------------------+--------------------------+----------------------+-------------------------+------------------------+--------------------+-----------------------+----------------------------+------------------------+---------------------------+----------------------+------------------+---------------------+-------------------+---------------+------------------+\n",
      "\n"
     ]
    }
   ],
   "source": [
    "# fill na/null values with 0\n",
    "all_data = all_data.na.fill(0.0)\n",
    "\n",
    "# alternatively, can do this\n",
    "# df = df.fillna({'col':'4'})\n",
    "\n",
    "all_data.select([count(when(col(c).isNull(), c)).alias(c) for c in all_data.columns]).show()"
   ]
  },
  {
   "cell_type": "markdown",
   "metadata": {},
   "source": [
    "Before converting the data into a Pandas dataframe, it is ideal to do any aggregation with PySpark dataframe before converting it into a Pandas dataframe. This will ensure that the procedure is parallelized, and we will not run into memory issue when working with larger datasets"
   ]
  },
  {
   "cell_type": "code",
   "execution_count": 37,
   "metadata": {
    "scrolled": false
   },
   "outputs": [],
   "source": [
    "all_data_pd_1 = all_data \\\n",
    ".filter(all_data.month_num>=1) \\\n",
    ".select('numRegister_lastMonth','numCancelVisits_lastMonth',\\\n",
    "        'numUpgradeVisits_lastMonth', 'numDowngradeVisits_lastMonth',\\\n",
    "        'numHomeVisits_lastMonth', 'numAboutVisits_lastMonth',\\\n",
    "        'numSettingsVisits_lastMonth', 'numSaveSettings_lastMonth',\\\n",
    "        'numLogins_lastMonth', 'numLogouts_lastMonth',\\\n",
    "        'numAddPlaylists_lastMonth', 'numFriends_lastMonth',\\\n",
    "        'numThumbsUp_lastMonth', 'numThumbsDown_lastMonth',\\\n",
    "        'numAdverts_lastMonth',\\\n",
    "        'avgSongsPerSession_lastMonth',\\\n",
    "        'avgSingersPerSession_lastMonth',\\\n",
    "        'numSessions_lastMonth',\\\n",
    "        'daysSinceReg', 'churn'\n",
    "        ) \\\n",
    ".groupBy('churn') \\\n",
    ".agg(avg(all_data.numRegister_lastMonth).alias('avgNumRegister_lastMonth'),\\\n",
    "     avg(all_data.numCancelVisits_lastMonth).alias('avgNumCancelVisits_lastMonth'),\\\n",
    "     avg(all_data.numUpgradeVisits_lastMonth).alias('avgNumUpgradeVisits_lastMonth'),\\\n",
    "     avg(all_data.numDowngradeVisits_lastMonth).alias('avgNumDowngradeVisits_lastMonth'),\\\n",
    "     avg(all_data.numHomeVisits_lastMonth).alias('avgNumHomeVisits_lastMonth'),\\\n",
    "     avg(all_data.numAboutVisits_lastMonth).alias('avgNumAboutVisits_lastMonth'),\\\n",
    "     avg(all_data.numSettingsVisits_lastMonth).alias('avgNumSettingsVisits_lastMonth'),\\\n",
    "     avg(all_data.numSaveSettings_lastMonth).alias('avgNumSaveSettings_lastMonth'),\\\n",
    "     avg(all_data.numLogins_lastMonth).alias('avgNumLogins_lastMonth'),\\\n",
    "     avg(all_data.numLogouts_lastMonth).alias('avgNumLogouts_lastMonth'),\\\n",
    "     avg(all_data.numAddPlaylists_lastMonth).alias('avgNumAddPlaylists_lastMonth'),\\\n",
    "     avg(all_data.numFriends_lastMonth).alias('avgNumFriends_lastMonth'),\\\n",
    "     avg(all_data.numThumbsUp_lastMonth).alias('avgNumThumbsUp_lastMonth'),\\\n",
    "     avg(all_data.numThumbsDown_lastMonth).alias('avgNumThumbsDown_lastMonth'),\\\n",
    "     avg(all_data.numAdverts_lastMonth).alias('avgNumAdverts_lastMonth'),\\\n",
    "     avg(all_data.avgSongsPerSession_lastMonth).alias('avgAvgSongsPerSession_lastMonth'),\\\n",
    "     avg(all_data.avgSingersPerSession_lastMonth).alias('avgAvgSingersPerSession_lastMonth'),\\\n",
    "     avg(all_data.numSessions_lastMonth).alias('avgNumSessions_lastMonth'),\\\n",
    "     avg(all_data.daysSinceReg).alias('avgDaysSinceReg'),\\\n",
    "    ).toPandas()\n",
    "\n",
    "all_data_pd_2 = all_data \\\n",
    ".filter(all_data.month_num>=1) \\\n",
    ".select('numSongsPlayed_lastMonth',\\\n",
    "        'numSingersPlayed_lastMonth',\\\n",
    "        'avgSessionMins_lastMonth',\\\n",
    "        'churn'\n",
    "       ) \\\n",
    ".groupBy('churn') \\\n",
    ".agg(avg(all_data.numSongsPlayed_lastMonth).alias('avgNumSongsPlayed_lastMonth'),\\\n",
    "     avg(all_data.numSingersPlayed_lastMonth).alias('avgNumSingersPlayed_lastMonth'),\\\n",
    "     avg(all_data.avgSessionMins_lastMonth).alias('avgAvgSessionMins_lastMonth')\n",
    "    ).toPandas()\n",
    "\n",
    "all_data_pd_3 = all_data \\\n",
    ".filter(all_data.month_num>=1) \\\n",
    ".select('totalListenTime_lastMonth', 'churn') \\\n",
    ".groupBy('churn') \\\n",
    ".agg(avg(all_data.totalListenTime_lastMonth).alias('avgTotalListenTime_lastMonth')).toPandas()"
   ]
  },
  {
   "cell_type": "code",
   "execution_count": 38,
   "metadata": {},
   "outputs": [
    {
     "data": {
      "text/html": [
       "<div>\n",
       "<style>\n",
       "    .dataframe thead tr:only-child th {\n",
       "        text-align: right;\n",
       "    }\n",
       "\n",
       "    .dataframe thead th {\n",
       "        text-align: left;\n",
       "    }\n",
       "\n",
       "    .dataframe tbody tr th {\n",
       "        vertical-align: top;\n",
       "    }\n",
       "</style>\n",
       "<table border=\"1\" class=\"dataframe\">\n",
       "  <thead>\n",
       "    <tr style=\"text-align: right;\">\n",
       "      <th></th>\n",
       "      <th>churn</th>\n",
       "      <th>avgNumRegister_lastMonth</th>\n",
       "      <th>avgNumCancelVisits_lastMonth</th>\n",
       "      <th>avgNumUpgradeVisits_lastMonth</th>\n",
       "      <th>avgNumDowngradeVisits_lastMonth</th>\n",
       "      <th>avgNumHomeVisits_lastMonth</th>\n",
       "      <th>avgNumAboutVisits_lastMonth</th>\n",
       "      <th>avgNumSettingsVisits_lastMonth</th>\n",
       "      <th>avgNumSaveSettings_lastMonth</th>\n",
       "      <th>avgNumLogins_lastMonth</th>\n",
       "      <th>avgNumLogouts_lastMonth</th>\n",
       "      <th>avgNumAddPlaylists_lastMonth</th>\n",
       "      <th>avgNumFriends_lastMonth</th>\n",
       "      <th>avgNumThumbsUp_lastMonth</th>\n",
       "      <th>avgNumThumbsDown_lastMonth</th>\n",
       "      <th>avgNumAdverts_lastMonth</th>\n",
       "      <th>avgAvgSongsPerSession_lastMonth</th>\n",
       "      <th>avgAvgSingersPerSession_lastMonth</th>\n",
       "      <th>avgNumSessions_lastMonth</th>\n",
       "      <th>avgDaysSinceReg</th>\n",
       "    </tr>\n",
       "  </thead>\n",
       "  <tbody>\n",
       "    <tr>\n",
       "      <th>0</th>\n",
       "      <td>1</td>\n",
       "      <td>0.0</td>\n",
       "      <td>0.0</td>\n",
       "      <td>2.302326</td>\n",
       "      <td>8.558140</td>\n",
       "      <td>42.209302</td>\n",
       "      <td>2.023256</td>\n",
       "      <td>5.627907</td>\n",
       "      <td>1.232558</td>\n",
       "      <td>0.0</td>\n",
       "      <td>13.674419</td>\n",
       "      <td>29.302326</td>\n",
       "      <td>17.186047</td>\n",
       "      <td>52.116279</td>\n",
       "      <td>12.255814</td>\n",
       "      <td>20.325581</td>\n",
       "      <td>66.871948</td>\n",
       "      <td>62.816584</td>\n",
       "      <td>14.418605</td>\n",
       "      <td>65.953488</td>\n",
       "    </tr>\n",
       "    <tr>\n",
       "      <th>1</th>\n",
       "      <td>0</td>\n",
       "      <td>0.0</td>\n",
       "      <td>0.0</td>\n",
       "      <td>1.290541</td>\n",
       "      <td>3.790541</td>\n",
       "      <td>20.783784</td>\n",
       "      <td>1.020270</td>\n",
       "      <td>2.925676</td>\n",
       "      <td>0.567568</td>\n",
       "      <td>0.0</td>\n",
       "      <td>6.628378</td>\n",
       "      <td>12.952703</td>\n",
       "      <td>8.013514</td>\n",
       "      <td>26.635135</td>\n",
       "      <td>5.047297</td>\n",
       "      <td>8.959459</td>\n",
       "      <td>57.662526</td>\n",
       "      <td>54.016594</td>\n",
       "      <td>7.094595</td>\n",
       "      <td>63.932432</td>\n",
       "    </tr>\n",
       "  </tbody>\n",
       "</table>\n",
       "</div>"
      ],
      "text/plain": [
       "   churn  avgNumRegister_lastMonth  avgNumCancelVisits_lastMonth  \\\n",
       "0      1                       0.0                           0.0   \n",
       "1      0                       0.0                           0.0   \n",
       "\n",
       "   avgNumUpgradeVisits_lastMonth  avgNumDowngradeVisits_lastMonth  \\\n",
       "0                       2.302326                         8.558140   \n",
       "1                       1.290541                         3.790541   \n",
       "\n",
       "   avgNumHomeVisits_lastMonth  avgNumAboutVisits_lastMonth  \\\n",
       "0                   42.209302                     2.023256   \n",
       "1                   20.783784                     1.020270   \n",
       "\n",
       "   avgNumSettingsVisits_lastMonth  avgNumSaveSettings_lastMonth  \\\n",
       "0                        5.627907                      1.232558   \n",
       "1                        2.925676                      0.567568   \n",
       "\n",
       "   avgNumLogins_lastMonth  avgNumLogouts_lastMonth  \\\n",
       "0                     0.0                13.674419   \n",
       "1                     0.0                 6.628378   \n",
       "\n",
       "   avgNumAddPlaylists_lastMonth  avgNumFriends_lastMonth  \\\n",
       "0                     29.302326                17.186047   \n",
       "1                     12.952703                 8.013514   \n",
       "\n",
       "   avgNumThumbsUp_lastMonth  avgNumThumbsDown_lastMonth  \\\n",
       "0                 52.116279                   12.255814   \n",
       "1                 26.635135                    5.047297   \n",
       "\n",
       "   avgNumAdverts_lastMonth  avgAvgSongsPerSession_lastMonth  \\\n",
       "0                20.325581                        66.871948   \n",
       "1                 8.959459                        57.662526   \n",
       "\n",
       "   avgAvgSingersPerSession_lastMonth  avgNumSessions_lastMonth  \\\n",
       "0                          62.816584                 14.418605   \n",
       "1                          54.016594                  7.094595   \n",
       "\n",
       "   avgDaysSinceReg  \n",
       "0        65.953488  \n",
       "1        63.932432  "
      ]
     },
     "execution_count": 38,
     "metadata": {},
     "output_type": "execute_result"
    }
   ],
   "source": [
    "all_data_pd_1.head()"
   ]
  },
  {
   "cell_type": "code",
   "execution_count": 39,
   "metadata": {},
   "outputs": [
    {
     "data": {
      "text/html": [
       "<div>\n",
       "<style>\n",
       "    .dataframe thead tr:only-child th {\n",
       "        text-align: right;\n",
       "    }\n",
       "\n",
       "    .dataframe thead th {\n",
       "        text-align: left;\n",
       "    }\n",
       "\n",
       "    .dataframe tbody tr th {\n",
       "        vertical-align: top;\n",
       "    }\n",
       "</style>\n",
       "<table border=\"1\" class=\"dataframe\">\n",
       "  <thead>\n",
       "    <tr style=\"text-align: right;\">\n",
       "      <th></th>\n",
       "      <th>churn</th>\n",
       "      <th>avgNumSongsPlayed_lastMonth</th>\n",
       "      <th>avgNumSingersPlayed_lastMonth</th>\n",
       "      <th>avgAvgSessionMins_lastMonth</th>\n",
       "    </tr>\n",
       "  </thead>\n",
       "  <tbody>\n",
       "    <tr>\n",
       "      <th>0</th>\n",
       "      <td>1</td>\n",
       "      <td>951.813953</td>\n",
       "      <td>673.906977</td>\n",
       "      <td>267.891062</td>\n",
       "    </tr>\n",
       "    <tr>\n",
       "      <th>1</th>\n",
       "      <td>0</td>\n",
       "      <td>454.459459</td>\n",
       "      <td>358.439189</td>\n",
       "      <td>233.050389</td>\n",
       "    </tr>\n",
       "  </tbody>\n",
       "</table>\n",
       "</div>"
      ],
      "text/plain": [
       "   churn  avgNumSongsPlayed_lastMonth  avgNumSingersPlayed_lastMonth  \\\n",
       "0      1                   951.813953                     673.906977   \n",
       "1      0                   454.459459                     358.439189   \n",
       "\n",
       "   avgAvgSessionMins_lastMonth  \n",
       "0                   267.891062  \n",
       "1                   233.050389  "
      ]
     },
     "execution_count": 39,
     "metadata": {},
     "output_type": "execute_result"
    }
   ],
   "source": [
    "all_data_pd_2.head()"
   ]
  },
  {
   "cell_type": "code",
   "execution_count": 44,
   "metadata": {},
   "outputs": [
    {
     "data": {
      "text/html": [
       "<div>\n",
       "<style>\n",
       "    .dataframe thead tr:only-child th {\n",
       "        text-align: right;\n",
       "    }\n",
       "\n",
       "    .dataframe thead th {\n",
       "        text-align: left;\n",
       "    }\n",
       "\n",
       "    .dataframe tbody tr th {\n",
       "        vertical-align: top;\n",
       "    }\n",
       "</style>\n",
       "<table border=\"1\" class=\"dataframe\">\n",
       "  <thead>\n",
       "    <tr style=\"text-align: right;\">\n",
       "      <th></th>\n",
       "      <th>churn</th>\n",
       "      <th>avgTotalListenTime_lastMonth</th>\n",
       "    </tr>\n",
       "  </thead>\n",
       "  <tbody>\n",
       "    <tr>\n",
       "      <th>0</th>\n",
       "      <td>1</td>\n",
       "      <td>236809.314315</td>\n",
       "    </tr>\n",
       "    <tr>\n",
       "      <th>1</th>\n",
       "      <td>0</td>\n",
       "      <td>113076.395723</td>\n",
       "    </tr>\n",
       "  </tbody>\n",
       "</table>\n",
       "</div>"
      ],
      "text/plain": [
       "   churn  avgTotalListenTime_lastMonth\n",
       "0      1                 236809.314315\n",
       "1      0                 113076.395723"
      ]
     },
     "execution_count": 44,
     "metadata": {},
     "output_type": "execute_result"
    }
   ],
   "source": [
    "all_data_pd_3.head()"
   ]
  },
  {
   "cell_type": "code",
   "execution_count": 45,
   "metadata": {},
   "outputs": [
    {
     "data": {
      "text/html": [
       "<div>\n",
       "<style>\n",
       "    .dataframe thead tr:only-child th {\n",
       "        text-align: right;\n",
       "    }\n",
       "\n",
       "    .dataframe thead th {\n",
       "        text-align: left;\n",
       "    }\n",
       "\n",
       "    .dataframe tbody tr th {\n",
       "        vertical-align: top;\n",
       "    }\n",
       "</style>\n",
       "<table border=\"1\" class=\"dataframe\">\n",
       "  <thead>\n",
       "    <tr style=\"text-align: right;\">\n",
       "      <th></th>\n",
       "      <th>0</th>\n",
       "      <th>1</th>\n",
       "    </tr>\n",
       "  </thead>\n",
       "  <tbody>\n",
       "    <tr>\n",
       "      <th>churn</th>\n",
       "      <td>1.000000</td>\n",
       "      <td>0.000000</td>\n",
       "    </tr>\n",
       "    <tr>\n",
       "      <th>avgNumRegister_lastMonth</th>\n",
       "      <td>0.000000</td>\n",
       "      <td>0.000000</td>\n",
       "    </tr>\n",
       "    <tr>\n",
       "      <th>avgNumCancelVisits_lastMonth</th>\n",
       "      <td>0.000000</td>\n",
       "      <td>0.000000</td>\n",
       "    </tr>\n",
       "    <tr>\n",
       "      <th>avgNumUpgradeVisits_lastMonth</th>\n",
       "      <td>2.302326</td>\n",
       "      <td>1.290541</td>\n",
       "    </tr>\n",
       "    <tr>\n",
       "      <th>avgNumDowngradeVisits_lastMonth</th>\n",
       "      <td>8.558140</td>\n",
       "      <td>3.790541</td>\n",
       "    </tr>\n",
       "    <tr>\n",
       "      <th>avgNumHomeVisits_lastMonth</th>\n",
       "      <td>42.209302</td>\n",
       "      <td>20.783784</td>\n",
       "    </tr>\n",
       "    <tr>\n",
       "      <th>avgNumAboutVisits_lastMonth</th>\n",
       "      <td>2.023256</td>\n",
       "      <td>1.020270</td>\n",
       "    </tr>\n",
       "    <tr>\n",
       "      <th>avgNumSettingsVisits_lastMonth</th>\n",
       "      <td>5.627907</td>\n",
       "      <td>2.925676</td>\n",
       "    </tr>\n",
       "    <tr>\n",
       "      <th>avgNumSaveSettings_lastMonth</th>\n",
       "      <td>1.232558</td>\n",
       "      <td>0.567568</td>\n",
       "    </tr>\n",
       "    <tr>\n",
       "      <th>avgNumLogins_lastMonth</th>\n",
       "      <td>0.000000</td>\n",
       "      <td>0.000000</td>\n",
       "    </tr>\n",
       "    <tr>\n",
       "      <th>avgNumLogouts_lastMonth</th>\n",
       "      <td>13.674419</td>\n",
       "      <td>6.628378</td>\n",
       "    </tr>\n",
       "    <tr>\n",
       "      <th>avgNumAddPlaylists_lastMonth</th>\n",
       "      <td>29.302326</td>\n",
       "      <td>12.952703</td>\n",
       "    </tr>\n",
       "    <tr>\n",
       "      <th>avgNumFriends_lastMonth</th>\n",
       "      <td>17.186047</td>\n",
       "      <td>8.013514</td>\n",
       "    </tr>\n",
       "    <tr>\n",
       "      <th>avgNumThumbsUp_lastMonth</th>\n",
       "      <td>52.116279</td>\n",
       "      <td>26.635135</td>\n",
       "    </tr>\n",
       "    <tr>\n",
       "      <th>avgNumThumbsDown_lastMonth</th>\n",
       "      <td>12.255814</td>\n",
       "      <td>5.047297</td>\n",
       "    </tr>\n",
       "    <tr>\n",
       "      <th>avgNumAdverts_lastMonth</th>\n",
       "      <td>20.325581</td>\n",
       "      <td>8.959459</td>\n",
       "    </tr>\n",
       "    <tr>\n",
       "      <th>avgAvgSongsPerSession_lastMonth</th>\n",
       "      <td>66.871948</td>\n",
       "      <td>57.662526</td>\n",
       "    </tr>\n",
       "    <tr>\n",
       "      <th>avgAvgSingersPerSession_lastMonth</th>\n",
       "      <td>62.816584</td>\n",
       "      <td>54.016594</td>\n",
       "    </tr>\n",
       "    <tr>\n",
       "      <th>avgNumSessions_lastMonth</th>\n",
       "      <td>14.418605</td>\n",
       "      <td>7.094595</td>\n",
       "    </tr>\n",
       "    <tr>\n",
       "      <th>avgDaysSinceReg</th>\n",
       "      <td>65.953488</td>\n",
       "      <td>63.932432</td>\n",
       "    </tr>\n",
       "  </tbody>\n",
       "</table>\n",
       "</div>"
      ],
      "text/plain": [
       "                                           0          1\n",
       "churn                               1.000000   0.000000\n",
       "avgNumRegister_lastMonth            0.000000   0.000000\n",
       "avgNumCancelVisits_lastMonth        0.000000   0.000000\n",
       "avgNumUpgradeVisits_lastMonth       2.302326   1.290541\n",
       "avgNumDowngradeVisits_lastMonth     8.558140   3.790541\n",
       "avgNumHomeVisits_lastMonth         42.209302  20.783784\n",
       "avgNumAboutVisits_lastMonth         2.023256   1.020270\n",
       "avgNumSettingsVisits_lastMonth      5.627907   2.925676\n",
       "avgNumSaveSettings_lastMonth        1.232558   0.567568\n",
       "avgNumLogins_lastMonth              0.000000   0.000000\n",
       "avgNumLogouts_lastMonth            13.674419   6.628378\n",
       "avgNumAddPlaylists_lastMonth       29.302326  12.952703\n",
       "avgNumFriends_lastMonth            17.186047   8.013514\n",
       "avgNumThumbsUp_lastMonth           52.116279  26.635135\n",
       "avgNumThumbsDown_lastMonth         12.255814   5.047297\n",
       "avgNumAdverts_lastMonth            20.325581   8.959459\n",
       "avgAvgSongsPerSession_lastMonth    66.871948  57.662526\n",
       "avgAvgSingersPerSession_lastMonth  62.816584  54.016594\n",
       "avgNumSessions_lastMonth           14.418605   7.094595\n",
       "avgDaysSinceReg                    65.953488  63.932432"
      ]
     },
     "execution_count": 45,
     "metadata": {},
     "output_type": "execute_result"
    }
   ],
   "source": [
    "all_data_pd_1.T"
   ]
  },
  {
   "cell_type": "code",
   "execution_count": 52,
   "metadata": {},
   "outputs": [
    {
     "data": {
      "image/png": "[encoded data removed]",
      "text/plain": [
       "<matplotlib.figure.Figure at 0x7f60e41da470>"
      ]
     },
     "metadata": {
      "needs_background": "light"
     },
     "output_type": "display_data"
    }
   ],
   "source": [
    "fig, ax = plt.subplots(figsize=(10,10))\n",
    "all_data_pd_1.drop('churn', axis=1).T.plot.barh(ax=ax);\n",
    "ax.set_xlabel(\"Number of Customers\", fontsize=14)\n",
    "ax.legend([\"Churned\", \"Did Not Churn\"], fontsize=14);"
   ]
  },
  {
   "cell_type": "code",
   "execution_count": 53,
   "metadata": {},
   "outputs": [
    {
     "data": {
      "image/png": "[encoded data removed]",
      "text/plain": [
       "<matplotlib.figure.Figure at 0x7f60e4050c88>"
      ]
     },
     "metadata": {
      "needs_background": "light"
     },
     "output_type": "display_data"
    }
   ],
   "source": [
    "all_data_pd_2.drop('churn', axis=1).T.plot.barh(figsize=(7,7));"
   ]
  },
  {
   "cell_type": "code",
   "execution_count": 54,
   "metadata": {},
   "outputs": [
    {
     "data": {
      "image/png": "[encoded data removed]",
      "text/plain": [
       "<matplotlib.figure.Figure at 0x7f60e4056080>"
      ]
     },
     "metadata": {
      "needs_background": "light"
     },
     "output_type": "display_data"
    }
   ],
   "source": [
    "all_data_pd_3.drop('churn', axis=1).T.plot.barh(figsize=(6,6));"
   ]
  },
  {
   "cell_type": "code",
   "execution_count": 56,
   "metadata": {},
   "outputs": [],
   "source": [
    "# 'level_lastMonth', 'gender',\n",
    "\n",
    "all_data_pd_4 = all_data \\\n",
    ".filter(all_data.month_num>=1) \\\n",
    ".select('level_lastMonth', 'churn') \\\n",
    ".groupBy('churn') \\\n",
    ".agg(count(all_data.level_lastMonth).alias('level_lastMonth')).toPandas()"
   ]
  },
  {
   "cell_type": "code",
   "execution_count": 61,
   "metadata": {},
   "outputs": [
    {
     "name": "stdout",
     "output_type": "stream",
     "text": [
      "+-----+---------------+-----+\n",
      "|churn|level_lastMonth|count|\n",
      "+-----+---------------+-----+\n",
      "|    1|              0|    6|\n",
      "|    0|              1|   84|\n",
      "|    0|              0|   52|\n",
      "|    1|              1|   37|\n",
      "|    0|           null|   12|\n",
      "+-----+---------------+-----+\n",
      "\n"
     ]
    }
   ],
   "source": [
    "all_data \\\n",
    ".filter(all_data.month_num>=1) \\\n",
    ".select('level_lastMonth', 'churn') \\\n",
    ".groupBy('churn', 'level_lastMonth').count().show()"
   ]
  },
  {
   "cell_type": "code",
   "execution_count": 64,
   "metadata": {},
   "outputs": [],
   "source": [
    "all_data_pd_4 = all_data \\\n",
    ".filter(all_data.month_num>=1) \\\n",
    ".select('level_lastMonth', 'churn') \\\n",
    ".groupBy('churn', 'level_lastMonth').count().toPandas()"
   ]
  },
  {
   "cell_type": "code",
   "execution_count": 65,
   "metadata": {},
   "outputs": [
    {
     "data": {
      "text/html": [
       "<div>\n",
       "<style>\n",
       "    .dataframe thead tr:only-child th {\n",
       "        text-align: right;\n",
       "    }\n",
       "\n",
       "    .dataframe thead th {\n",
       "        text-align: left;\n",
       "    }\n",
       "\n",
       "    .dataframe tbody tr th {\n",
       "        vertical-align: top;\n",
       "    }\n",
       "</style>\n",
       "<table border=\"1\" class=\"dataframe\">\n",
       "  <thead>\n",
       "    <tr style=\"text-align: right;\">\n",
       "      <th></th>\n",
       "      <th>churn</th>\n",
       "      <th>level_lastMonth</th>\n",
       "      <th>count</th>\n",
       "    </tr>\n",
       "  </thead>\n",
       "  <tbody>\n",
       "    <tr>\n",
       "      <th>0</th>\n",
       "      <td>1</td>\n",
       "      <td>0</td>\n",
       "      <td>6</td>\n",
       "    </tr>\n",
       "    <tr>\n",
       "      <th>1</th>\n",
       "      <td>0</td>\n",
       "      <td>1</td>\n",
       "      <td>84</td>\n",
       "    </tr>\n",
       "    <tr>\n",
       "      <th>2</th>\n",
       "      <td>0</td>\n",
       "      <td>0</td>\n",
       "      <td>52</td>\n",
       "    </tr>\n",
       "    <tr>\n",
       "      <th>3</th>\n",
       "      <td>1</td>\n",
       "      <td>1</td>\n",
       "      <td>37</td>\n",
       "    </tr>\n",
       "    <tr>\n",
       "      <th>4</th>\n",
       "      <td>0</td>\n",
       "      <td>None</td>\n",
       "      <td>12</td>\n",
       "    </tr>\n",
       "  </tbody>\n",
       "</table>\n",
       "</div>"
      ],
      "text/plain": [
       "   churn level_lastMonth  count\n",
       "0      1               0      6\n",
       "1      0               1     84\n",
       "2      0               0     52\n",
       "3      1               1     37\n",
       "4      0            None     12"
      ]
     },
     "execution_count": 65,
     "metadata": {},
     "output_type": "execute_result"
    }
   ],
   "source": [
    "all_data_pd_4.head()"
   ]
  },
  {
   "cell_type": "code",
   "execution_count": 68,
   "metadata": {},
   "outputs": [
    {
     "data": {
      "text/html": [
       "<div>\n",
       "<style>\n",
       "    .dataframe thead tr:only-child th {\n",
       "        text-align: right;\n",
       "    }\n",
       "\n",
       "    .dataframe thead th {\n",
       "        text-align: left;\n",
       "    }\n",
       "\n",
       "    .dataframe tbody tr th {\n",
       "        vertical-align: top;\n",
       "    }\n",
       "</style>\n",
       "<table border=\"1\" class=\"dataframe\">\n",
       "  <thead>\n",
       "    <tr style=\"text-align: right;\">\n",
       "      <th></th>\n",
       "      <th></th>\n",
       "      <th>count</th>\n",
       "    </tr>\n",
       "    <tr>\n",
       "      <th>churn</th>\n",
       "      <th>level_lastMonth</th>\n",
       "      <th></th>\n",
       "    </tr>\n",
       "  </thead>\n",
       "  <tbody>\n",
       "    <tr>\n",
       "      <th rowspan=\"2\" valign=\"top\">0</th>\n",
       "      <th>0</th>\n",
       "      <td>52</td>\n",
       "    </tr>\n",
       "    <tr>\n",
       "      <th>1</th>\n",
       "      <td>84</td>\n",
       "    </tr>\n",
       "    <tr>\n",
       "      <th rowspan=\"2\" valign=\"top\">1</th>\n",
       "      <th>0</th>\n",
       "      <td>6</td>\n",
       "    </tr>\n",
       "    <tr>\n",
       "      <th>1</th>\n",
       "      <td>37</td>\n",
       "    </tr>\n",
       "  </tbody>\n",
       "</table>\n",
       "</div>"
      ],
      "text/plain": [
       "                       count\n",
       "churn level_lastMonth       \n",
       "0     0                   52\n",
       "      1                   84\n",
       "1     0                    6\n",
       "      1                   37"
      ]
     },
     "execution_count": 68,
     "metadata": {},
     "output_type": "execute_result"
    }
   ],
   "source": [
    "all_data_pd_4.groupby(['churn', 'level_lastMonth']).agg({'count':'sum'})"
   ]
  },
  {
   "cell_type": "code",
   "execution_count": 71,
   "metadata": {},
   "outputs": [
    {
     "data": {
      "image/png": "[encoded data removed]",
      "text/plain": [
       "<matplotlib.figure.Figure at 0x7f60e44a1198>"
      ]
     },
     "metadata": {
      "needs_background": "light"
     },
     "output_type": "display_data"
    }
   ],
   "source": [
    "fig, ax = plt.subplots(figsize=(7,7));\n",
    "all_data_pd_4.groupby(['churn', 'level_lastMonth']).agg({'count':'sum'}).unstack().plot.bar(ax=ax);\n",
    "ax.legend([\"Free Last Month\", \"Premium Last Month\"], fontsize=14);\n",
    "ax.set_xticklabels([\"Did Not Churn\",\"Churned\"], fontsize=12);\n",
    "ax.set_ylabel(\"Number of Customers\", fontsize=14);"
   ]
  },
  {
   "cell_type": "code",
   "execution_count": 73,
   "metadata": {},
   "outputs": [
    {
     "data": {
      "image/png": "[encoded data removed]",
      "text/plain": [
       "<matplotlib.figure.Figure at 0x7f60de7a0ef0>"
      ]
     },
     "metadata": {
      "needs_background": "light"
     },
     "output_type": "display_data"
    }
   ],
   "source": [
    "all_data_pd_5 = all_data \\\n",
    ".filter(all_data.month_num>=1) \\\n",
    ".select('gender', 'churn') \\\n",
    ".groupBy('churn', 'gender').count().toPandas()\n",
    "\n",
    "all_data_pd_5.groupby(['churn', 'gender']).agg({'count':'sum'})\n",
    "\n",
    "fig, ax = plt.subplots(figsize=(7,7));\n",
    "all_data_pd_5.groupby(['churn', 'gender']).agg({'count':'sum'}).unstack().plot.bar(ax=ax);\n",
    "ax.legend([\"Male\", \"Female\"], fontsize=14);\n",
    "ax.set_xticklabels([\"Did Not Churn\",\"Churned\"], fontsize=12);\n",
    "ax.set_ylabel(\"Number of Customers\", fontsize=14);"
   ]
  },
  {
   "cell_type": "markdown",
   "metadata": {},
   "source": [
    "Old method of visualizing data. This involved converting the whole Spark dataframe into a pandas dataframe, which is not an efficient and parallelizable procedure."
   ]
  },
  {
   "cell_type": "code",
   "execution_count": 32,
   "metadata": {},
   "outputs": [],
   "source": [
    "# visualize 1 month lag values\n",
    "all_data_pd = all_data \\\n",
    ".filter(all_data.month_num>=1) \\\n",
    ".select('numRegister_lastMonth','numCancelVisits_lastMonth',\\\n",
    "        'numUpgradeVisits_lastMonth', 'numDowngradeVisits_lastMonth',\\\n",
    "        'numHomeVisits_lastMonth', 'numAboutVisits_lastMonth',\\\n",
    "        'numSettingsVisits_lastMonth', 'numSaveSettings_lastMonth',\\\n",
    "        'numLogins_lastMonth', 'numLogouts_lastMonth',\\\n",
    "        'numAddPlaylists_lastMonth', 'numFriends_lastMonth',\\\n",
    "        'numThumbsUp_lastMonth', 'numThumbsDown_lastMonth',\\\n",
    "        'numAdverts_lastMonth', 'numSongsPlayed_lastMonth',\\\n",
    "        'totalListenTime_lastMonth', 'avgSongsPerSession_lastMonth',\\\n",
    "        'numSingersPlayed_lastMonth', 'avgSingersPerSession_lastMonth',\\\n",
    "        'avgSessionMins_lastMonth', 'numSessions_lastMonth',\\\n",
    "        'level_lastMonth', 'gender', 'daysSinceReg', 'churn'\n",
    "        ).toPandas()"
   ]
  },
  {
   "cell_type": "code",
   "execution_count": 33,
   "metadata": {},
   "outputs": [
    {
     "data": {
      "text/html": [
       "<div>\n",
       "<style>\n",
       "    .dataframe thead tr:only-child th {\n",
       "        text-align: right;\n",
       "    }\n",
       "\n",
       "    .dataframe thead th {\n",
       "        text-align: left;\n",
       "    }\n",
       "\n",
       "    .dataframe tbody tr th {\n",
       "        vertical-align: top;\n",
       "    }\n",
       "</style>\n",
       "<table border=\"1\" class=\"dataframe\">\n",
       "  <thead>\n",
       "    <tr style=\"text-align: right;\">\n",
       "      <th></th>\n",
       "      <th>numRegister_lastMonth</th>\n",
       "      <th>numCancelVisits_lastMonth</th>\n",
       "      <th>numUpgradeVisits_lastMonth</th>\n",
       "      <th>numDowngradeVisits_lastMonth</th>\n",
       "      <th>numHomeVisits_lastMonth</th>\n",
       "      <th>numAboutVisits_lastMonth</th>\n",
       "      <th>numSettingsVisits_lastMonth</th>\n",
       "      <th>numSaveSettings_lastMonth</th>\n",
       "      <th>numLogins_lastMonth</th>\n",
       "      <th>numLogouts_lastMonth</th>\n",
       "      <th>...</th>\n",
       "      <th>totalListenTime_lastMonth</th>\n",
       "      <th>avgSongsPerSession_lastMonth</th>\n",
       "      <th>numSingersPlayed_lastMonth</th>\n",
       "      <th>avgSingersPerSession_lastMonth</th>\n",
       "      <th>avgSessionMins_lastMonth</th>\n",
       "      <th>numSessions_lastMonth</th>\n",
       "      <th>level_lastMonth</th>\n",
       "      <th>gender</th>\n",
       "      <th>daysSinceReg</th>\n",
       "      <th>churn</th>\n",
       "    </tr>\n",
       "  </thead>\n",
       "  <tbody>\n",
       "    <tr>\n",
       "      <th>0</th>\n",
       "      <td>0</td>\n",
       "      <td>0</td>\n",
       "      <td>1</td>\n",
       "      <td>0</td>\n",
       "      <td>6</td>\n",
       "      <td>0</td>\n",
       "      <td>0</td>\n",
       "      <td>0</td>\n",
       "      <td>0</td>\n",
       "      <td>2</td>\n",
       "      <td>...</td>\n",
       "      <td>28266.62965</td>\n",
       "      <td>30.000000</td>\n",
       "      <td>116</td>\n",
       "      <td>29.500000</td>\n",
       "      <td>112.033333</td>\n",
       "      <td>4</td>\n",
       "      <td>0</td>\n",
       "      <td>1</td>\n",
       "      <td>35</td>\n",
       "      <td>0</td>\n",
       "    </tr>\n",
       "    <tr>\n",
       "      <th>1</th>\n",
       "      <td>0</td>\n",
       "      <td>0</td>\n",
       "      <td>2</td>\n",
       "      <td>3</td>\n",
       "      <td>14</td>\n",
       "      <td>2</td>\n",
       "      <td>3</td>\n",
       "      <td>0</td>\n",
       "      <td>0</td>\n",
       "      <td>3</td>\n",
       "      <td>...</td>\n",
       "      <td>64662.97119</td>\n",
       "      <td>53.400000</td>\n",
       "      <td>243</td>\n",
       "      <td>52.400000</td>\n",
       "      <td>220.190000</td>\n",
       "      <td>5</td>\n",
       "      <td>1</td>\n",
       "      <td>0</td>\n",
       "      <td>56</td>\n",
       "      <td>0</td>\n",
       "    </tr>\n",
       "    <tr>\n",
       "      <th>2</th>\n",
       "      <td>0</td>\n",
       "      <td>0</td>\n",
       "      <td>0</td>\n",
       "      <td>24</td>\n",
       "      <td>105</td>\n",
       "      <td>2</td>\n",
       "      <td>9</td>\n",
       "      <td>3</td>\n",
       "      <td>0</td>\n",
       "      <td>37</td>\n",
       "      <td>...</td>\n",
       "      <td>547278.07597</td>\n",
       "      <td>169.538462</td>\n",
       "      <td>1425</td>\n",
       "      <td>152.769231</td>\n",
       "      <td>698.258974</td>\n",
       "      <td>13</td>\n",
       "      <td>1</td>\n",
       "      <td>1</td>\n",
       "      <td>102</td>\n",
       "      <td>0</td>\n",
       "    </tr>\n",
       "    <tr>\n",
       "      <th>3</th>\n",
       "      <td>0</td>\n",
       "      <td>0</td>\n",
       "      <td>2</td>\n",
       "      <td>0</td>\n",
       "      <td>6</td>\n",
       "      <td>0</td>\n",
       "      <td>2</td>\n",
       "      <td>0</td>\n",
       "      <td>0</td>\n",
       "      <td>1</td>\n",
       "      <td>...</td>\n",
       "      <td>27828.06488</td>\n",
       "      <td>27.250000</td>\n",
       "      <td>102</td>\n",
       "      <td>26.500000</td>\n",
       "      <td>113.125000</td>\n",
       "      <td>4</td>\n",
       "      <td>0</td>\n",
       "      <td>0</td>\n",
       "      <td>51</td>\n",
       "      <td>0</td>\n",
       "    </tr>\n",
       "    <tr>\n",
       "      <th>4</th>\n",
       "      <td>0</td>\n",
       "      <td>0</td>\n",
       "      <td>0</td>\n",
       "      <td>16</td>\n",
       "      <td>58</td>\n",
       "      <td>1</td>\n",
       "      <td>12</td>\n",
       "      <td>1</td>\n",
       "      <td>0</td>\n",
       "      <td>19</td>\n",
       "      <td>...</td>\n",
       "      <td>279580.62019</td>\n",
       "      <td>139.625000</td>\n",
       "      <td>842</td>\n",
       "      <td>130.500000</td>\n",
       "      <td>517.001852</td>\n",
       "      <td>9</td>\n",
       "      <td>1</td>\n",
       "      <td>0</td>\n",
       "      <td>33</td>\n",
       "      <td>0</td>\n",
       "    </tr>\n",
       "  </tbody>\n",
       "</table>\n",
       "<p>5 rows × 26 columns</p>\n",
       "</div>"
      ],
      "text/plain": [
       "   numRegister_lastMonth  numCancelVisits_lastMonth  \\\n",
       "0                      0                          0   \n",
       "1                      0                          0   \n",
       "2                      0                          0   \n",
       "3                      0                          0   \n",
       "4                      0                          0   \n",
       "\n",
       "   numUpgradeVisits_lastMonth  numDowngradeVisits_lastMonth  \\\n",
       "0                           1                             0   \n",
       "1                           2                             3   \n",
       "2                           0                            24   \n",
       "3                           2                             0   \n",
       "4                           0                            16   \n",
       "\n",
       "   numHomeVisits_lastMonth  numAboutVisits_lastMonth  \\\n",
       "0                        6                         0   \n",
       "1                       14                         2   \n",
       "2                      105                         2   \n",
       "3                        6                         0   \n",
       "4                       58                         1   \n",
       "\n",
       "   numSettingsVisits_lastMonth  numSaveSettings_lastMonth  \\\n",
       "0                            0                          0   \n",
       "1                            3                          0   \n",
       "2                            9                          3   \n",
       "3                            2                          0   \n",
       "4                           12                          1   \n",
       "\n",
       "   numLogins_lastMonth  numLogouts_lastMonth  ...    \\\n",
       "0                    0                     2  ...     \n",
       "1                    0                     3  ...     \n",
       "2                    0                    37  ...     \n",
       "3                    0                     1  ...     \n",
       "4                    0                    19  ...     \n",
       "\n",
       "   totalListenTime_lastMonth  avgSongsPerSession_lastMonth  \\\n",
       "0                28266.62965                     30.000000   \n",
       "1                64662.97119                     53.400000   \n",
       "2               547278.07597                    169.538462   \n",
       "3                27828.06488                     27.250000   \n",
       "4               279580.62019                    139.625000   \n",
       "\n",
       "   numSingersPlayed_lastMonth  avgSingersPerSession_lastMonth  \\\n",
       "0                         116                       29.500000   \n",
       "1                         243                       52.400000   \n",
       "2                        1425                      152.769231   \n",
       "3                         102                       26.500000   \n",
       "4                         842                      130.500000   \n",
       "\n",
       "   avgSessionMins_lastMonth  numSessions_lastMonth  level_lastMonth  gender  \\\n",
       "0                112.033333                      4                0       1   \n",
       "1                220.190000                      5                1       0   \n",
       "2                698.258974                     13                1       1   \n",
       "3                113.125000                      4                0       0   \n",
       "4                517.001852                      9                1       0   \n",
       "\n",
       "   daysSinceReg  churn  \n",
       "0            35      0  \n",
       "1            56      0  \n",
       "2           102      0  \n",
       "3            51      0  \n",
       "4            33      0  \n",
       "\n",
       "[5 rows x 26 columns]"
      ]
     },
     "execution_count": 33,
     "metadata": {},
     "output_type": "execute_result"
    }
   ],
   "source": [
    "all_data_pd.head()"
   ]
  },
  {
   "cell_type": "code",
   "execution_count": 34,
   "metadata": {},
   "outputs": [
    {
     "data": {
      "text/html": [
       "<div>\n",
       "<style>\n",
       "    .dataframe thead tr:only-child th {\n",
       "        text-align: right;\n",
       "    }\n",
       "\n",
       "    .dataframe thead th {\n",
       "        text-align: left;\n",
       "    }\n",
       "\n",
       "    .dataframe tbody tr th {\n",
       "        vertical-align: top;\n",
       "    }\n",
       "</style>\n",
       "<table border=\"1\" class=\"dataframe\">\n",
       "  <thead>\n",
       "    <tr style=\"text-align: right;\">\n",
       "      <th></th>\n",
       "      <th>numRegister_lastMonth</th>\n",
       "      <th>numCancelVisits_lastMonth</th>\n",
       "      <th>numUpgradeVisits_lastMonth</th>\n",
       "      <th>numDowngradeVisits_lastMonth</th>\n",
       "      <th>numHomeVisits_lastMonth</th>\n",
       "      <th>numAboutVisits_lastMonth</th>\n",
       "      <th>numSettingsVisits_lastMonth</th>\n",
       "      <th>numSaveSettings_lastMonth</th>\n",
       "      <th>numLogins_lastMonth</th>\n",
       "      <th>numLogouts_lastMonth</th>\n",
       "      <th>...</th>\n",
       "      <th>totalListenTime_lastMonth</th>\n",
       "      <th>avgSongsPerSession_lastMonth</th>\n",
       "      <th>numSingersPlayed_lastMonth</th>\n",
       "      <th>avgSingersPerSession_lastMonth</th>\n",
       "      <th>avgSessionMins_lastMonth</th>\n",
       "      <th>numSessions_lastMonth</th>\n",
       "      <th>level_lastMonth</th>\n",
       "      <th>gender</th>\n",
       "      <th>daysSinceReg</th>\n",
       "      <th>churn</th>\n",
       "    </tr>\n",
       "  </thead>\n",
       "  <tbody>\n",
       "  </tbody>\n",
       "</table>\n",
       "<p>0 rows × 26 columns</p>\n",
       "</div>"
      ],
      "text/plain": [
       "Empty DataFrame\n",
       "Columns: [numRegister_lastMonth, numCancelVisits_lastMonth, numUpgradeVisits_lastMonth, numDowngradeVisits_lastMonth, numHomeVisits_lastMonth, numAboutVisits_lastMonth, numSettingsVisits_lastMonth, numSaveSettings_lastMonth, numLogins_lastMonth, numLogouts_lastMonth, numAddPlaylists_lastMonth, numFriends_lastMonth, numThumbsUp_lastMonth, numThumbsDown_lastMonth, numAdverts_lastMonth, numSongsPlayed_lastMonth, totalListenTime_lastMonth, avgSongsPerSession_lastMonth, numSingersPlayed_lastMonth, avgSingersPerSession_lastMonth, avgSessionMins_lastMonth, numSessions_lastMonth, level_lastMonth, gender, daysSinceReg, churn]\n",
       "Index: []\n",
       "\n",
       "[0 rows x 26 columns]"
      ]
     },
     "execution_count": 34,
     "metadata": {},
     "output_type": "execute_result"
    }
   ],
   "source": [
    "all_data_pd[all_data_pd['numCancelVisits_lastMonth']>0].head()"
   ]
  },
  {
   "cell_type": "code",
   "execution_count": 35,
   "metadata": {},
   "outputs": [
    {
     "data": {
      "image/png": "[encoded data removed]",
      "text/plain": [
       "<matplotlib.figure.Figure at 0x7f8b9e5a6128>"
      ]
     },
     "metadata": {
      "needs_background": "light"
     },
     "output_type": "display_data"
    }
   ],
   "source": [
    "all_data_pd.groupby('churn').agg({'numRegister_lastMonth':'mean',\\\n",
    "                                  'numCancelVisits_lastMonth':'mean',\\\n",
    "                                  'numUpgradeVisits_lastMonth':'mean',\\\n",
    "                                  'numDowngradeVisits_lastMonth':'mean',\\\n",
    "                                  'numHomeVisits_lastMonth':'mean',\\\n",
    "                                  'numAboutVisits_lastMonth':'mean',\\\n",
    "                                  'numSettingsVisits_lastMonth':'mean',\\\n",
    "                                  'numSaveSettings_lastMonth':'mean',\\\n",
    "                                  'numLogins_lastMonth':'mean',\\\n",
    "                                  'numLogouts_lastMonth':'mean',\\\n",
    "                                  'numAddPlaylists_lastMonth':'mean',\\\n",
    "                                  'numFriends_lastMonth':'mean',\\\n",
    "                                  'numThumbsUp_lastMonth':'mean',\\\n",
    "                                  'numThumbsDown_lastMonth':'mean',\\\n",
    "                                  'numAdverts_lastMonth':'mean',\\\n",
    "                                  'daysSinceReg':'mean'\n",
    "                                  #'numSongsPlayed_lastMonth':'mean'\n",
    "                                  #'totalListenTime_lastMonth':'mean'\n",
    "                                 }).T.plot.barh(figsize=(10,10));"
   ]
  },
  {
   "cell_type": "code",
   "execution_count": 36,
   "metadata": {},
   "outputs": [
    {
     "data": {
      "image/png": "[encoded data removed]",
      "text/plain": [
       "<matplotlib.figure.Figure at 0x7f8b9e598d30>"
      ]
     },
     "metadata": {
      "needs_background": "light"
     },
     "output_type": "display_data"
    }
   ],
   "source": [
    "all_data_pd.groupby('churn').agg({'numSongsPlayed_lastMonth':'mean'}).T.plot.barh(figsize=(5,5));"
   ]
  },
  {
   "cell_type": "code",
   "execution_count": 38,
   "metadata": {},
   "outputs": [
    {
     "data": {
      "image/png": "[encoded data removed]",
      "text/plain": [
       "<matplotlib.figure.Figure at 0x7f4993738358>"
      ]
     },
     "metadata": {
      "needs_background": "light"
     },
     "output_type": "display_data"
    }
   ],
   "source": [
    "all_data_pd.groupby('churn').agg({'totalListenTime_lastMonth':'mean'}).T.plot.barh(figsize=(5,5));"
   ]
  },
  {
   "cell_type": "code",
   "execution_count": 39,
   "metadata": {},
   "outputs": [
    {
     "data": {
      "image/png": "[encoded data removed]",
      "text/plain": [
       "<matplotlib.figure.Figure at 0x7f499366e860>"
      ]
     },
     "metadata": {
      "needs_background": "light"
     },
     "output_type": "display_data"
    }
   ],
   "source": [
    "all_data_pd.groupby('churn').agg({'avgSongsPerSession_lastMonth':'mean'}).T.plot.barh(figsize=(5,5));"
   ]
  },
  {
   "cell_type": "code",
   "execution_count": 40,
   "metadata": {},
   "outputs": [
    {
     "data": {
      "image/png": "[encoded data removed]",
      "text/plain": [
       "<matplotlib.figure.Figure at 0x7f49935cfe10>"
      ]
     },
     "metadata": {
      "needs_background": "light"
     },
     "output_type": "display_data"
    }
   ],
   "source": [
    "all_data_pd.groupby('churn').agg({'numSingersPlayed_lastMonth':'mean'}).T.plot.barh(figsize=(5,5));"
   ]
  },
  {
   "cell_type": "code",
   "execution_count": 41,
   "metadata": {},
   "outputs": [
    {
     "data": {
      "image/png": "[encoded data removed]",
      "text/plain": [
       "<matplotlib.figure.Figure at 0x7f499358cb38>"
      ]
     },
     "metadata": {
      "needs_background": "light"
     },
     "output_type": "display_data"
    }
   ],
   "source": [
    "all_data_pd.groupby('churn').agg({'avgSingersPerSession_lastMonth':'mean'}).T.plot.barh(figsize=(5,5));"
   ]
  },
  {
   "cell_type": "code",
   "execution_count": 42,
   "metadata": {},
   "outputs": [
    {
     "data": {
      "image/png": "[encoded data removed]",
      "text/plain": [
       "<matplotlib.figure.Figure at 0x7f49935dcc50>"
      ]
     },
     "metadata": {
      "needs_background": "light"
     },
     "output_type": "display_data"
    }
   ],
   "source": [
    "all_data_pd.groupby('churn').agg({'avgSessionMins_lastMonth':'mean'}).T.plot.barh(figsize=(5,5));"
   ]
  },
  {
   "cell_type": "code",
   "execution_count": 43,
   "metadata": {},
   "outputs": [
    {
     "data": {
      "image/png": "[encoded data removed]",
      "text/plain": [
       "<matplotlib.figure.Figure at 0x7f4993486c88>"
      ]
     },
     "metadata": {
      "needs_background": "light"
     },
     "output_type": "display_data"
    }
   ],
   "source": [
    "all_data_pd.groupby('churn').agg({'numSessions_lastMonth':'mean'}).T.plot.barh(figsize=(5,5));"
   ]
  },
  {
   "cell_type": "code",
   "execution_count": 67,
   "metadata": {},
   "outputs": [
    {
     "data": {
      "image/png": "[encoded data removed]",
      "text/plain": [
       "<matplotlib.figure.Figure at 0x7f4992f50978>"
      ]
     },
     "metadata": {
      "needs_background": "light"
     },
     "output_type": "display_data"
    }
   ],
   "source": [
    "fig, ax = plt.subplots(figsize=(5,5))\n",
    "all_data_pd.groupby(['churn', 'level_lastMonth']).agg({'level_lastMonth':'count'}).unstack().plot.bar(ax=ax);\n",
    "ax.legend([\"Free Last Month\", \"Premium Last Month\"]);"
   ]
  },
  {
   "cell_type": "code",
   "execution_count": 68,
   "metadata": {},
   "outputs": [
    {
     "data": {
      "image/png": "[encoded data removed]",
      "text/plain": [
       "<matplotlib.figure.Figure at 0x7f4992eb4550>"
      ]
     },
     "metadata": {
      "needs_background": "light"
     },
     "output_type": "display_data"
    }
   ],
   "source": [
    "fig, ax = plt.subplots(figsize=(5,5))\n",
    "all_data_pd.groupby(['churn', 'gender']).agg({'gender':'count'}).unstack().plot.bar(ax=ax);\n",
    "ax.legend([\"Male\", \"Female\"]);"
   ]
  },
  {
   "cell_type": "code",
   "execution_count": 37,
   "metadata": {
    "scrolled": false
   },
   "outputs": [
    {
     "data": {
      "text/plain": [
       "0    148\n",
       "1     43\n",
       "Name: churn, dtype: int64"
      ]
     },
     "execution_count": 37,
     "metadata": {},
     "output_type": "execute_result"
    }
   ],
   "source": [
    "all_data_pd.churn.value_counts()"
   ]
  },
  {
   "cell_type": "markdown",
   "metadata": {},
   "source": [
    "# Feature Engineering\n",
    "Once you've familiarized yourself with the data, build out the features you find promising to train your model on. To work with the full dataset, you can follow the following steps.\n",
    "- Write a script to extract the necessary features from the smaller subset of data\n",
    "- Ensure that your script is scalable, using the best practices discussed in Lesson 3\n",
    "- Try your script on the full data set, debugging your script if necessary\n",
    "\n",
    "If you are working in the classroom workspace, you can just extract features based on the small subset of data contained here. Be sure to transfer over this work to the larger dataset when you work on your Spark cluster."
   ]
  },
  {
   "cell_type": "code",
   "execution_count": 38,
   "metadata": {},
   "outputs": [],
   "source": [
    "# Engineer diffs between last months stats and moving averages.\n",
    "# for the small dataset, the differences will be 0 since there were only 2 months\n",
    "all_data = all_data.withColumn('diff_numRegister', (all_data['numRegister_lastMonth'] - all_data['numRegister_movAvg']))\n",
    "all_data = all_data.withColumn('diff_numCancelVisits', (all_data['numCancelVisits_lastMonth'] - all_data['numCancelVisits_movAvg']))\n",
    "all_data = all_data.withColumn('diff_numUpgradeVisits', (all_data['numUpgradeVisits_lastMonth'] - all_data['numUpgradeVisits_movAvg']))\n",
    "all_data = all_data.withColumn('diff_numDowngradeVisits', (all_data['numDowngradeVisits_lastMonth'] - all_data['numDowngradeVisits_movAvg']))\n",
    "all_data = all_data.withColumn('diff_numHomeVisits', (all_data['numHomeVisits_lastMonth'] - all_data['numHomeVisits_movAvg']))\n",
    "all_data = all_data.withColumn('diff_numAboutVisits', (all_data['numAboutVisits_lastMonth'] - all_data['numAboutVisits_movAvg']))\n",
    "all_data = all_data.withColumn('diff_numSettingsVisits', (all_data['numSettingsVisits_lastMonth'] - all_data['numSettingsVisits_movAvg']))\n",
    "all_data = all_data.withColumn('diff_numSaveSettings', (all_data['numSaveSettings_lastMonth'] - all_data['numSaveSettings_movAvg']))\n",
    "all_data = all_data.withColumn('diff_numLogins', (all_data['numLogins_lastMonth'] - all_data['numLogins_movAvg']))\n",
    "all_data = all_data.withColumn('diff_numLogouts', (all_data['numLogouts_lastMonth'] - all_data['numLogouts_movAvg']))\n",
    "all_data = all_data.withColumn('diff_numAddPlaylists', (all_data['numAddPlaylists_lastMonth'] - all_data['numAddPlaylists_movAvg']))\n",
    "all_data = all_data.withColumn('diff_numFriends', (all_data['numFriends_lastMonth'] - all_data['numFriends_movAvg']))\n",
    "all_data = all_data.withColumn('diff_numThumbsUp', (all_data['numThumbsUp_lastMonth'] - all_data['numThumbsUp_movAvg']))\n",
    "all_data = all_data.withColumn('diff_numThumbsDown', (all_data['numThumbsDown_lastMonth'] - all_data['numThumbsDown_movAvg']))\n",
    "all_data = all_data.withColumn('diff_numAdverts', (all_data['numAdverts_lastMonth'] - all_data['numAdverts_movAvg']))\n",
    "all_data = all_data.withColumn('diff_numSongsPlayed', (all_data['numSongsPlayed_lastMonth'] - all_data['numSongsPlayed_movAvg']))\n",
    "all_data = all_data.withColumn('diff_totalListenTime', (all_data['totalListenTime_lastMonth'] - all_data['totalListenTime_movAvg']))\n",
    "all_data = all_data.withColumn('diff_avgSongsPerSession', (all_data['avgSongsPerSession_lastMonth'] - all_data['avgSongsPerSession_movAvg']))\n",
    "all_data = all_data.withColumn('diff_numSingersPlayed', (all_data['numSingersPlayed_lastMonth'] - all_data['numSingersPlayed_movAvg']))\n",
    "all_data = all_data.withColumn('diff_avgSingersPerSession', (all_data['avgSingersPerSession_lastMonth'] - all_data['avgSingersPerSession_movAvg']))\n",
    "all_data = all_data.withColumn('diff_avgSessionMins', (all_data['avgSessionMins_lastMonth'] - all_data['avgSessionMins_movAvg']))\n",
    "all_data = all_data.withColumn('diff_numSessions', (all_data['numSessions_lastMonth'] - all_data['numSessions_movAvg']))"
   ]
  },
  {
   "cell_type": "code",
   "execution_count": 39,
   "metadata": {},
   "outputs": [
    {
     "name": "stdout",
     "output_type": "stream",
     "text": [
      "+------+---------+-----------+---------------+----------------+------------------+-------------+--------------+-----------------+---------------+---------+----------+---------------+----------+-----------+-------------+----------+--------------+------------------+------------------+----------------+--------------------+------------------+-----------+-----+------+------------+-----+---------------------+-------------------------+--------------------------+----------------------------+-----------------------+------------------------+---------------------------+-------------------------+-------------------+--------------------+-------------------------+--------------------+---------------------+-----------------------+--------------------+------------------------+-------------------------+----------------------------+--------------------------+------------------------------+------------------------+---------------------+---------------+-------------------+---------------+------------------+-----------------------+-------------------+----------------------+------------------------+--------------------+-----------------------+--------------------------+----------------------+-------------------------+---------------------+-----------------+--------------------+----------------------+------------------+---------------------+-------------------------+---------------------+------------------------+-----------------------+-------------------+----------------------+-----------------+-------------+----------------+------------------+--------------+-----------------+-----------------------+-------------------+----------------------+------------------+--------------+-----------------+-------------------+---------------+------------------+---------------------+-----------------+--------------------+------------------+--------------+-----------------+----------------------+------------------+---------------------+-----------------------+-------------------+----------------------+--------------------------+----------------------+-------------------------+------------------------+--------------------+-----------------------+----------------------------+------------------------+---------------------------+----------------------+------------------+---------------------+-------------------+---------------+------------------+----------------+--------------------+---------------------+-----------------------+------------------+-------------------+----------------------+--------------------+--------------+---------------+--------------------+---------------+----------------+------------------+---------------+-------------------+--------------------+-----------------------+---------------------+-------------------------+-------------------+----------------+\n",
      "|userId|month_num|numRegister|numCancelVisits|numUpgradeVisits|numDowngradeVisits|numHomeVisits|numAboutVisits|numSettingsVisits|numSaveSettings|numLogins|numLogouts|numAddPlaylists|numFriends|numThumbsUp|numThumbsDown|numAdverts|numSongsPlayed|   totalListenTime|avgSongsPerSession|numSingersPlayed|avgSingersPerSession|    avgSessionMins|numSessions|level|gender|daysSinceReg|churn|numRegister_lastMonth|numCancelVisits_lastMonth|numUpgradeVisits_lastMonth|numDowngradeVisits_lastMonth|numHomeVisits_lastMonth|numAboutVisits_lastMonth|numSettingsVisits_lastMonth|numSaveSettings_lastMonth|numLogins_lastMonth|numLogouts_lastMonth|numAddPlaylists_lastMonth|numFriends_lastMonth|numThumbsUp_lastMonth|numThumbsDown_lastMonth|numAdverts_lastMonth|numSongsPlayed_lastMonth|totalListenTime_lastMonth|avgSongsPerSession_lastMonth|numSingersPlayed_lastMonth|avgSingersPerSession_lastMonth|avgSessionMins_lastMonth|numSessions_lastMonth|level_lastMonth|numRegister_cum_old|numRegister_cum|numRegister_movAvg|numCancelVisits_cum_old|numCancelVisits_cum|numCancelVisits_movAvg|numUpgradeVisits_cum_old|numUpgradeVisits_cum|numUpgradeVisits_movAvg|numDowngradeVisits_cum_old|numDowngradeVisits_cum|numDowngradeVisits_movAvg|numHomeVisits_cum_old|numHomeVisits_cum|numHomeVisits_movAvg|numAboutVisits_cum_old|numAboutVisits_cum|numAboutVisits_movAvg|numSettingsVisits_cum_old|numSettingsVisits_cum|numSettingsVisits_movAvg|numSaveSettings_cum_old|numSaveSettings_cum|numSaveSettings_movAvg|numLogins_cum_old|numLogins_cum|numLogins_movAvg|numLogouts_cum_old|numLogouts_cum|numLogouts_movAvg|numAddPlaylists_cum_old|numAddPlaylists_cum|numAddPlaylists_movAvg|numFriends_cum_old|numFriends_cum|numFriends_movAvg|numThumbsUp_cum_old|numThumbsUp_cum|numThumbsUp_movAvg|numThumbsDown_cum_old|numThumbsDown_cum|numThumbsDown_movAvg|numAdverts_cum_old|numAdverts_cum|numAdverts_movAvg|numSongsPlayed_cum_old|numSongsPlayed_cum|numSongsPlayed_movAvg|totalListenTime_cum_old|totalListenTime_cum|totalListenTime_movAvg|avgSongsPerSession_cum_old|avgSongsPerSession_cum|avgSongsPerSession_movAvg|numSingersPlayed_cum_old|numSingersPlayed_cum|numSingersPlayed_movAvg|avgSingersPerSession_cum_old|avgSingersPerSession_cum|avgSingersPerSession_movAvg|avgSessionMins_cum_old|avgSessionMins_cum|avgSessionMins_movAvg|numSessions_cum_old|numSessions_cum|numSessions_movAvg|diff_numRegister|diff_numCancelVisits|diff_numUpgradeVisits|diff_numDowngradeVisits|diff_numHomeVisits|diff_numAboutVisits|diff_numSettingsVisits|diff_numSaveSettings|diff_numLogins|diff_numLogouts|diff_numAddPlaylists|diff_numFriends|diff_numThumbsUp|diff_numThumbsDown|diff_numAdverts|diff_numSongsPlayed|diff_totalListenTime|diff_avgSongsPerSession|diff_numSingersPlayed|diff_avgSingersPerSession|diff_avgSessionMins|diff_numSessions|\n",
      "+------+---------+-----------+---------------+----------------+------------------+-------------+--------------+-----------------+---------------+---------+----------+---------------+----------+-----------+-------------+----------+--------------+------------------+------------------+----------------+--------------------+------------------+-----------+-----+------+------------+-----+---------------------+-------------------------+--------------------------+----------------------------+-----------------------+------------------------+---------------------------+-------------------------+-------------------+--------------------+-------------------------+--------------------+---------------------+-----------------------+--------------------+------------------------+-------------------------+----------------------------+--------------------------+------------------------------+------------------------+---------------------+---------------+-------------------+---------------+------------------+-----------------------+-------------------+----------------------+------------------------+--------------------+-----------------------+--------------------------+----------------------+-------------------------+---------------------+-----------------+--------------------+----------------------+------------------+---------------------+-------------------------+---------------------+------------------------+-----------------------+-------------------+----------------------+-----------------+-------------+----------------+------------------+--------------+-----------------+-----------------------+-------------------+----------------------+------------------+--------------+-----------------+-------------------+---------------+------------------+---------------------+-----------------+--------------------+------------------+--------------+-----------------+----------------------+------------------+---------------------+-----------------------+-------------------+----------------------+--------------------------+----------------------+-------------------------+------------------------+--------------------+-----------------------+----------------------------+------------------------+---------------------------+----------------------+------------------+---------------------+-------------------+---------------+------------------+----------------+--------------------+---------------------+-----------------------+------------------+-------------------+----------------------+--------------------+--------------+---------------+--------------------+---------------+----------------+------------------+---------------+-------------------+--------------------+-----------------------+---------------------+-------------------------+-------------------+----------------+\n",
      "|100010|        0|          0|              0|               1|                 0|            6|             0|                0|              0|        0|         2|              2|         3|          6|            1|        22|           120|28266.629649999984|              30.0|             116|                29.5|112.03333333333333|          4|    0|     1|           4|    0|                    0|                        0|                         0|                           0|                      0|                       0|                          0|                        0|                  0|                   0|                        0|                   0|                    0|                      0|                   0|                       0|                      0.0|                         0.0|                         0|                           0.0|                     0.0|                    0|           null|                  0|              0|               0.0|                      0|                  0|                   0.0|                       1|                   0|                    0.0|                         0|                     0|                      0.0|                    6|                0|                 0.0|                     0|                 0|                  0.0|                        0|                    0|                     0.0|                      0|                  0|                   0.0|                0|            0|             0.0|                 2|             0|              0.0|                      2|                  0|                   0.0|                 3|             0|              0.0|                  6|              0|               0.0|                    1|                0|                 0.0|                22|             0|              0.0|                   120|                 0|                  0.0|     28266.629649999984|                0.0|                   0.0|                      30.0|                   0.0|                      0.0|                     116|                   0|                    0.0|                        29.5|                     0.0|                        0.0|    112.03333333333333|               0.0|                  0.0|                  4|              0|               0.0|             0.0|                 0.0|                  0.0|                    0.0|               0.0|                0.0|                   0.0|                 0.0|           0.0|            0.0|                 0.0|            0.0|             0.0|               0.0|            0.0|                0.0|                 0.0|                    0.0|                  0.0|                      0.0|                0.0|             0.0|\n",
      "|100010|        1|          0|              0|               1|                 0|            5|             1|                0|              0|        0|         3|              5|         1|         11|            4|        30|           155| 38674.26770000001|51.666666666666664|             144|  50.666666666666664|211.08333333333334|          3|    0|     1|          35|    0|                    0|                        0|                         1|                           0|                      6|                       0|                          0|                        0|                  0|                   2|                        2|                   3|                    6|                      1|                  22|                     120|       28266.629649999984|                        30.0|                       116|                          29.5|      112.03333333333333|                    4|              0|                  0|              0|               0.0|                      0|                  0|                   0.0|                       2|                   1|                    1.0|                         0|                     0|                      0.0|                   11|                6|                 6.0|                     1|                 0|                  0.0|                        0|                    0|                     0.0|                      0|                  0|                   0.0|                0|            0|             0.0|                 5|             2|              2.0|                      7|                  2|                   2.0|                 4|             3|              3.0|                 17|              6|               6.0|                    5|                1|                 1.0|                52|            22|             22.0|                   275|               120|                120.0|            66940.89735| 28266.629649999988|    28266.629649999988|         81.66666666666666|    29.999999999999993|       29.999999999999993|                     260|                 116|                  116.0|           80.16666666666666|      29.499999999999993|         29.499999999999993|     323.1166666666667|112.03333333333333|   112.03333333333333|                  7|              4|               4.0|             0.0|                 0.0|                  0.0|                    0.0|               0.0|                0.0|                   0.0|                 0.0|           0.0|            0.0|                 0.0|            0.0|             0.0|               0.0|            0.0|                0.0|-3.63797880709171...|   7.105427357601002...|                  0.0|     7.105427357601002...|                0.0|             0.0|\n",
      "|200002|        0|          0|              0|               2|                 3|           14|             2|                3|              0|        0|         3|              6|         4|         15|            6|         7|           267| 64662.97118999998|              53.4|             243|                52.4|            220.19|          5|    1|     0|          25|    0|                    0|                        0|                         0|                           0|                      0|                       0|                          0|                        0|                  0|                   0|                        0|                   0|                    0|                      0|                   0|                       0|                      0.0|                         0.0|                         0|                           0.0|                     0.0|                    0|           null|                  0|              0|               0.0|                      0|                  0|                   0.0|                       2|                   0|                    0.0|                         3|                     0|                      0.0|                   14|                0|                 0.0|                     2|                 0|                  0.0|                        3|                    0|                     0.0|                      0|                  0|                   0.0|                0|            0|             0.0|                 3|             0|              0.0|                      6|                  0|                   0.0|                 4|             0|              0.0|                 15|              0|               0.0|                    6|                0|                 0.0|                 7|             0|              0.0|                   267|                 0|                  0.0|      64662.97118999998|                0.0|                   0.0|                      53.4|                   0.0|                      0.0|                     243|                   0|                    0.0|                        52.4|                     0.0|                        0.0|                220.19|               0.0|                  0.0|                  5|              0|               0.0|             0.0|                 0.0|                  0.0|                    0.0|               0.0|                0.0|                   0.0|                 0.0|           0.0|            0.0|                 0.0|            0.0|             0.0|               0.0|            0.0|                0.0|                 0.0|                    0.0|                  0.0|                      0.0|                0.0|             0.0|\n",
      "+------+---------+-----------+---------------+----------------+------------------+-------------+--------------+-----------------+---------------+---------+----------+---------------+----------+-----------+-------------+----------+--------------+------------------+------------------+----------------+--------------------+------------------+-----------+-----+------+------------+-----+---------------------+-------------------------+--------------------------+----------------------------+-----------------------+------------------------+---------------------------+-------------------------+-------------------+--------------------+-------------------------+--------------------+---------------------+-----------------------+--------------------+------------------------+-------------------------+----------------------------+--------------------------+------------------------------+------------------------+---------------------+---------------+-------------------+---------------+------------------+-----------------------+-------------------+----------------------+------------------------+--------------------+-----------------------+--------------------------+----------------------+-------------------------+---------------------+-----------------+--------------------+----------------------+------------------+---------------------+-------------------------+---------------------+------------------------+-----------------------+-------------------+----------------------+-----------------+-------------+----------------+------------------+--------------+-----------------+-----------------------+-------------------+----------------------+------------------+--------------+-----------------+-------------------+---------------+------------------+---------------------+-----------------+--------------------+------------------+--------------+-----------------+----------------------+------------------+---------------------+-----------------------+-------------------+----------------------+--------------------------+----------------------+-------------------------+------------------------+--------------------+-----------------------+----------------------------+------------------------+---------------------------+----------------------+------------------+---------------------+-------------------+---------------+------------------+----------------+--------------------+---------------------+-----------------------+------------------+-------------------+----------------------+--------------------+--------------+---------------+--------------------+---------------+----------------+------------------+---------------+-------------------+--------------------+-----------------------+---------------------+-------------------------+-------------------+----------------+\n",
      "only showing top 3 rows\n",
      "\n"
     ]
    }
   ],
   "source": [
    "all_data.show(3)"
   ]
  },
  {
   "cell_type": "code",
   "execution_count": 41,
   "metadata": {},
   "outputs": [],
   "source": [
    "# convert userId, gender, level, level_lastMonth to numeric\n",
    "convert_numeric = ['userId', 'level', 'gender', 'level_lastMonth']\n",
    "for feat in convert_numeric:\n",
    "    featName = feat + \"_n\"\n",
    "    all_data = all_data.withColumn(featName, all_data[feat].cast(\"float\"))\n",
    "    all_data = all_data.drop(feat)"
   ]
  },
  {
   "cell_type": "code",
   "execution_count": 53,
   "metadata": {},
   "outputs": [],
   "source": [
    "# fill na/null values with 0\n",
    "all_data = all_data.na.fill(0.0)"
   ]
  },
  {
   "cell_type": "code",
   "execution_count": 54,
   "metadata": {},
   "outputs": [],
   "source": [
    "out_path = \"all_data_small.csv\"\n",
    "all_data.write.mode('overwrite').save(out_path, format=\"csv\", header=True)"
   ]
  },
  {
   "cell_type": "code",
   "execution_count": 6,
   "metadata": {},
   "outputs": [],
   "source": [
    "# If needed\n",
    "out_path = \"all_data_small.csv\"\n",
    "all_data = spark.read.csv(out_path, header=True, inferSchema=True)"
   ]
  },
  {
   "cell_type": "code",
   "execution_count": 7,
   "metadata": {},
   "outputs": [
    {
     "data": {
      "text/plain": [
       "DataFrame[month_num: int, numRegister: int, numCancelVisits: int, numUpgradeVisits: int, numDowngradeVisits: int, numHomeVisits: int, numAboutVisits: int, numSettingsVisits: int, numSaveSettings: int, numLogins: int, numLogouts: int, numAddPlaylists: int, numFriends: int, numThumbsUp: int, numThumbsDown: int, numAdverts: int, numSongsPlayed: int, totalListenTime: double, avgSongsPerSession: double, numSingersPlayed: int, avgSingersPerSession: double, avgSessionMins: double, numSessions: int, daysSinceReg: int, churn: int, numRegister_lastMonth: int, numCancelVisits_lastMonth: int, numUpgradeVisits_lastMonth: int, numDowngradeVisits_lastMonth: int, numHomeVisits_lastMonth: int, numAboutVisits_lastMonth: int, numSettingsVisits_lastMonth: int, numSaveSettings_lastMonth: int, numLogins_lastMonth: int, numLogouts_lastMonth: int, numAddPlaylists_lastMonth: int, numFriends_lastMonth: int, numThumbsUp_lastMonth: int, numThumbsDown_lastMonth: int, numAdverts_lastMonth: int, numSongsPlayed_lastMonth: int, totalListenTime_lastMonth: double, avgSongsPerSession_lastMonth: double, numSingersPlayed_lastMonth: int, avgSingersPerSession_lastMonth: double, avgSessionMins_lastMonth: double, numSessions_lastMonth: int, numRegister_cum_old: int, numRegister_cum: int, numRegister_movAvg: double, numCancelVisits_cum_old: int, numCancelVisits_cum: int, numCancelVisits_movAvg: double, numUpgradeVisits_cum_old: int, numUpgradeVisits_cum: int, numUpgradeVisits_movAvg: double, numDowngradeVisits_cum_old: int, numDowngradeVisits_cum: int, numDowngradeVisits_movAvg: double, numHomeVisits_cum_old: int, numHomeVisits_cum: int, numHomeVisits_movAvg: double, numAboutVisits_cum_old: int, numAboutVisits_cum: int, numAboutVisits_movAvg: double, numSettingsVisits_cum_old: int, numSettingsVisits_cum: int, numSettingsVisits_movAvg: double, numSaveSettings_cum_old: int, numSaveSettings_cum: int, numSaveSettings_movAvg: double, numLogins_cum_old: int, numLogins_cum: int, numLogins_movAvg: double, numLogouts_cum_old: int, numLogouts_cum: int, numLogouts_movAvg: double, numAddPlaylists_cum_old: int, numAddPlaylists_cum: int, numAddPlaylists_movAvg: double, numFriends_cum_old: int, numFriends_cum: int, numFriends_movAvg: double, numThumbsUp_cum_old: int, numThumbsUp_cum: int, numThumbsUp_movAvg: double, numThumbsDown_cum_old: int, numThumbsDown_cum: int, numThumbsDown_movAvg: double, numAdverts_cum_old: int, numAdverts_cum: int, numAdverts_movAvg: double, numSongsPlayed_cum_old: int, numSongsPlayed_cum: int, numSongsPlayed_movAvg: double, totalListenTime_cum_old: double, totalListenTime_cum: double, totalListenTime_movAvg: double, avgSongsPerSession_cum_old: double, avgSongsPerSession_cum: double, avgSongsPerSession_movAvg: double, numSingersPlayed_cum_old: int, numSingersPlayed_cum: int, numSingersPlayed_movAvg: double, avgSingersPerSession_cum_old: double, avgSingersPerSession_cum: double, avgSingersPerSession_movAvg: double, avgSessionMins_cum_old: double, avgSessionMins_cum: double, avgSessionMins_movAvg: double, numSessions_cum_old: int, numSessions_cum: int, numSessions_movAvg: double, diff_numRegister: double, diff_numCancelVisits: double, diff_numUpgradeVisits: double, diff_numDowngradeVisits: double, diff_numHomeVisits: double, diff_numAboutVisits: double, diff_numSettingsVisits: double, diff_numSaveSettings: double, diff_numLogins: double, diff_numLogouts: double, diff_numAddPlaylists: double, diff_numFriends: double, diff_numThumbsUp: double, diff_numThumbsDown: double, diff_numAdverts: double, diff_numSongsPlayed: double, diff_totalListenTime: double, diff_avgSongsPerSession: double, diff_numSingersPlayed: double, diff_avgSingersPerSession: double, diff_avgSessionMins: double, diff_numSessions: double, userId_n: double, level_n: double, gender_n: double, level_lastMonth_n: double]"
      ]
     },
     "execution_count": 7,
     "metadata": {},
     "output_type": "execute_result"
    }
   ],
   "source": [
    "all_data.persist()"
   ]
  },
  {
   "cell_type": "markdown",
   "metadata": {},
   "source": [
    "# Modeling\n",
    "Split the full dataset into train, test, and validation sets. Test out several of the machine learning methods you learned. Evaluate the accuracy of the various models, tuning parameters as necessary. Determine your winning model based on test accuracy and report results on the validation set. Since the churned users are a fairly small subset, I suggest using F1 score as the metric to optimize."
   ]
  },
  {
   "cell_type": "code",
   "execution_count": 45,
   "metadata": {},
   "outputs": [
    {
     "data": {
      "text/plain": [
       "['month_num',\n",
       " 'numRegister',\n",
       " 'numCancelVisits',\n",
       " 'numUpgradeVisits',\n",
       " 'numDowngradeVisits',\n",
       " 'numHomeVisits',\n",
       " 'numAboutVisits',\n",
       " 'numSettingsVisits',\n",
       " 'numSaveSettings',\n",
       " 'numLogins',\n",
       " 'numLogouts',\n",
       " 'numAddPlaylists',\n",
       " 'numFriends',\n",
       " 'numThumbsUp',\n",
       " 'numThumbsDown',\n",
       " 'numAdverts',\n",
       " 'numSongsPlayed',\n",
       " 'totalListenTime',\n",
       " 'avgSongsPerSession',\n",
       " 'numSingersPlayed',\n",
       " 'avgSingersPerSession',\n",
       " 'avgSessionMins',\n",
       " 'numSessions',\n",
       " 'daysSinceReg',\n",
       " 'churn',\n",
       " 'numRegister_lastMonth',\n",
       " 'numCancelVisits_lastMonth',\n",
       " 'numUpgradeVisits_lastMonth',\n",
       " 'numDowngradeVisits_lastMonth',\n",
       " 'numHomeVisits_lastMonth',\n",
       " 'numAboutVisits_lastMonth',\n",
       " 'numSettingsVisits_lastMonth',\n",
       " 'numSaveSettings_lastMonth',\n",
       " 'numLogins_lastMonth',\n",
       " 'numLogouts_lastMonth',\n",
       " 'numAddPlaylists_lastMonth',\n",
       " 'numFriends_lastMonth',\n",
       " 'numThumbsUp_lastMonth',\n",
       " 'numThumbsDown_lastMonth',\n",
       " 'numAdverts_lastMonth',\n",
       " 'numSongsPlayed_lastMonth',\n",
       " 'totalListenTime_lastMonth',\n",
       " 'avgSongsPerSession_lastMonth',\n",
       " 'numSingersPlayed_lastMonth',\n",
       " 'avgSingersPerSession_lastMonth',\n",
       " 'avgSessionMins_lastMonth',\n",
       " 'numSessions_lastMonth',\n",
       " 'numRegister_cum_old',\n",
       " 'numRegister_cum',\n",
       " 'numRegister_movAvg',\n",
       " 'numCancelVisits_cum_old',\n",
       " 'numCancelVisits_cum',\n",
       " 'numCancelVisits_movAvg',\n",
       " 'numUpgradeVisits_cum_old',\n",
       " 'numUpgradeVisits_cum',\n",
       " 'numUpgradeVisits_movAvg',\n",
       " 'numDowngradeVisits_cum_old',\n",
       " 'numDowngradeVisits_cum',\n",
       " 'numDowngradeVisits_movAvg',\n",
       " 'numHomeVisits_cum_old',\n",
       " 'numHomeVisits_cum',\n",
       " 'numHomeVisits_movAvg',\n",
       " 'numAboutVisits_cum_old',\n",
       " 'numAboutVisits_cum',\n",
       " 'numAboutVisits_movAvg',\n",
       " 'numSettingsVisits_cum_old',\n",
       " 'numSettingsVisits_cum',\n",
       " 'numSettingsVisits_movAvg',\n",
       " 'numSaveSettings_cum_old',\n",
       " 'numSaveSettings_cum',\n",
       " 'numSaveSettings_movAvg',\n",
       " 'numLogins_cum_old',\n",
       " 'numLogins_cum',\n",
       " 'numLogins_movAvg',\n",
       " 'numLogouts_cum_old',\n",
       " 'numLogouts_cum',\n",
       " 'numLogouts_movAvg',\n",
       " 'numAddPlaylists_cum_old',\n",
       " 'numAddPlaylists_cum',\n",
       " 'numAddPlaylists_movAvg',\n",
       " 'numFriends_cum_old',\n",
       " 'numFriends_cum',\n",
       " 'numFriends_movAvg',\n",
       " 'numThumbsUp_cum_old',\n",
       " 'numThumbsUp_cum',\n",
       " 'numThumbsUp_movAvg',\n",
       " 'numThumbsDown_cum_old',\n",
       " 'numThumbsDown_cum',\n",
       " 'numThumbsDown_movAvg',\n",
       " 'numAdverts_cum_old',\n",
       " 'numAdverts_cum',\n",
       " 'numAdverts_movAvg',\n",
       " 'numSongsPlayed_cum_old',\n",
       " 'numSongsPlayed_cum',\n",
       " 'numSongsPlayed_movAvg',\n",
       " 'totalListenTime_cum_old',\n",
       " 'totalListenTime_cum',\n",
       " 'totalListenTime_movAvg',\n",
       " 'avgSongsPerSession_cum_old',\n",
       " 'avgSongsPerSession_cum',\n",
       " 'avgSongsPerSession_movAvg',\n",
       " 'numSingersPlayed_cum_old',\n",
       " 'numSingersPlayed_cum',\n",
       " 'numSingersPlayed_movAvg',\n",
       " 'avgSingersPerSession_cum_old',\n",
       " 'avgSingersPerSession_cum',\n",
       " 'avgSingersPerSession_movAvg',\n",
       " 'avgSessionMins_cum_old',\n",
       " 'avgSessionMins_cum',\n",
       " 'avgSessionMins_movAvg',\n",
       " 'numSessions_cum_old',\n",
       " 'numSessions_cum',\n",
       " 'numSessions_movAvg',\n",
       " 'diff_numRegister',\n",
       " 'diff_numCancelVisits',\n",
       " 'diff_numUpgradeVisits',\n",
       " 'diff_numDowngradeVisits',\n",
       " 'diff_numHomeVisits',\n",
       " 'diff_numAboutVisits',\n",
       " 'diff_numSettingsVisits',\n",
       " 'diff_numSaveSettings',\n",
       " 'diff_numLogins',\n",
       " 'diff_numLogouts',\n",
       " 'diff_numAddPlaylists',\n",
       " 'diff_numFriends',\n",
       " 'diff_numThumbsUp',\n",
       " 'diff_numThumbsDown',\n",
       " 'diff_numAdverts',\n",
       " 'diff_numSongsPlayed',\n",
       " 'diff_totalListenTime',\n",
       " 'diff_avgSongsPerSession',\n",
       " 'diff_numSingersPlayed',\n",
       " 'diff_avgSingersPerSession',\n",
       " 'diff_avgSessionMins',\n",
       " 'diff_numSessions',\n",
       " 'userId_n',\n",
       " 'level_n',\n",
       " 'gender_n',\n",
       " 'level_lastMonth_n']"
      ]
     },
     "execution_count": 45,
     "metadata": {},
     "output_type": "execute_result"
    }
   ],
   "source": [
    "all_data.columns"
   ]
  },
  {
   "cell_type": "code",
   "execution_count": 8,
   "metadata": {},
   "outputs": [
    {
     "name": "stdout",
     "output_type": "stream",
     "text": [
      "+--------+---------+---------------------+-------------------------+--------------------------+----------------------------+-----------------------+------------------------+---------------------------+-------------------------+-------------------+--------------------+-------------------------+--------------------+---------------------+-----------------------+--------------------+------------------------+-------------------------+----------------------------+--------------------------+------------------------------+------------------------+---------------------+-----------------+------------------+----------------------+-----------------------+-------------------------+--------------------+---------------------+------------------------+----------------------+----------------+-----------------+----------------------+-----------------+------------------+--------------------+-----------------+---------------------+----------------------+-------------------------+-----------------------+---------------------------+---------------------+------------------+----------------+--------------------+---------------------+-----------------------+------------------+-------------------+----------------------+--------------------+--------------+---------------+--------------------+---------------+----------------+------------------+---------------+-------------------+--------------------+-----------------------+---------------------+-------------------------+--------------------+----------------+--------+------------+-----+\n",
      "|userId_n|month_num|numRegister_lastMonth|numCancelVisits_lastMonth|numUpgradeVisits_lastMonth|numDowngradeVisits_lastMonth|numHomeVisits_lastMonth|numAboutVisits_lastMonth|numSettingsVisits_lastMonth|numSaveSettings_lastMonth|numLogins_lastMonth|numLogouts_lastMonth|numAddPlaylists_lastMonth|numFriends_lastMonth|numThumbsUp_lastMonth|numThumbsDown_lastMonth|numAdverts_lastMonth|numSongsPlayed_lastMonth|totalListenTime_lastMonth|avgSongsPerSession_lastMonth|numSingersPlayed_lastMonth|avgSingersPerSession_lastMonth|avgSessionMins_lastMonth|numSessions_lastMonth|level_lastMonth_n|numRegister_movAvg|numCancelVisits_movAvg|numUpgradeVisits_movAvg|numDowngradeVisits_movAvg|numHomeVisits_movAvg|numAboutVisits_movAvg|numSettingsVisits_movAvg|numSaveSettings_movAvg|numLogins_movAvg|numLogouts_movAvg|numAddPlaylists_movAvg|numFriends_movAvg|numThumbsUp_movAvg|numThumbsDown_movAvg|numAdverts_movAvg|numSongsPlayed_movAvg|totalListenTime_movAvg|avgSongsPerSession_movAvg|numSingersPlayed_movAvg|avgSingersPerSession_movAvg|avgSessionMins_movAvg|numSessions_movAvg|diff_numRegister|diff_numCancelVisits|diff_numUpgradeVisits|diff_numDowngradeVisits|diff_numHomeVisits|diff_numAboutVisits|diff_numSettingsVisits|diff_numSaveSettings|diff_numLogins|diff_numLogouts|diff_numAddPlaylists|diff_numFriends|diff_numThumbsUp|diff_numThumbsDown|diff_numAdverts|diff_numSongsPlayed|diff_totalListenTime|diff_avgSongsPerSession|diff_numSingersPlayed|diff_avgSingersPerSession| diff_avgSessionMins|diff_numSessions|gender_n|daysSinceReg|label|\n",
      "+--------+---------+---------------------+-------------------------+--------------------------+----------------------------+-----------------------+------------------------+---------------------------+-------------------------+-------------------+--------------------+-------------------------+--------------------+---------------------+-----------------------+--------------------+------------------------+-------------------------+----------------------------+--------------------------+------------------------------+------------------------+---------------------+-----------------+------------------+----------------------+-----------------------+-------------------------+--------------------+---------------------+------------------------+----------------------+----------------+-----------------+----------------------+-----------------+------------------+--------------------+-----------------+---------------------+----------------------+-------------------------+-----------------------+---------------------------+---------------------+------------------+----------------+--------------------+---------------------+-----------------------+------------------+-------------------+----------------------+--------------------+--------------+---------------+--------------------+---------------+----------------+------------------+---------------+-------------------+--------------------+-----------------------+---------------------+-------------------------+--------------------+----------------+--------+------------+-----+\n",
      "|100004.0|        1|                    0|                        0|                         3|                           8|                     29|                       0|                          5|                        1|                  0|                   9|                       11|                  10|                   14|                      3|                  42|                     413|       100942.41519999999|          34.416666666666664|                       369|            33.333333333333336|       141.4111111111111|                   12|              1.0|               0.0|                   0.0|                    3.0|                      8.0|                29.0|                  0.0|                     5.0|                   1.0|             0.0|              9.0|                  11.0|             10.0|              14.0|                 3.0|             42.0|                413.0|    100942.41519999997|        34.41666666666666|                  369.0|          33.33333333333334|   141.41111111111113|              12.0|             0.0|                 0.0|                  0.0|                    0.0|               0.0|                0.0|                   0.0|                 0.0|           0.0|            0.0|                 0.0|            0.0|             0.0|               0.0|            0.0|                0.0|1.455191522836685...|   7.105427357601002...|                  0.0|     -7.10542735760100...|-2.84217094304040...|             0.0|     1.0|         145|    0|\n",
      "+--------+---------+---------------------+-------------------------+--------------------------+----------------------------+-----------------------+------------------------+---------------------------+-------------------------+-------------------+--------------------+-------------------------+--------------------+---------------------+-----------------------+--------------------+------------------------+-------------------------+----------------------------+--------------------------+------------------------------+------------------------+---------------------+-----------------+------------------+----------------------+-----------------------+-------------------------+--------------------+---------------------+------------------------+----------------------+----------------+-----------------+----------------------+-----------------+------------------+--------------------+-----------------+---------------------+----------------------+-------------------------+-----------------------+---------------------------+---------------------+------------------+----------------+--------------------+---------------------+-----------------------+------------------+-------------------+----------------------+--------------------+--------------+---------------+--------------------+---------------+----------------+------------------+---------------+-------------------+--------------------+-----------------------+---------------------+-------------------------+--------------------+----------------+--------+------------+-----+\n",
      "only showing top 1 row\n",
      "\n"
     ]
    }
   ],
   "source": [
    "# drop month 0 since we do not have old information to predict churn for this month\n",
    "# keep only features to be trained and labels\n",
    "\n",
    "model_data = all_data \\\n",
    ".filter(all_data.month_num>0) \\\n",
    ".select('userId_n', 'month_num', 'numRegister_lastMonth', 'numCancelVisits_lastMonth',\\\n",
    "        'numUpgradeVisits_lastMonth', 'numDowngradeVisits_lastMonth',\\\n",
    "        'numHomeVisits_lastMonth', 'numAboutVisits_lastMonth',\\\n",
    "        'numSettingsVisits_lastMonth', 'numSaveSettings_lastMonth',\\\n",
    "        'numLogins_lastMonth', 'numLogouts_lastMonth', \\\n",
    "        'numAddPlaylists_lastMonth', 'numFriends_lastMonth',\\\n",
    "        'numThumbsUp_lastMonth', 'numThumbsDown_lastMonth',\\\n",
    "        'numAdverts_lastMonth', 'numSongsPlayed_lastMonth',\\\n",
    "        'totalListenTime_lastMonth', 'avgSongsPerSession_lastMonth',\\\n",
    "        'numSingersPlayed_lastMonth', 'avgSingersPerSession_lastMonth',\\\n",
    "        'avgSessionMins_lastMonth', 'numSessions_lastMonth',\\\n",
    "        'level_lastMonth_n', 'numRegister_movAvg', 'numCancelVisits_movAvg',\\\n",
    "        'numUpgradeVisits_movAvg', 'numDowngradeVisits_movAvg',\\\n",
    "        'numHomeVisits_movAvg', 'numAboutVisits_movAvg',\\\n",
    "        'numSettingsVisits_movAvg', 'numSaveSettings_movAvg',\\\n",
    "        'numLogins_movAvg', 'numLogouts_movAvg',\\\n",
    "        'numAddPlaylists_movAvg', 'numFriends_movAvg',\\\n",
    "        'numThumbsUp_movAvg', 'numThumbsDown_movAvg',\\\n",
    "        'numAdverts_movAvg', 'numSongsPlayed_movAvg',\\\n",
    "        'totalListenTime_movAvg', 'avgSongsPerSession_movAvg',\\\n",
    "        'numSingersPlayed_movAvg', 'avgSingersPerSession_movAvg',\\\n",
    "        'avgSessionMins_movAvg', 'numSessions_movAvg',\\\n",
    "        'diff_numRegister', 'diff_numCancelVisits',\\\n",
    "        'diff_numUpgradeVisits', 'diff_numDowngradeVisits',\\\n",
    "        'diff_numHomeVisits', 'diff_numAboutVisits',\\\n",
    "        'diff_numSettingsVisits', 'diff_numSaveSettings',\\\n",
    "        'diff_numLogins', 'diff_numLogouts',\\\n",
    "        'diff_numAddPlaylists', 'diff_numFriends',\\\n",
    "        'diff_numThumbsUp', 'diff_numThumbsDown',\\\n",
    "        'diff_numAdverts', 'diff_numSongsPlayed',\\\n",
    "        'diff_totalListenTime', 'diff_avgSongsPerSession',\\\n",
    "        'diff_numSingersPlayed', 'diff_avgSingersPerSession',\n",
    "        'diff_avgSessionMins', 'diff_numSessions',\\\n",
    "        'gender_n', 'daysSinceReg', 'churn'\n",
    "        ).withColumnRenamed('churn', 'label')\n",
    "\n",
    "model_data.show(1)"
   ]
  },
  {
   "cell_type": "code",
   "execution_count": 9,
   "metadata": {},
   "outputs": [
    {
     "name": "stdout",
     "output_type": "stream",
     "text": [
      "+--------+---------+---------------------+-------------------------+--------------------------+----------------------------+-----------------------+------------------------+---------------------------+-------------------------+-------------------+--------------------+-------------------------+--------------------+---------------------+-----------------------+--------------------+------------------------+-------------------------+----------------------------+--------------------------+------------------------------+------------------------+---------------------+-----------------+------------------+----------------------+-----------------------+-------------------------+--------------------+---------------------+------------------------+----------------------+----------------+-----------------+----------------------+-----------------+------------------+--------------------+-----------------+---------------------+----------------------+-------------------------+-----------------------+---------------------------+---------------------+------------------+----------------+--------------------+---------------------+-----------------------+------------------+-------------------+----------------------+--------------------+--------------+---------------+--------------------+---------------+----------------+------------------+---------------+-------------------+--------------------+-----------------------+---------------------+-------------------------+-------------------+----------------+--------+------------+-----+\n",
      "|userId_n|month_num|numRegister_lastMonth|numCancelVisits_lastMonth|numUpgradeVisits_lastMonth|numDowngradeVisits_lastMonth|numHomeVisits_lastMonth|numAboutVisits_lastMonth|numSettingsVisits_lastMonth|numSaveSettings_lastMonth|numLogins_lastMonth|numLogouts_lastMonth|numAddPlaylists_lastMonth|numFriends_lastMonth|numThumbsUp_lastMonth|numThumbsDown_lastMonth|numAdverts_lastMonth|numSongsPlayed_lastMonth|totalListenTime_lastMonth|avgSongsPerSession_lastMonth|numSingersPlayed_lastMonth|avgSingersPerSession_lastMonth|avgSessionMins_lastMonth|numSessions_lastMonth|level_lastMonth_n|numRegister_movAvg|numCancelVisits_movAvg|numUpgradeVisits_movAvg|numDowngradeVisits_movAvg|numHomeVisits_movAvg|numAboutVisits_movAvg|numSettingsVisits_movAvg|numSaveSettings_movAvg|numLogins_movAvg|numLogouts_movAvg|numAddPlaylists_movAvg|numFriends_movAvg|numThumbsUp_movAvg|numThumbsDown_movAvg|numAdverts_movAvg|numSongsPlayed_movAvg|totalListenTime_movAvg|avgSongsPerSession_movAvg|numSingersPlayed_movAvg|avgSingersPerSession_movAvg|avgSessionMins_movAvg|numSessions_movAvg|diff_numRegister|diff_numCancelVisits|diff_numUpgradeVisits|diff_numDowngradeVisits|diff_numHomeVisits|diff_numAboutVisits|diff_numSettingsVisits|diff_numSaveSettings|diff_numLogins|diff_numLogouts|diff_numAddPlaylists|diff_numFriends|diff_numThumbsUp|diff_numThumbsDown|diff_numAdverts|diff_numSongsPlayed|diff_totalListenTime|diff_avgSongsPerSession|diff_numSingersPlayed|diff_avgSingersPerSession|diff_avgSessionMins|diff_numSessions|gender_n|daysSinceReg|label|\n",
      "+--------+---------+---------------------+-------------------------+--------------------------+----------------------------+-----------------------+------------------------+---------------------------+-------------------------+-------------------+--------------------+-------------------------+--------------------+---------------------+-----------------------+--------------------+------------------------+-------------------------+----------------------------+--------------------------+------------------------------+------------------------+---------------------+-----------------+------------------+----------------------+-----------------------+-------------------------+--------------------+---------------------+------------------------+----------------------+----------------+-----------------+----------------------+-----------------+------------------+--------------------+-----------------+---------------------+----------------------+-------------------------+-----------------------+---------------------------+---------------------+------------------+----------------+--------------------+---------------------+-----------------------+------------------+-------------------+----------------------+--------------------+--------------+---------------+--------------------+---------------+----------------+------------------+---------------+-------------------+--------------------+-----------------------+---------------------+-------------------------+-------------------+----------------+--------+------------+-----+\n",
      "|       0|        0|                    0|                        0|                         0|                           0|                      0|                       0|                          0|                        0|                  0|                   0|                        0|                   0|                    0|                      0|                   0|                       0|                        0|                           0|                         0|                             0|                       0|                    0|                0|                 0|                     0|                      0|                        0|                   0|                    0|                       0|                     0|               0|                0|                     0|                0|                 0|                   0|                0|                    0|                     0|                        0|                      0|                          0|                    0|                 0|               0|                   0|                    0|                      0|                 0|                  0|                     0|                   0|             0|              0|                   0|              0|               0|                 0|              0|                  0|                   0|                      0|                    0|                        0|                  0|               0|       0|           0|    0|\n",
      "+--------+---------+---------------------+-------------------------+--------------------------+----------------------------+-----------------------+------------------------+---------------------------+-------------------------+-------------------+--------------------+-------------------------+--------------------+---------------------+-----------------------+--------------------+------------------------+-------------------------+----------------------------+--------------------------+------------------------------+------------------------+---------------------+-----------------+------------------+----------------------+-----------------------+-------------------------+--------------------+---------------------+------------------------+----------------------+----------------+-----------------+----------------------+-----------------+------------------+--------------------+-----------------+---------------------+----------------------+-------------------------+-----------------------+---------------------------+---------------------+------------------+----------------+--------------------+---------------------+-----------------------+------------------+-------------------+----------------------+--------------------+--------------+---------------+--------------------+---------------+----------------+------------------+---------------+-------------------+--------------------+-----------------------+---------------------+-------------------------+-------------------+----------------+--------+------------+-----+\n",
      "\n"
     ]
    }
   ],
   "source": [
    "model_data.select([count(when(col(c).isNull(), c)).alias(c) for c in model_data.columns]).show()"
   ]
  },
  {
   "cell_type": "code",
   "execution_count": 10,
   "metadata": {},
   "outputs": [],
   "source": [
    "# for small dataset with 2 months, just use randomSplit\n",
    "# for bigger datasets with multiple months, can split according to months\n",
    "train,test = model_data.randomSplit([0.8, 0.2], seed=50)"
   ]
  },
  {
   "cell_type": "code",
   "execution_count": 46,
   "metadata": {},
   "outputs": [],
   "source": [
    "# for small dataset, just train with last month's stats since there are only 2 months\n",
    "# for large dataset, can train with last month's stats, moving averages and diffs\n",
    "\n",
    "# small dataset\n",
    "inputColumns = ['userId_n', 'month_num', 'numRegister_lastMonth', 'numCancelVisits_lastMonth',\\\n",
    "                'numUpgradeVisits_lastMonth', 'numDowngradeVisits_lastMonth',\\\n",
    "                'numHomeVisits_lastMonth', 'numAboutVisits_lastMonth',\\\n",
    "                'numSettingsVisits_lastMonth', 'numSaveSettings_lastMonth',\\\n",
    "                'numLogins_lastMonth', 'numLogouts_lastMonth', \\\n",
    "                'numAddPlaylists_lastMonth', 'numFriends_lastMonth',\\\n",
    "                'numThumbsUp_lastMonth', 'numThumbsDown_lastMonth',\\\n",
    "                'numAdverts_lastMonth', 'numSongsPlayed_lastMonth',\\\n",
    "                'totalListenTime_lastMonth', 'avgSongsPerSession_lastMonth',\\\n",
    "                'numSingersPlayed_lastMonth', 'avgSingersPerSession_lastMonth',\\\n",
    "                'avgSessionMins_lastMonth', 'numSessions_lastMonth',\\\n",
    "                'level_lastMonth_n', 'gender_n', 'daysSinceReg']\n",
    "\n",
    "\n",
    "assembler = VectorAssembler(inputCols=inputColumns, outputCol=\"FeaturesVec\")\n",
    "#data = assembler.transform(model_data)\n",
    "\n",
    "scaler = StandardScaler(inputCol=\"FeaturesVec\", outputCol=\"features\", withMean=True, withStd=True)\n",
    "#scalerModel = scaler.fit(data)\n",
    "#data = scalerModel.transform(data)\n",
    "#data = data.select(data.churn.alias(\"label\"), data.ScaledFeatures.alias(\"features\"))\n",
    "\n",
    "# set max_iter to 30 for prototype, instead of the default 100, to save time\n",
    "\n",
    "# Logistic Regression\n",
    "lr=LogisticRegression(maxIter=30)\n",
    "pipeline_lr = Pipeline(stages=[assembler, scaler, lr])\n",
    "\n",
    "# Support Vector Machine Classifier\n",
    "svc = LinearSVC(maxIter=30)\n",
    "pipeline_svc = Pipeline(stages=[assembler, scaler, svc])\n",
    "\n",
    "# Gradient Boosted Trees\n",
    "gbt = GBTClassifier(maxIter=20, seed=42)\n",
    "pipeline_gbt = Pipeline(stages=[assembler, scaler, gbt])"
   ]
  },
  {
   "cell_type": "code",
   "execution_count": 35,
   "metadata": {},
   "outputs": [],
   "source": [
    "# logistic Regression\n",
    "# Using default L2 regularization\n",
    "paramGrid = ParamGridBuilder() \\\n",
    "    .addGrid(lr.regParam,[0.0, 0.05, 0.1, 0.2, 0.5]) \\\n",
    "    .build()\n",
    "\n",
    "cv_lr = CrossValidator(estimator=pipeline_lr,\\\n",
    "                       estimatorParamMaps=paramGrid,\\\n",
    "                       evaluator=MulticlassClassificationEvaluator(),\\\n",
    "                       numFolds=5,\\\n",
    "                       seed=42\n",
    "                      )\n",
    "cvModel_lr = cv_lr.fit(train)"
   ]
  },
  {
   "cell_type": "code",
   "execution_count": 20,
   "metadata": {},
   "outputs": [],
   "source": [
    "#best_lr = cvModel_lr.bestModel\n",
    "#print(\"Best reg param: \"+best_lr._java_obj.getRegParam())"
   ]
  },
  {
   "cell_type": "code",
   "execution_count": 36,
   "metadata": {},
   "outputs": [
    {
     "data": {
      "text/plain": [
       "[0.7393129722615804,\n",
       " 0.7531598232298164,\n",
       " 0.7572378374142137,\n",
       " 0.7526645535552154,\n",
       " 0.7525771611205323]"
      ]
     },
     "execution_count": 36,
     "metadata": {},
     "output_type": "execute_result"
    }
   ],
   "source": [
    "cvModel_lr.avgMetrics"
   ]
  },
  {
   "cell_type": "code",
   "execution_count": 37,
   "metadata": {},
   "outputs": [],
   "source": [
    "lr_results = cvModel_lr.transform(test)"
   ]
  },
  {
   "cell_type": "code",
   "execution_count": 38,
   "metadata": {},
   "outputs": [
    {
     "name": "stdout",
     "output_type": "stream",
     "text": [
      "Logistic Regression Model --- Accuracy is: \n",
      "0.7352941176470589\n"
     ]
    }
   ],
   "source": [
    "evaluator = MulticlassClassificationEvaluator(predictionCol=\"prediction\")\n",
    "print(\"Logistic Regression Model --- Accuracy is: \")\n",
    "print(evaluator.evaluate(lr_results, {evaluator.metricName: \"accuracy\"}))"
   ]
  },
  {
   "cell_type": "code",
   "execution_count": 39,
   "metadata": {},
   "outputs": [
    {
     "name": "stdout",
     "output_type": "stream",
     "text": [
      "Logistic Regression Model --- F1-Score is: \n",
      "0.6653229123817358\n"
     ]
    }
   ],
   "source": [
    "print(\"Logistic Regression Model --- F1-Score is: \")\n",
    "print(evaluator.evaluate(lr_results, {evaluator.metricName: \"f1\"}))"
   ]
  },
  {
   "cell_type": "code",
   "execution_count": null,
   "metadata": {},
   "outputs": [],
   "source": []
  },
  {
   "cell_type": "code",
   "execution_count": 40,
   "metadata": {},
   "outputs": [],
   "source": [
    "# Linear Support Vector Machine\n",
    "# Using L2 regularization\n",
    "paramGrid = ParamGridBuilder() \\\n",
    "    .addGrid(svc.regParam,[0.0, 0.05, 0.1, 0.2, 0.5]) \\\n",
    "    .build()\n",
    "\n",
    "cv_svc = CrossValidator(estimator=pipeline_svc,\\\n",
    "                       estimatorParamMaps=paramGrid,\\\n",
    "                       evaluator=MulticlassClassificationEvaluator(),\\\n",
    "                       numFolds=5,\\\n",
    "                       seed=42\n",
    "                      )\n",
    "cvModel_svc = cv_svc.fit(train)"
   ]
  },
  {
   "cell_type": "code",
   "execution_count": 41,
   "metadata": {},
   "outputs": [
    {
     "data": {
      "text/plain": [
       "[0.7294475527259199,\n",
       " 0.7142637602618314,\n",
       " 0.7292960375744046,\n",
       " 0.7276429494616892,\n",
       " 0.7316598627809281]"
      ]
     },
     "execution_count": 41,
     "metadata": {},
     "output_type": "execute_result"
    }
   ],
   "source": [
    "cvModel_svc.avgMetrics"
   ]
  },
  {
   "cell_type": "code",
   "execution_count": 42,
   "metadata": {},
   "outputs": [],
   "source": [
    "svc_results = cvModel_svc.transform(test)"
   ]
  },
  {
   "cell_type": "code",
   "execution_count": 43,
   "metadata": {},
   "outputs": [
    {
     "name": "stdout",
     "output_type": "stream",
     "text": [
      "Linear SVC Model --- Accuracy is: \n",
      "0.6764705882352942\n"
     ]
    }
   ],
   "source": [
    "evaluator = MulticlassClassificationEvaluator(predictionCol=\"prediction\")\n",
    "print(\"Linear SVC Model --- Accuracy is: \")\n",
    "print(evaluator.evaluate(svc_results, {evaluator.metricName: \"accuracy\"}))"
   ]
  },
  {
   "cell_type": "code",
   "execution_count": 44,
   "metadata": {},
   "outputs": [
    {
     "name": "stdout",
     "output_type": "stream",
     "text": [
      "Linear SVC Model --- F1-Score is: \n",
      "0.5459236326109391\n"
     ]
    }
   ],
   "source": [
    "print(\"Linear SVC Model --- F1-Score is: \")\n",
    "print(evaluator.evaluate(svc_results, {evaluator.metricName: \"f1\"}))"
   ]
  },
  {
   "cell_type": "code",
   "execution_count": null,
   "metadata": {},
   "outputs": [],
   "source": []
  },
  {
   "cell_type": "code",
   "execution_count": 48,
   "metadata": {},
   "outputs": [],
   "source": [
    "# Gradient Boosted Trees\n",
    "paramGrid = ParamGridBuilder() \\\n",
    "            .addGrid(gbt.minInstancesPerNode,[1, 5, 10, 20, 50]) \\\n",
    "            .addGrid(gbt.maxDepth,[5, 7, 9])\\\n",
    "            .addGrid(gbt.subsamplingRate,[0.5,0.75,1.0])\\\n",
    "            .build()\n",
    "\n",
    "cv_gbt = CrossValidator(estimator=pipeline_gbt,\\\n",
    "                        estimatorParamMaps=paramGrid,\\\n",
    "                        evaluator=MulticlassClassificationEvaluator(),\\\n",
    "                        numFolds=5,\\\n",
    "                        seed=42\n",
    "                       )\n",
    "cvModel_gbt = cv_gbt.fit(train)"
   ]
  },
  {
   "cell_type": "code",
   "execution_count": 49,
   "metadata": {},
   "outputs": [
    {
     "data": {
      "text/plain": [
       "[0.7545745482679445,\n",
       " 0.7460449445215738,\n",
       " 0.7286451804448957,\n",
       " 0.7312254417249596,\n",
       " 0.7461872502381464,\n",
       " 0.727749148372393,\n",
       " 0.7488766737732255,\n",
       " 0.7461872502381464,\n",
       " 0.7142856506950087,\n",
       " 0.7002841656465882,\n",
       " 0.7689063159063159,\n",
       " 0.7437455651845896,\n",
       " 0.7036498428807391,\n",
       " 0.7689063159063159,\n",
       " 0.7676898582898584,\n",
       " 0.696286060829457,\n",
       " 0.7591524697524699,\n",
       " 0.7595933833362405,\n",
       " 0.7319050026719283,\n",
       " 0.7637630150181876,\n",
       " 0.7447608986795149,\n",
       " 0.7319050026719283,\n",
       " 0.7688490610476297,\n",
       " 0.7608488756613757,\n",
       " 0.7319050026719283,\n",
       " 0.7688490610476297,\n",
       " 0.7554221011779975,\n",
       " 0.723102703970234,\n",
       " 0.7126143865639939,\n",
       " 0.7220418895498795,\n",
       " 0.723102703970234,\n",
       " 0.7126143865639939,\n",
       " 0.7220418895498795,\n",
       " 0.723102703970234,\n",
       " 0.7126143865639939,\n",
       " 0.7220418895498795,\n",
       " 0.7137622662385389,\n",
       " 0.7137622662385389,\n",
       " 0.7017820559726143,\n",
       " 0.7137622662385389,\n",
       " 0.7137622662385389,\n",
       " 0.7017820559726143,\n",
       " 0.7137622662385389,\n",
       " 0.7137622662385389,\n",
       " 0.7017820559726143]"
      ]
     },
     "execution_count": 49,
     "metadata": {},
     "output_type": "execute_result"
    }
   ],
   "source": [
    "cvModel_gbt.avgMetrics"
   ]
  },
  {
   "cell_type": "code",
   "execution_count": 50,
   "metadata": {},
   "outputs": [],
   "source": [
    "gbt_results = cvModel_gbt.transform(test)"
   ]
  },
  {
   "cell_type": "code",
   "execution_count": 51,
   "metadata": {},
   "outputs": [
    {
     "name": "stdout",
     "output_type": "stream",
     "text": [
      "GBT Model --- Accuracy is: \n",
      "0.7647058823529411\n"
     ]
    }
   ],
   "source": [
    "evaluator = MulticlassClassificationEvaluator(predictionCol=\"prediction\")\n",
    "print(\"GBT Model --- Accuracy is: \")\n",
    "print(evaluator.evaluate(gbt_results, {evaluator.metricName: \"accuracy\"}))"
   ]
  },
  {
   "cell_type": "code",
   "execution_count": 52,
   "metadata": {},
   "outputs": [
    {
     "name": "stdout",
     "output_type": "stream",
     "text": [
      "GBT Model --- F1-Score is: \n",
      "0.7341628959276019\n"
     ]
    }
   ],
   "source": [
    "print(\"GBT Model --- F1-Score is: \")\n",
    "print(evaluator.evaluate(gbt_results, {evaluator.metricName: \"f1\"}))"
   ]
  },
  {
   "cell_type": "code",
   "execution_count": 57,
   "metadata": {
    "scrolled": true
   },
   "outputs": [
    {
     "data": {
      "text/html": [
       "<div>\n",
       "<style>\n",
       "    .dataframe thead tr:only-child th {\n",
       "        text-align: right;\n",
       "    }\n",
       "\n",
       "    .dataframe thead th {\n",
       "        text-align: left;\n",
       "    }\n",
       "\n",
       "    .dataframe tbody tr th {\n",
       "        vertical-align: top;\n",
       "    }\n",
       "</style>\n",
       "<table border=\"1\" class=\"dataframe\">\n",
       "  <thead>\n",
       "    <tr style=\"text-align: right;\">\n",
       "      <th></th>\n",
       "      <th>f1</th>\n",
       "      <th>maxDepth</th>\n",
       "      <th>minInstancesPerNode</th>\n",
       "      <th>subsamplingRate</th>\n",
       "    </tr>\n",
       "  </thead>\n",
       "  <tbody>\n",
       "    <tr>\n",
       "      <th>0</th>\n",
       "      <td>0.754575</td>\n",
       "      <td>5</td>\n",
       "      <td>1</td>\n",
       "      <td>0.50</td>\n",
       "    </tr>\n",
       "    <tr>\n",
       "      <th>1</th>\n",
       "      <td>0.746045</td>\n",
       "      <td>5</td>\n",
       "      <td>1</td>\n",
       "      <td>0.75</td>\n",
       "    </tr>\n",
       "    <tr>\n",
       "      <th>2</th>\n",
       "      <td>0.728645</td>\n",
       "      <td>5</td>\n",
       "      <td>1</td>\n",
       "      <td>1.00</td>\n",
       "    </tr>\n",
       "    <tr>\n",
       "      <th>3</th>\n",
       "      <td>0.731225</td>\n",
       "      <td>7</td>\n",
       "      <td>1</td>\n",
       "      <td>0.50</td>\n",
       "    </tr>\n",
       "    <tr>\n",
       "      <th>4</th>\n",
       "      <td>0.746187</td>\n",
       "      <td>7</td>\n",
       "      <td>1</td>\n",
       "      <td>0.75</td>\n",
       "    </tr>\n",
       "    <tr>\n",
       "      <th>5</th>\n",
       "      <td>0.727749</td>\n",
       "      <td>7</td>\n",
       "      <td>1</td>\n",
       "      <td>1.00</td>\n",
       "    </tr>\n",
       "    <tr>\n",
       "      <th>6</th>\n",
       "      <td>0.748877</td>\n",
       "      <td>9</td>\n",
       "      <td>1</td>\n",
       "      <td>0.50</td>\n",
       "    </tr>\n",
       "    <tr>\n",
       "      <th>7</th>\n",
       "      <td>0.746187</td>\n",
       "      <td>9</td>\n",
       "      <td>1</td>\n",
       "      <td>0.75</td>\n",
       "    </tr>\n",
       "    <tr>\n",
       "      <th>8</th>\n",
       "      <td>0.714286</td>\n",
       "      <td>9</td>\n",
       "      <td>1</td>\n",
       "      <td>1.00</td>\n",
       "    </tr>\n",
       "    <tr>\n",
       "      <th>9</th>\n",
       "      <td>0.700284</td>\n",
       "      <td>5</td>\n",
       "      <td>5</td>\n",
       "      <td>0.50</td>\n",
       "    </tr>\n",
       "    <tr>\n",
       "      <th>10</th>\n",
       "      <td>0.768906</td>\n",
       "      <td>5</td>\n",
       "      <td>5</td>\n",
       "      <td>0.75</td>\n",
       "    </tr>\n",
       "    <tr>\n",
       "      <th>11</th>\n",
       "      <td>0.743746</td>\n",
       "      <td>5</td>\n",
       "      <td>5</td>\n",
       "      <td>1.00</td>\n",
       "    </tr>\n",
       "    <tr>\n",
       "      <th>12</th>\n",
       "      <td>0.703650</td>\n",
       "      <td>7</td>\n",
       "      <td>5</td>\n",
       "      <td>0.50</td>\n",
       "    </tr>\n",
       "    <tr>\n",
       "      <th>13</th>\n",
       "      <td>0.768906</td>\n",
       "      <td>7</td>\n",
       "      <td>5</td>\n",
       "      <td>0.75</td>\n",
       "    </tr>\n",
       "    <tr>\n",
       "      <th>14</th>\n",
       "      <td>0.767690</td>\n",
       "      <td>7</td>\n",
       "      <td>5</td>\n",
       "      <td>1.00</td>\n",
       "    </tr>\n",
       "    <tr>\n",
       "      <th>15</th>\n",
       "      <td>0.696286</td>\n",
       "      <td>9</td>\n",
       "      <td>5</td>\n",
       "      <td>0.50</td>\n",
       "    </tr>\n",
       "    <tr>\n",
       "      <th>16</th>\n",
       "      <td>0.759152</td>\n",
       "      <td>9</td>\n",
       "      <td>5</td>\n",
       "      <td>0.75</td>\n",
       "    </tr>\n",
       "    <tr>\n",
       "      <th>17</th>\n",
       "      <td>0.759593</td>\n",
       "      <td>9</td>\n",
       "      <td>5</td>\n",
       "      <td>1.00</td>\n",
       "    </tr>\n",
       "    <tr>\n",
       "      <th>18</th>\n",
       "      <td>0.731905</td>\n",
       "      <td>5</td>\n",
       "      <td>10</td>\n",
       "      <td>0.50</td>\n",
       "    </tr>\n",
       "    <tr>\n",
       "      <th>19</th>\n",
       "      <td>0.763763</td>\n",
       "      <td>5</td>\n",
       "      <td>10</td>\n",
       "      <td>0.75</td>\n",
       "    </tr>\n",
       "    <tr>\n",
       "      <th>20</th>\n",
       "      <td>0.744761</td>\n",
       "      <td>5</td>\n",
       "      <td>10</td>\n",
       "      <td>1.00</td>\n",
       "    </tr>\n",
       "    <tr>\n",
       "      <th>21</th>\n",
       "      <td>0.731905</td>\n",
       "      <td>7</td>\n",
       "      <td>10</td>\n",
       "      <td>0.50</td>\n",
       "    </tr>\n",
       "    <tr>\n",
       "      <th>22</th>\n",
       "      <td>0.768849</td>\n",
       "      <td>7</td>\n",
       "      <td>10</td>\n",
       "      <td>0.75</td>\n",
       "    </tr>\n",
       "    <tr>\n",
       "      <th>23</th>\n",
       "      <td>0.760849</td>\n",
       "      <td>7</td>\n",
       "      <td>10</td>\n",
       "      <td>1.00</td>\n",
       "    </tr>\n",
       "    <tr>\n",
       "      <th>24</th>\n",
       "      <td>0.731905</td>\n",
       "      <td>9</td>\n",
       "      <td>10</td>\n",
       "      <td>0.50</td>\n",
       "    </tr>\n",
       "    <tr>\n",
       "      <th>25</th>\n",
       "      <td>0.768849</td>\n",
       "      <td>9</td>\n",
       "      <td>10</td>\n",
       "      <td>0.75</td>\n",
       "    </tr>\n",
       "    <tr>\n",
       "      <th>26</th>\n",
       "      <td>0.755422</td>\n",
       "      <td>9</td>\n",
       "      <td>10</td>\n",
       "      <td>1.00</td>\n",
       "    </tr>\n",
       "    <tr>\n",
       "      <th>27</th>\n",
       "      <td>0.723103</td>\n",
       "      <td>5</td>\n",
       "      <td>20</td>\n",
       "      <td>0.50</td>\n",
       "    </tr>\n",
       "    <tr>\n",
       "      <th>28</th>\n",
       "      <td>0.712614</td>\n",
       "      <td>5</td>\n",
       "      <td>20</td>\n",
       "      <td>0.75</td>\n",
       "    </tr>\n",
       "    <tr>\n",
       "      <th>29</th>\n",
       "      <td>0.722042</td>\n",
       "      <td>5</td>\n",
       "      <td>20</td>\n",
       "      <td>1.00</td>\n",
       "    </tr>\n",
       "    <tr>\n",
       "      <th>30</th>\n",
       "      <td>0.723103</td>\n",
       "      <td>7</td>\n",
       "      <td>20</td>\n",
       "      <td>0.50</td>\n",
       "    </tr>\n",
       "    <tr>\n",
       "      <th>31</th>\n",
       "      <td>0.712614</td>\n",
       "      <td>7</td>\n",
       "      <td>20</td>\n",
       "      <td>0.75</td>\n",
       "    </tr>\n",
       "    <tr>\n",
       "      <th>32</th>\n",
       "      <td>0.722042</td>\n",
       "      <td>7</td>\n",
       "      <td>20</td>\n",
       "      <td>1.00</td>\n",
       "    </tr>\n",
       "    <tr>\n",
       "      <th>33</th>\n",
       "      <td>0.723103</td>\n",
       "      <td>9</td>\n",
       "      <td>20</td>\n",
       "      <td>0.50</td>\n",
       "    </tr>\n",
       "    <tr>\n",
       "      <th>34</th>\n",
       "      <td>0.712614</td>\n",
       "      <td>9</td>\n",
       "      <td>20</td>\n",
       "      <td>0.75</td>\n",
       "    </tr>\n",
       "    <tr>\n",
       "      <th>35</th>\n",
       "      <td>0.722042</td>\n",
       "      <td>9</td>\n",
       "      <td>20</td>\n",
       "      <td>1.00</td>\n",
       "    </tr>\n",
       "    <tr>\n",
       "      <th>36</th>\n",
       "      <td>0.713762</td>\n",
       "      <td>5</td>\n",
       "      <td>50</td>\n",
       "      <td>0.50</td>\n",
       "    </tr>\n",
       "    <tr>\n",
       "      <th>37</th>\n",
       "      <td>0.713762</td>\n",
       "      <td>5</td>\n",
       "      <td>50</td>\n",
       "      <td>0.75</td>\n",
       "    </tr>\n",
       "    <tr>\n",
       "      <th>38</th>\n",
       "      <td>0.701782</td>\n",
       "      <td>5</td>\n",
       "      <td>50</td>\n",
       "      <td>1.00</td>\n",
       "    </tr>\n",
       "    <tr>\n",
       "      <th>39</th>\n",
       "      <td>0.713762</td>\n",
       "      <td>7</td>\n",
       "      <td>50</td>\n",
       "      <td>0.50</td>\n",
       "    </tr>\n",
       "    <tr>\n",
       "      <th>40</th>\n",
       "      <td>0.713762</td>\n",
       "      <td>7</td>\n",
       "      <td>50</td>\n",
       "      <td>0.75</td>\n",
       "    </tr>\n",
       "    <tr>\n",
       "      <th>41</th>\n",
       "      <td>0.701782</td>\n",
       "      <td>7</td>\n",
       "      <td>50</td>\n",
       "      <td>1.00</td>\n",
       "    </tr>\n",
       "    <tr>\n",
       "      <th>42</th>\n",
       "      <td>0.713762</td>\n",
       "      <td>9</td>\n",
       "      <td>50</td>\n",
       "      <td>0.50</td>\n",
       "    </tr>\n",
       "    <tr>\n",
       "      <th>43</th>\n",
       "      <td>0.713762</td>\n",
       "      <td>9</td>\n",
       "      <td>50</td>\n",
       "      <td>0.75</td>\n",
       "    </tr>\n",
       "    <tr>\n",
       "      <th>44</th>\n",
       "      <td>0.701782</td>\n",
       "      <td>9</td>\n",
       "      <td>50</td>\n",
       "      <td>1.00</td>\n",
       "    </tr>\n",
       "  </tbody>\n",
       "</table>\n",
       "</div>"
      ],
      "text/plain": [
       "          f1  maxDepth  minInstancesPerNode  subsamplingRate\n",
       "0   0.754575         5                    1             0.50\n",
       "1   0.746045         5                    1             0.75\n",
       "2   0.728645         5                    1             1.00\n",
       "3   0.731225         7                    1             0.50\n",
       "4   0.746187         7                    1             0.75\n",
       "5   0.727749         7                    1             1.00\n",
       "6   0.748877         9                    1             0.50\n",
       "7   0.746187         9                    1             0.75\n",
       "8   0.714286         9                    1             1.00\n",
       "9   0.700284         5                    5             0.50\n",
       "10  0.768906         5                    5             0.75\n",
       "11  0.743746         5                    5             1.00\n",
       "12  0.703650         7                    5             0.50\n",
       "13  0.768906         7                    5             0.75\n",
       "14  0.767690         7                    5             1.00\n",
       "15  0.696286         9                    5             0.50\n",
       "16  0.759152         9                    5             0.75\n",
       "17  0.759593         9                    5             1.00\n",
       "18  0.731905         5                   10             0.50\n",
       "19  0.763763         5                   10             0.75\n",
       "20  0.744761         5                   10             1.00\n",
       "21  0.731905         7                   10             0.50\n",
       "22  0.768849         7                   10             0.75\n",
       "23  0.760849         7                   10             1.00\n",
       "24  0.731905         9                   10             0.50\n",
       "25  0.768849         9                   10             0.75\n",
       "26  0.755422         9                   10             1.00\n",
       "27  0.723103         5                   20             0.50\n",
       "28  0.712614         5                   20             0.75\n",
       "29  0.722042         5                   20             1.00\n",
       "30  0.723103         7                   20             0.50\n",
       "31  0.712614         7                   20             0.75\n",
       "32  0.722042         7                   20             1.00\n",
       "33  0.723103         9                   20             0.50\n",
       "34  0.712614         9                   20             0.75\n",
       "35  0.722042         9                   20             1.00\n",
       "36  0.713762         5                   50             0.50\n",
       "37  0.713762         5                   50             0.75\n",
       "38  0.701782         5                   50             1.00\n",
       "39  0.713762         7                   50             0.50\n",
       "40  0.713762         7                   50             0.75\n",
       "41  0.701782         7                   50             1.00\n",
       "42  0.713762         9                   50             0.50\n",
       "43  0.713762         9                   50             0.75\n",
       "44  0.701782         9                   50             1.00"
      ]
     },
     "execution_count": 57,
     "metadata": {},
     "output_type": "execute_result"
    }
   ],
   "source": [
    "# from https://stackoverflow.com/questions/51230726/extract-results-from-crossvalidator-with-paramgrid-in-pyspark\n",
    "\n",
    "params = [{p.name: v for p, v in m.items()} for m in cvModel_gbt.getEstimatorParamMaps()]\n",
    "\n",
    "pd.DataFrame.from_dict([\n",
    "    {cvModel_gbt.getEvaluator().getMetricName(): metric, **ps} \n",
    "    for ps, metric in zip(params, cvModel_gbt.avgMetrics)\n",
    "])"
   ]
  },
  {
   "cell_type": "code",
   "execution_count": 64,
   "metadata": {},
   "outputs": [
    {
     "data": {
      "text/plain": [
       "[VectorAssembler_46c5bf82996a0e7ea9a4,\n",
       " StandardScaler_426b9ace914695cdcf85,\n",
       " GBTClassificationModel (uid=GBTClassifier_4c998bb7803857d73bc3) with 20 trees]"
      ]
     },
     "execution_count": 64,
     "metadata": {},
     "output_type": "execute_result"
    }
   ],
   "source": [
    "# from https://blog.epigno.systems/2018/02/24/machine-learning-with-pyspark-feature-ranking/\n",
    "cvModel_gbt.bestModel.stages"
   ]
  },
  {
   "cell_type": "code",
   "execution_count": 63,
   "metadata": {
    "scrolled": false
   },
   "outputs": [
    {
     "data": {
      "text/plain": [
       "SparseVector(27, {0: 0.0974, 4: 0.0318, 5: 0.0583, 6: 0.058, 7: 0.0198, 8: 0.0289, 9: 0.007, 11: 0.0616, 12: 0.0372, 13: 0.1375, 14: 0.0805, 15: 0.0663, 16: 0.0999, 17: 0.0435, 19: 0.0039, 20: 0.0227, 22: 0.0076, 23: 0.0295, 24: 0.0454, 26: 0.0631})"
      ]
     },
     "execution_count": 63,
     "metadata": {},
     "output_type": "execute_result"
    }
   ],
   "source": [
    "cvModel_gbt.bestModel.stages[-1].featureImportances"
   ]
  },
  {
   "cell_type": "code",
   "execution_count": 65,
   "metadata": {},
   "outputs": [
    {
     "data": {
      "text/plain": [
       "array([ 0.09739291,  0.        ,  0.        ,  0.        ,  0.03181163,\n",
       "        0.05828596,  0.05796049,  0.0198144 ,  0.02894187,  0.00703057,\n",
       "        0.        ,  0.06158902,  0.03724186,  0.13750064,  0.08052148,\n",
       "        0.06633749,  0.09986315,  0.04353675,  0.        ,  0.00392347,\n",
       "        0.02266022,  0.        ,  0.00762168,  0.02951858,  0.04536605,\n",
       "        0.        ,  0.06308179])"
      ]
     },
     "execution_count": 65,
     "metadata": {},
     "output_type": "execute_result"
    }
   ],
   "source": [
    "cvModel_gbt.bestModel.stages[-1].featureImportances.toArray()"
   ]
  },
  {
   "cell_type": "code",
   "execution_count": 81,
   "metadata": {},
   "outputs": [
    {
     "data": {
      "image/png": "[encoded data removed]",
      "text/plain": [
       "<matplotlib.figure.Figure at 0x7f611c315cc0>"
      ]
     },
     "metadata": {
      "needs_background": "light"
     },
     "output_type": "display_data"
    }
   ],
   "source": [
    "# plot feature importances\n",
    "importances = cvModel_gbt.bestModel.stages[-1].featureImportances.toArray()\n",
    "features = ['userId_n', 'month_num', 'numRegister_lastMonth', 'numCancelVisits_lastMonth',\\\n",
    "            'numUpgradeVisits_lastMonth', 'numDowngradeVisits_lastMonth',\\\n",
    "            'numHomeVisits_lastMonth', 'numAboutVisits_lastMonth',\\\n",
    "            'numSettingsVisits_lastMonth', 'numSaveSettings_lastMonth',\\\n",
    "            'numLogins_lastMonth', 'numLogouts_lastMonth', \\\n",
    "            'numAddPlaylists_lastMonth', 'numFriends_lastMonth',\\\n",
    "            'numThumbsUp_lastMonth', 'numThumbsDown_lastMonth',\\\n",
    "            'numAdverts_lastMonth', 'numSongsPlayed_lastMonth',\\\n",
    "            'totalListenTime_lastMonth', 'avgSongsPerSession_lastMonth',\\\n",
    "            'numSingersPlayed_lastMonth', 'avgSingersPerSession_lastMonth',\\\n",
    "            'avgSessionMins_lastMonth', 'numSessions_lastMonth',\\\n",
    "            'level_lastMonth_n', 'gender_n', 'daysSinceReg']\n",
    "\n",
    "y_pos = np.arange(len(features))\n",
    "    \n",
    "fig, ax = plt.subplots(figsize=(10,8))\n",
    "ax.barh(y_pos, importances);\n",
    "plt.yticks(y_pos, features);\n",
    "plt.xlabel('Importance Score');\n",
    "plt.title('GBT Feature Importances');"
   ]
  },
  {
   "cell_type": "markdown",
   "metadata": {},
   "source": [
    "# Final Steps\n",
    "Clean up your code, adding comments and renaming variables to make the code easier to read and maintain. Refer to the Spark Project Overview page and Data Scientist Capstone Project Rubric to make sure you are including all components of the capstone project and meet all expectations. Remember, this includes thorough documentation in a README file in a Github repository, as well as a web app or blog post."
   ]
  },
  {
   "cell_type": "code",
   "execution_count": null,
   "metadata": {},
   "outputs": [],
   "source": []
  }
 ],
 "metadata": {
  "kernelspec": {
   "display_name": "Python 3",
   "language": "python",
   "name": "python3"
  },
  "language_info": {
   "codemirror_mode": {
    "name": "ipython",
    "version": 3
   },
   "file_extension": ".py",
   "mimetype": "text/x-python",
   "name": "python",
   "nbconvert_exporter": "python",
   "pygments_lexer": "ipython3",
   "version": "3.6.3"
  }
 },
 "nbformat": 4,
 "nbformat_minor": 2
}
