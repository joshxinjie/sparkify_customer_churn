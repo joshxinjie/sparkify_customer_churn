{
 "cells": [
  {
   "cell_type": "code",
   "execution_count": 57,
   "metadata": {},
   "outputs": [
    {
     "data": {
      "text/plain": [
       "[Row(artist='Martin Orford', auth='Logged In', firstName='Joseph', gender='M', itemInSession=20, lastName='Morales', length=597.55057, level='free', location='Corpus Christi, TX', method='PUT', page='NextSong', registration=1532063507000, sessionId=292, song='Grand Designs', status=200, ts=1538352011000, userAgent='\"Mozilla/5.0 (Macintosh; Intel Mac OS X 10_9_4) AppleWebKit/537.36 (KHTML, like Gecko) Chrome/36.0.1985.125 Safari/537.36\"', userId='293'),\n",
       " Row(artist=\"John Brown's Body\", auth='Logged In', firstName='Sawyer', gender='M', itemInSession=74, lastName='Larson', length=380.21179, level='free', location='Houston-The Woodlands-Sugar Land, TX', method='PUT', page='NextSong', registration=1538069638000, sessionId=97, song='Bulls', status=200, ts=1538352025000, userAgent='\"Mozilla/5.0 (Macintosh; Intel Mac OS X 10_9_4) AppleWebKit/537.36 (KHTML, like Gecko) Chrome/36.0.1985.143 Safari/537.36\"', userId='98'),\n",
       " Row(artist='Afroman', auth='Logged In', firstName='Maverick', gender='M', itemInSession=184, lastName='Santiago', length=202.37016, level='paid', location='Orlando-Kissimmee-Sanford, FL', method='PUT', page='NextSong', registration=1535953455000, sessionId=178, song='Because I Got High', status=200, ts=1538352118000, userAgent='\"Mozilla/5.0 (Macintosh; Intel Mac OS X 10_9_4) AppleWebKit/537.36 (KHTML, like Gecko) Chrome/36.0.1985.143 Safari/537.36\"', userId='179'),\n",
       " Row(artist=None, auth='Logged In', firstName='Maverick', gender='M', itemInSession=185, lastName='Santiago', length=None, level='paid', location='Orlando-Kissimmee-Sanford, FL', method='PUT', page='Logout', registration=1535953455000, sessionId=178, song=None, status=307, ts=1538352119000, userAgent='\"Mozilla/5.0 (Macintosh; Intel Mac OS X 10_9_4) AppleWebKit/537.36 (KHTML, like Gecko) Chrome/36.0.1985.143 Safari/537.36\"', userId='179'),\n",
       " Row(artist='Lily Allen', auth='Logged In', firstName='Gianna', gender='F', itemInSession=22, lastName='Campos', length=194.53342, level='paid', location='Mobile, AL', method='PUT', page='NextSong', registration=1535931018000, sessionId=245, song='Smile (Radio Edit)', status=200, ts=1538352124000, userAgent='Mozilla/5.0 (Windows NT 6.1; WOW64; rv:31.0) Gecko/20100101 Firefox/31.0', userId='246')]"
      ]
     },
     "execution_count": 57,
     "metadata": {},
     "output_type": "execute_result"
    }
   ],
   "source": [
    "\n",
    "import ibmos2spark\n",
    "\n",
    "# @hidden_cell\n",
    "credentials = {\n",
    "    'endpoint': 'https://s3.ap-geo.objectstorage.service.networklayer.com',\n",
    "    'api_key': 'ExBB1T4rwYC5m04C2tlv1yy5BsKtvSU8pW5QNXcvQ3Cb',\n",
    "    'service_id': 'iam-ServiceId-df93d563-b072-44a8-859f-cd3321417f12',\n",
    "    'iam_service_endpoint': 'https://iam.bluemix.net/oidc/token'}\n",
    "\n",
    "configuration_name = 'os_29102620177244a6898d193c3a67464b_configs'\n",
    "cos = ibmos2spark.CloudObjectStorage(sc, credentials, configuration_name, 'bluemix_cos')\n",
    "\n",
    "from pyspark.sql import SparkSession\n",
    "spark = SparkSession.builder.getOrCreate()\n",
    "# Since JSON data can be semi-structured and contain additional metadata, it is possible that you might face issues with the DataFrame layout.\n",
    "# Please read the documentation of 'SparkSession.read()' to learn more about the possibilities to adjust the data loading.\n",
    "# PySpark documentation: http://spark.apache.org/docs/2.0.2/api/python/pyspark.sql.html#pyspark.sql.DataFrameReader.json\n",
    "\n",
    "df = spark.read.json(cos.url('medium-sparkify-event-data.json', 'sparkify-donotdelete-pr-vq70a3dzz1nfot'))\n",
    "df.take(5)\n"
   ]
  },
  {
   "cell_type": "code",
   "execution_count": 3,
   "metadata": {},
   "outputs": [],
   "source": [
    "# import libraries\n",
    "#from pyspark.sql import SparkSession\n",
    "from pyspark.sql.functions import add_months, avg, count, countDistinct, col, datediff,\\\n",
    "desc, expr, from_unixtime, floor, isnan, lag, lit, month, months_between,\\\n",
    "min, max, split, sum, udf, unix_timestamp, when, year\n",
    "from pyspark.sql.types import IntegerType, DateType\n",
    "from pyspark.sql.window import Window\n",
    "\n",
    "from pyspark.ml import Pipeline\n",
    "from pyspark.ml.classification import LogisticRegression, GBTClassifier, LinearSVC\n",
    "from pyspark.ml.evaluation import BinaryClassificationEvaluator, MulticlassClassificationEvaluator\n",
    "from pyspark.ml.feature import StandardScaler, VectorAssembler\n",
    "from pyspark.ml.regression import LinearRegression\n",
    "from pyspark.ml.tuning import CrossValidator, ParamGridBuilder\n",
    "\n",
    "import matplotlib.pyplot as plt\n",
    "\n",
    "import pandas as pd\n",
    "import numpy as np\n",
    "\n",
    "from datetime import datetime"
   ]
  },
  {
   "cell_type": "markdown",
   "metadata": {},
   "source": [
    "## Load and Clean Data"
   ]
  },
  {
   "cell_type": "code",
   "execution_count": 4,
   "metadata": {},
   "outputs": [
    {
     "name": "stdout",
     "output_type": "stream",
     "text": [
      "root\n",
      " |-- artist: string (nullable = true)\n",
      " |-- auth: string (nullable = true)\n",
      " |-- firstName: string (nullable = true)\n",
      " |-- gender: string (nullable = true)\n",
      " |-- itemInSession: long (nullable = true)\n",
      " |-- lastName: string (nullable = true)\n",
      " |-- length: double (nullable = true)\n",
      " |-- level: string (nullable = true)\n",
      " |-- location: string (nullable = true)\n",
      " |-- method: string (nullable = true)\n",
      " |-- page: string (nullable = true)\n",
      " |-- registration: long (nullable = true)\n",
      " |-- sessionId: long (nullable = true)\n",
      " |-- song: string (nullable = true)\n",
      " |-- status: long (nullable = true)\n",
      " |-- ts: long (nullable = true)\n",
      " |-- userAgent: string (nullable = true)\n",
      " |-- userId: string (nullable = true)\n",
      "\n"
     ]
    }
   ],
   "source": [
    "df.printSchema()"
   ]
  },
  {
   "cell_type": "markdown",
   "metadata": {},
   "source": [
    "### Investigate timestamps"
   ]
  },
  {
   "cell_type": "code",
   "execution_count": 5,
   "metadata": {},
   "outputs": [
    {
     "name": "stdout",
     "output_type": "stream",
     "text": [
      "+-------+--------------------+\n",
      "|summary|                  ts|\n",
      "+-------+--------------------+\n",
      "|  count|              543705|\n",
      "|   mean|1.540964541209800...|\n",
      "| stddev|1.4820571449105084E9|\n",
      "|    min|       1538352011000|\n",
      "|    max|       1543622466000|\n",
      "+-------+--------------------+\n",
      "\n"
     ]
    }
   ],
   "source": [
    "df.describe(\"ts\").show()"
   ]
  },
  {
   "cell_type": "code",
   "execution_count": 6,
   "metadata": {},
   "outputs": [
    {
     "name": "stdout",
     "output_type": "stream",
     "text": [
      "Start Time: 2018-10-01 00:00:11\n",
      "End Time: 2018-12-01 00:01:06\n"
     ]
    }
   ],
   "source": [
    "ts = int(1538352011000)\n",
    "ts /= 1000\n",
    "print(\"Start Time: {}\".format(datetime.utcfromtimestamp(ts).strftime('%Y-%m-%d %H:%M:%S')))\n",
    "\n",
    "ts = int(1543622466000)\n",
    "ts /= 1000\n",
    "print(\"End Time: {}\".format(datetime.utcfromtimestamp(ts).strftime('%Y-%m-%d %H:%M:%S')))"
   ]
  },
  {
   "cell_type": "markdown",
   "metadata": {},
   "source": [
    "### Investigate pages"
   ]
  },
  {
   "cell_type": "code",
   "execution_count": 7,
   "metadata": {},
   "outputs": [
    {
     "name": "stdout",
     "output_type": "stream",
     "text": [
      "+--------------------+\n",
      "|                page|\n",
      "+--------------------+\n",
      "|              Cancel|\n",
      "|    Submit Downgrade|\n",
      "|         Thumbs Down|\n",
      "|                Home|\n",
      "|           Downgrade|\n",
      "|         Roll Advert|\n",
      "|              Logout|\n",
      "|       Save Settings|\n",
      "|Cancellation Conf...|\n",
      "|               About|\n",
      "| Submit Registration|\n",
      "|            Settings|\n",
      "|               Login|\n",
      "|            Register|\n",
      "|     Add to Playlist|\n",
      "|          Add Friend|\n",
      "|            NextSong|\n",
      "|           Thumbs Up|\n",
      "|                Help|\n",
      "|             Upgrade|\n",
      "+--------------------+\n",
      "only showing top 20 rows\n",
      "\n"
     ]
    }
   ],
   "source": [
    "df.select(\"page\").dropDuplicates().show()"
   ]
  },
  {
   "cell_type": "markdown",
   "metadata": {},
   "source": [
    "## Investigate missing and null values"
   ]
  },
  {
   "cell_type": "code",
   "execution_count": 8,
   "metadata": {},
   "outputs": [
    {
     "name": "stdout",
     "output_type": "stream",
     "text": [
      "+------+----+---------+------+-------------+--------+------+-----+--------+------+----+------------+---------+----+------+---+---------+------+\n",
      "|artist|auth|firstName|gender|itemInSession|lastName|length|level|location|method|page|registration|sessionId|song|status| ts|userAgent|userId|\n",
      "+------+----+---------+------+-------------+--------+------+-----+--------+------+----+------------+---------+----+------+---+---------+------+\n",
      "|     0|   0|        0|     0|            0|       0|     0|    0|       0|     0|   0|           0|        0|   0|     0|  0|        0|     0|\n",
      "+------+----+---------+------+-------------+--------+------+-----+--------+------+----+------------+---------+----+------+---+---------+------+\n",
      "\n"
     ]
    }
   ],
   "source": [
    "# check NaN values per column\n",
    "# taken from: https://stackoverflow.com/questions/44627386/how-to-find-count-of-null-and-nan-values-for-each-column-in-a-pyspark-dataframe\n",
    "df.select([count(when(isnan(c), c)).alias(c) for c in df.columns]).show()"
   ]
  },
  {
   "cell_type": "code",
   "execution_count": 9,
   "metadata": {},
   "outputs": [
    {
     "name": "stdout",
     "output_type": "stream",
     "text": [
      "+------+----+---------+------+-------------+--------+------+-----+--------+------+----+------------+---------+------+------+---+---------+------+\n",
      "|artist|auth|firstName|gender|itemInSession|lastName|length|level|location|method|page|registration|sessionId|  song|status| ts|userAgent|userId|\n",
      "+------+----+---------+------+-------------+--------+------+-----+--------+------+----+------------+---------+------+------+---+---------+------+\n",
      "|110828|   0|    15700| 15700|            0|   15700|110828|    0|   15700|     0|   0|       15700|        0|110828|     0|  0|    15700|     0|\n",
      "+------+----+---------+------+-------------+--------+------+-----+--------+------+----+------------+---------+------+------+---+---------+------+\n",
      "\n"
     ]
    }
   ],
   "source": [
    "# check null values per column\n",
    "df.select([count(when(col(c).isNull(), c)).alias(c) for c in df.columns]).show()"
   ]
  },
  {
   "cell_type": "code",
   "execution_count": 10,
   "metadata": {},
   "outputs": [],
   "source": [
    "# filter out all entries with missing names.\n",
    "# they are not recording information that we will need for the model\n",
    "df = df.filter(df.firstName.isNotNull())"
   ]
  },
  {
   "cell_type": "code",
   "execution_count": 11,
   "metadata": {},
   "outputs": [
    {
     "name": "stdout",
     "output_type": "stream",
     "text": [
      "+------+----+---------+------+-------------+--------+------+-----+--------+------+----+------------+---------+-----+------+---+---------+------+\n",
      "|artist|auth|firstName|gender|itemInSession|lastName|length|level|location|method|page|registration|sessionId| song|status| ts|userAgent|userId|\n",
      "+------+----+---------+------+-------------+--------+------+-----+--------+------+----+------------+---------+-----+------+---+---------+------+\n",
      "| 95128|   0|        0|     0|            0|       0| 95128|    0|       0|     0|   0|           0|        0|95128|     0|  0|        0|     0|\n",
      "+------+----+---------+------+-------------+--------+------+-----+--------+------+----+------------+---------+-----+------+---+---------+------+\n",
      "\n"
     ]
    }
   ],
   "source": [
    "# check null values\n",
    "df.select([count(when(col(c).isNull(), c)).alias(c) for c in df.columns]).show()"
   ]
  },
  {
   "cell_type": "code",
   "execution_count": 12,
   "metadata": {},
   "outputs": [],
   "source": [
    "# original timestamp in milliseconds, so divide by 1000\n",
    "adjust_timestamp = udf(lambda x : x//1000, IntegerType())\n",
    "df = df.withColumn(\"ts_adj\", adjust_timestamp('ts'))\n",
    "\n",
    "# convert adjusted timestamp to datetime\n",
    "df = df.withColumn(\"datetime\", from_unixtime(col(\"ts_adj\")))\n",
    "\n",
    "# convert registration timestamp to datetime\n",
    "df = df.withColumn(\"reg_adj\", adjust_timestamp('registration'))\n",
    "\n",
    "# convert adjusted registration timestamp to datetime\n",
    "df = df.withColumn(\"reg_datetime\", from_unixtime(col(\"reg_adj\")))\n",
    "\n",
    "# drop all the timestamp columns. Will not need them\n",
    "columns_to_drop = ['registration', 'ts', 'ts_adj', 'reg_adj']\n",
    "df = df.drop(*columns_to_drop)\n",
    "\n",
    "# add start date of analysis\n",
    "df = df.withColumn('analysis_start_date', lit('2018-10-01 00:00:00'))\n",
    "\n",
    "# number the months starting from the very first month of the analysis\n",
    "df = df.withColumn(\"month_num\", floor(months_between(df.datetime, df.analysis_start_date)))"
   ]
  },
  {
   "cell_type": "code",
   "execution_count": 13,
   "metadata": {},
   "outputs": [],
   "source": [
    "# engineer free or paid binary variable\n",
    "# free: 0, paid: 1\n",
    "df = df.replace([\"free\", \"paid\"], [\"0\", \"1\"], \"level\")\n",
    "\n",
    "# engineer male and female binary binary variable\n",
    "# male: 0, female: 1\n",
    "df = df.replace([\"M\", \"F\"], [\"0\", \"1\"], \"gender\")"
   ]
  },
  {
   "cell_type": "markdown",
   "metadata": {},
   "source": [
    "## Define churn"
   ]
  },
  {
   "cell_type": "code",
   "execution_count": 14,
   "metadata": {},
   "outputs": [
    {
     "name": "stdout",
     "output_type": "stream",
     "text": [
      "+-----------------+---------+---------+------+-------------+--------+---------+-----+--------------------+------+--------+---------+------------------+------+--------------------+------+-------------------+-------------------+-------------------+---------+-----+\n",
      "|           artist|     auth|firstName|gender|itemInSession|lastName|   length|level|            location|method|    page|sessionId|              song|status|           userAgent|userId|           datetime|       reg_datetime|analysis_start_date|month_num|churn|\n",
      "+-----------------+---------+---------+------+-------------+--------+---------+-----+--------------------+------+--------+---------+------------------+------+--------------------+------+-------------------+-------------------+-------------------+---------+-----+\n",
      "|    Martin Orford|Logged In|   Joseph|     0|           20| Morales|597.55057|    0|  Corpus Christi, TX|   PUT|NextSong|      292|     Grand Designs|   200|\"Mozilla/5.0 (Mac...|   293|2018-10-01 00:00:11|2018-07-20 05:11:47|2018-10-01 00:00:00|        0|    0|\n",
      "|John Brown's Body|Logged In|   Sawyer|     0|           74|  Larson|380.21179|    0|Houston-The Woodl...|   PUT|NextSong|       97|             Bulls|   200|\"Mozilla/5.0 (Mac...|    98|2018-10-01 00:00:25|2018-09-27 17:33:58|2018-10-01 00:00:00|        0|    0|\n",
      "|          Afroman|Logged In| Maverick|     0|          184|Santiago|202.37016|    1|Orlando-Kissimmee...|   PUT|NextSong|      178|Because I Got High|   200|\"Mozilla/5.0 (Mac...|   179|2018-10-01 00:01:58|2018-09-03 05:44:15|2018-10-01 00:00:00|        0|    0|\n",
      "|             null|Logged In| Maverick|     0|          185|Santiago|     null|    1|Orlando-Kissimmee...|   PUT|  Logout|      178|              null|   307|\"Mozilla/5.0 (Mac...|   179|2018-10-01 00:01:59|2018-09-03 05:44:15|2018-10-01 00:00:00|        0|    0|\n",
      "|       Lily Allen|Logged In|   Gianna|     1|           22|  Campos|194.53342|    1|          Mobile, AL|   PUT|NextSong|      245|Smile (Radio Edit)|   200|Mozilla/5.0 (Wind...|   246|2018-10-01 00:02:04|2018-09-02 23:30:18|2018-10-01 00:00:00|        0|    0|\n",
      "+-----------------+---------+---------+------+-------------+--------+---------+-----+--------------------+------+--------+---------+------------------+------+--------------------+------+-------------------+-------------------+-------------------+---------+-----+\n",
      "only showing top 5 rows\n",
      "\n"
     ]
    }
   ],
   "source": [
    "# can possibly switch to a 2-class classification system\n",
    "def define_churn(x):\n",
    "    \"\"\"\n",
    "    Defining churn as cancellation of service or downgrading from premium to free tier.\n",
    "    \"\"\"\n",
    "    if x == \"Cancellation Confirmation\":\n",
    "        return 1\n",
    "    elif x == \"Submit Downgrade\":\n",
    "        return 1\n",
    "    else:\n",
    "        return 0\n",
    "    \n",
    "churn_event = udf(lambda x : define_churn(x), IntegerType())\n",
    "    \n",
    "df = df.withColumn(\"churn\", churn_event(\"page\"))\n",
    "\n",
    "df.show(5)"
   ]
  },
  {
   "cell_type": "code",
   "execution_count": 15,
   "metadata": {},
   "outputs": [
    {
     "name": "stdout",
     "output_type": "stream",
     "text": [
      "+---------+-----+------+\n",
      "|month_num|churn| count|\n",
      "+---------+-----+------+\n",
      "|        0|    0|268018|\n",
      "|        0|    1|   108|\n",
      "|        1|    0|259767|\n",
      "|        1|    1|   108|\n",
      "|        2|    0|     4|\n",
      "+---------+-----+------+\n",
      "\n"
     ]
    }
   ],
   "source": [
    "df.select('month_num','churn').groupBy('month_num','churn').count().orderBy('month_num', 'churn').show()"
   ]
  },
  {
   "cell_type": "code",
   "execution_count": 16,
   "metadata": {},
   "outputs": [],
   "source": [
    "# aggregate number of page visits for each user on a monthly basis\n",
    "\n",
    "df_register = df.select('userId', 'month_num', 'page') \\\n",
    ".where(df.page==\"Register\") \\\n",
    ".groupBy('userId', 'month_num') \\\n",
    ".agg({'page':'count'}) \\\n",
    ".withColumnRenamed('count(page)', 'numRegister')\n",
    "\n",
    "df_cancel = df.select('userId', 'month_num', 'page') \\\n",
    ".where(df.page==\"Cancel\") \\\n",
    ".groupBy('userId', 'month_num') \\\n",
    ".agg({'page':'count'}) \\\n",
    ".withColumnRenamed('count(page)', 'numCancelVisits')\n",
    "\n",
    "df_upgrade = df.select('userId', 'month_num', 'page') \\\n",
    ".where(df.page==\"Upgrade\") \\\n",
    ".groupBy('userId', 'month_num') \\\n",
    ".agg({'page':'count'}) \\\n",
    ".withColumnRenamed('count(page)', 'numUpgradeVisits')\n",
    "\n",
    "df_downgrade = df.select('userId', 'month_num', 'page') \\\n",
    ".where(df.page==\"Downgrade\") \\\n",
    ".groupBy('userId', 'month_num') \\\n",
    ".agg({'page':'count'}) \\\n",
    ".withColumnRenamed('count(page)', 'numDowngradeVisits')\n",
    "\n",
    "df_home = df.select('userId', 'month_num', 'page') \\\n",
    ".where(df.page==\"Home\") \\\n",
    ".groupBy('userId', 'month_num') \\\n",
    ".agg({'page':'count'}) \\\n",
    ".withColumnRenamed('count(page)', 'numHomeVisits')\n",
    "\n",
    "df_about = df.select('userId', 'month_num', 'page') \\\n",
    ".where(df.page==\"About\") \\\n",
    ".groupBy('userId', 'month_num') \\\n",
    ".agg({'page':'count'}) \\\n",
    ".withColumnRenamed('count(page)', 'numAboutVisits')\n",
    "\n",
    "df_settings = df.select('userId', 'month_num', 'page') \\\n",
    ".where(df.page==\"Settings\") \\\n",
    ".groupBy('userId', 'month_num') \\\n",
    ".agg({'page':'count'}) \\\n",
    ".withColumnRenamed('count(page)', 'numSettingsVisits')\n",
    "\n",
    "df_saveSettings = df.select('userId', 'month_num', 'page') \\\n",
    ".where(df.page==\"Save Settings\") \\\n",
    ".groupBy('userId', 'month_num') \\\n",
    ".agg({'page':'count'}) \\\n",
    ".withColumnRenamed('count(page)', 'numSaveSettings')\n",
    "\n",
    "df_login = df.select('userId', 'month_num', 'page') \\\n",
    ".where(df.page==\"Login\") \\\n",
    ".groupBy('userId', 'month_num') \\\n",
    ".agg({'page':'count'}) \\\n",
    ".withColumnRenamed('count(page)', 'numLogins')\n",
    "\n",
    "df_logout = df.select('userId', 'month_num', 'page') \\\n",
    ".where(df.page==\"Logout\") \\\n",
    ".groupBy('userId', 'month_num') \\\n",
    ".agg({'page':'count'}) \\\n",
    ".withColumnRenamed('count(page)', 'numLogouts')\n",
    "\n",
    "df_addPlaylist = df.select('userId', 'month_num', 'page') \\\n",
    ".where(df.page==\"Add to Playlist\") \\\n",
    ".groupBy('userId', 'month_num') \\\n",
    ".agg({'page':'count'}) \\\n",
    ".withColumnRenamed('count(page)', 'numAddPlaylists')\n",
    "\n",
    "df_addFriend = df.select('userId', 'month_num', 'page') \\\n",
    ".where(df.page==\"Add Friend\") \\\n",
    ".groupBy('userId', 'month_num') \\\n",
    ".agg({'page':'count'}) \\\n",
    ".withColumnRenamed('count(page)', 'numFriends')\n",
    "\n",
    "df_thumbsUp = df.select('userId', 'month_num', 'page') \\\n",
    ".where(df.page==\"Thumbs Up\") \\\n",
    ".groupBy('userId', 'month_num') \\\n",
    ".agg({'page':'count'}) \\\n",
    ".withColumnRenamed('count(page)', 'numThumbsUp')\n",
    "\n",
    "df_thumbsDown = df.select('userId', 'month_num', 'page') \\\n",
    ".where(df.page==\"Thumbs Down\") \\\n",
    ".groupBy('userId', 'month_num') \\\n",
    ".agg({'page':'count'}) \\\n",
    ".withColumnRenamed('count(page)', 'numThumbsDown')\n",
    "\n",
    "df_advert = df.select('userId', 'month_num', 'page') \\\n",
    ".where(df.page==\"Roll Advert\") \\\n",
    ".groupBy('userId', 'month_num') \\\n",
    ".agg({'page':'count'}) \\\n",
    ".withColumnRenamed('count(page)', 'numAdverts')\n",
    "\n",
    "df_songsPlayed = df.select('userId', 'month_num', 'page') \\\n",
    ".where(df.page==\"NextSong\") \\\n",
    ".groupBy('userId', 'month_num') \\\n",
    ".agg({'page':'count'}) \\\n",
    ".withColumnRenamed('count(page)', 'numSongsPlayed')\n",
    "\n",
    "df_totalListen = df.select('userId', 'month_num', 'length') \\\n",
    ".groupBy('userId', 'month_num') \\\n",
    ".agg({'length':'sum'}) \\\n",
    ".withColumnRenamed('sum(length)', 'totalListenTime')\n",
    "\n",
    "# number of songs per session\n",
    "df_songsPerSession = df.select('userId', 'month_num', 'page', 'sessionId') \\\n",
    ".where(df.page==\"NextSong\") \\\n",
    ".groupBy('userId', 'month_num', 'sessionId') \\\n",
    ".agg({'page':'count'}) \\\n",
    ".withColumnRenamed('count(page)', 'SongsPerSession')\n",
    "# avg number of songs per session\n",
    "df_avgSongsPerSession = df_songsPerSession.groupBy('userId', 'month_num') \\\n",
    ".agg(avg(df_songsPerSession.SongsPerSession).alias('avgSongsPerSession'))\n",
    "\n",
    "# number of singers\n",
    "df_singersPlayed = df.select('userId', 'month_num', 'page', 'artist') \\\n",
    ".where(df.page==\"NextSong\") \\\n",
    ".groupBy('userId', 'month_num') \\\n",
    ".agg(countDistinct(df.artist).alias('numSingersPlayed'))\n",
    "\n",
    "# number of singers per session\n",
    "df_singersPerSession = df.select('userId', 'month_num', 'page', 'artist', 'sessionId') \\\n",
    ".where(df.page==\"NextSong\") \\\n",
    ".groupBy('userId', 'month_num', 'sessionId') \\\n",
    ".agg(countDistinct(df.artist).alias('SingersPerSession'))\n",
    "# avg number of singers per session\n",
    "df_avgSingersPerSession = df_singersPerSession.groupBy('userId', 'month_num') \\\n",
    ".agg(avg(df_singersPerSession.SingersPerSession).alias('avgSingersPerSession'))\n",
    "\n",
    "# groupby user, month_num, sessionId.\n",
    "df_userSession = df.groupBy(\"userId\", \"month_num\", \"sessionId\") \\\n",
    ".agg(((max(unix_timestamp(df.datetime))-min(unix_timestamp(df.datetime)))/60.0).alias('sessionTimeMins'))\n",
    "# Find avg session time\n",
    "df_avgUserSession = df_userSession.groupBy('userId', 'month_num').agg(avg(df_userSession.sessionTimeMins).alias('avgSessionMins'))\n",
    "\n",
    "# number of sessions\n",
    "df_numSession = df.select('userId', 'month_num', 'sessionId').dropDuplicates() \\\n",
    ".groupby('userId', 'month_num').agg({'sessionId':'count'}) \\\n",
    ".withColumnRenamed('count(sessionId)', 'numSessions')\n",
    "\n",
    "# if user had premium at any point of the month, assumer he/she has premium for\n",
    "# the whole month for simplicity\n",
    "df_level = df.select('userId', 'month_num', 'level') \\\n",
    ".groupBy('userId', 'month_num') \\\n",
    ".agg({'level':'max'}) \\\n",
    ".withColumnRenamed('max(level)', 'level')\n",
    "\n",
    "# assuming nobody changes gender midway\n",
    "df_gender = df.select('userId', 'month_num', 'gender') \\\n",
    ".groupBy('userId', 'month_num') \\\n",
    ".agg({'gender':'max'}) \\\n",
    ".withColumnRenamed('max(gender)', 'gender')\n",
    "\n",
    "# start of each month\n",
    "# from https://stackoverflow.com/questions/45612208/add-months-to-date-column-in-spark-dataframe\n",
    "df = df.withColumn(\"start_of_month\", expr(\"add_months(analysis_start_date, month_num)\"))\n",
    "# days since registration from start of each month\n",
    "# from https://stackoverflow.com/questions/44020818/how-to-calculate-date-difference-in-pyspark\n",
    "df = df.withColumn(\"daysSinceReg\", datediff(df.start_of_month, df.reg_datetime))\n",
    "#\n",
    "df_daysReg = df.select('userId', 'month_num', 'daysSinceReg') \\\n",
    ".groupBy('userId', 'month_num') \\\n",
    ".agg(min(df.daysSinceReg).alias('daysSinceReg'))\n",
    "\n",
    "df_churn = df.select('userId', 'month_num', 'churn') \\\n",
    ".groupBy('userId', 'month_num') \\\n",
    ".agg({'churn':'max'}) \\\n",
    ".withColumnRenamed('max(churn)', 'churn')"
   ]
  },
  {
   "cell_type": "code",
   "execution_count": 17,
   "metadata": {},
   "outputs": [],
   "source": [
    "all_data = df_register.join(df_cancel, ['userId', 'month_num'], 'outer') \\\n",
    ".join(df_upgrade, ['userId', 'month_num'], 'outer') \\\n",
    ".join(df_downgrade, ['userId', 'month_num'], 'outer') \\\n",
    ".join(df_home, ['userId', 'month_num'], 'outer') \\\n",
    ".join(df_about, ['userId', 'month_num'], 'outer') \\\n",
    ".join(df_settings, ['userId', 'month_num'], 'outer') \\\n",
    ".join(df_saveSettings, ['userId', 'month_num'], 'outer') \\\n",
    ".join(df_login, ['userId', 'month_num'], 'outer') \\\n",
    ".join(df_logout, ['userId', 'month_num'], 'outer') \\\n",
    ".join(df_addPlaylist, ['userId', 'month_num'], 'outer') \\\n",
    ".join(df_addFriend, ['userId', 'month_num'], 'outer') \\\n",
    ".join(df_thumbsUp, ['userId', 'month_num'], 'outer') \\\n",
    ".join(df_thumbsDown, ['userId', 'month_num'], 'outer') \\\n",
    ".join(df_advert, ['userId', 'month_num'], 'outer') \\\n",
    ".join(df_songsPlayed, ['userId', 'month_num'], 'outer') \\\n",
    ".join(df_totalListen, ['userId', 'month_num'], 'outer') \\\n",
    ".join(df_avgSongsPerSession, ['userId', 'month_num'], 'outer') \\\n",
    ".join(df_singersPlayed, ['userId', 'month_num']) \\\n",
    ".join(df_avgSingersPerSession, ['userId', 'month_num'], 'outer') \\\n",
    ".join(df_avgUserSession, ['userId', 'month_num'], 'outer') \\\n",
    ".join(df_numSession, ['userId', 'month_num'], 'outer') \\\n",
    ".join(df_level, ['userId', 'month_num'], 'outer') \\\n",
    ".join(df_gender, ['userId', 'month_num'], 'outer') \\\n",
    ".join(df_daysReg, ['userId', 'month_num'], 'outer') \\\n",
    ".join(df_churn, ['userId', 'month_num'], 'outer')"
   ]
  },
  {
   "cell_type": "code",
   "execution_count": 18,
   "metadata": {},
   "outputs": [],
   "source": [
    "windowlag = (Window.partitionBy('userId').orderBy('month_num'))\n",
    "\n",
    "# generate 1 month lag features\n",
    "all_data = all_data.withColumn('numRegister_lastMonth', lag(all_data['numRegister']).over(windowlag))\n",
    "all_data = all_data.withColumn('numCancelVisits_lastMonth', lag(all_data['numCancelVisits']).over(windowlag))\n",
    "all_data = all_data.withColumn('numUpgradeVisits_lastMonth', lag(all_data['numUpgradeVisits']).over(windowlag))\n",
    "all_data = all_data.withColumn('numDowngradeVisits_lastMonth', lag(all_data['numDowngradeVisits']).over(windowlag))\n",
    "all_data = all_data.withColumn('numHomeVisits_lastMonth', lag(all_data['numHomeVisits']).over(windowlag))\n",
    "all_data = all_data.withColumn('numAboutVisits_lastMonth', lag(all_data['numAboutVisits']).over(windowlag))\n",
    "all_data = all_data.withColumn('numSettingsVisits_lastMonth', lag(all_data['numSettingsVisits']).over(windowlag))\n",
    "all_data = all_data.withColumn('numSaveSettings_lastMonth', lag(all_data['numSaveSettings']).over(windowlag))\n",
    "all_data = all_data.withColumn('numLogins_lastMonth', lag(all_data['numLogins']).over(windowlag))\n",
    "all_data = all_data.withColumn('numLogouts_lastMonth', lag(all_data['numLogouts']).over(windowlag))\n",
    "all_data = all_data.withColumn('numAddPlaylists_lastMonth', lag(all_data['numAddPlaylists']).over(windowlag))\n",
    "all_data = all_data.withColumn('numFriends_lastMonth', lag(all_data['numFriends']).over(windowlag))\n",
    "all_data = all_data.withColumn('numThumbsUp_lastMonth', lag(all_data['numThumbsUp']).over(windowlag))\n",
    "all_data = all_data.withColumn('numThumbsDown_lastMonth', lag(all_data['numThumbsDown']).over(windowlag))\n",
    "all_data = all_data.withColumn('numAdverts_lastMonth', lag(all_data['numAdverts']).over(windowlag))\n",
    "all_data = all_data.withColumn('numSongsPlayed_lastMonth', lag(all_data['numSongsPlayed']).over(windowlag))\n",
    "all_data = all_data.withColumn('totalListenTime_lastMonth', lag(all_data['totalListenTime']).over(windowlag))\n",
    "all_data = all_data.withColumn('avgSongsPerSession_lastMonth', lag(all_data['avgSongsPerSession']).over(windowlag))\n",
    "all_data = all_data.withColumn('numSingersPlayed_lastMonth', lag(all_data['numSingersPlayed']).over(windowlag))\n",
    "all_data = all_data.withColumn('avgSingersPerSession_lastMonth', lag(all_data['avgSingersPerSession']).over(windowlag))\n",
    "all_data = all_data.withColumn('avgSessionMins_lastMonth', lag(all_data['avgSessionMins']).over(windowlag))\n",
    "all_data = all_data.withColumn('numSessions_lastMonth', lag(all_data['numSessions']).over(windowlag))\n",
    "all_data = all_data.withColumn('level_lastMonth', lag(all_data['level']).over(windowlag))"
   ]
  },
  {
   "cell_type": "code",
   "execution_count": 19,
   "metadata": {},
   "outputs": [
    {
     "name": "stdout",
     "output_type": "stream",
     "text": [
      "+------+---------+-----------+---------------+----------------+------------------+-------------+--------------+-----------------+---------------+---------+----------+---------------+----------+-----------+-------------+----------+--------------+------------------+------------------+----------------+--------------------+------------------+-----------+-----+------+------------+-----+---------------------+-------------------------+--------------------------+----------------------------+-----------------------+------------------------+---------------------------+-------------------------+-------------------+--------------------+-------------------------+--------------------+---------------------+-----------------------+--------------------+------------------------+-------------------------+----------------------------+--------------------------+------------------------------+------------------------+---------------------+---------------+\n",
      "|userId|month_num|numRegister|numCancelVisits|numUpgradeVisits|numDowngradeVisits|numHomeVisits|numAboutVisits|numSettingsVisits|numSaveSettings|numLogins|numLogouts|numAddPlaylists|numFriends|numThumbsUp|numThumbsDown|numAdverts|numSongsPlayed|   totalListenTime|avgSongsPerSession|numSingersPlayed|avgSingersPerSession|    avgSessionMins|numSessions|level|gender|daysSinceReg|churn|numRegister_lastMonth|numCancelVisits_lastMonth|numUpgradeVisits_lastMonth|numDowngradeVisits_lastMonth|numHomeVisits_lastMonth|numAboutVisits_lastMonth|numSettingsVisits_lastMonth|numSaveSettings_lastMonth|numLogins_lastMonth|numLogouts_lastMonth|numAddPlaylists_lastMonth|numFriends_lastMonth|numThumbsUp_lastMonth|numThumbsDown_lastMonth|numAdverts_lastMonth|numSongsPlayed_lastMonth|totalListenTime_lastMonth|avgSongsPerSession_lastMonth|numSingersPlayed_lastMonth|avgSingersPerSession_lastMonth|avgSessionMins_lastMonth|numSessions_lastMonth|level_lastMonth|\n",
      "+------+---------+-----------+---------------+----------------+------------------+-------------+--------------+-----------------+---------------+---------+----------+---------------+----------+-----------+-------------+----------+--------------+------------------+------------------+----------------+--------------------+------------------+-----------+-----+------+------------+-----+---------------------+-------------------------+--------------------------+----------------------------+-----------------------+------------------------+---------------------------+-------------------------+-------------------+--------------------+-------------------------+--------------------+---------------------+-----------------------+--------------------+------------------------+-------------------------+----------------------------+--------------------------+------------------------------+------------------------+---------------------+---------------+\n",
      "|100010|        0|       null|              1|               2|              null|            3|          null|             null|           null|     null|         1|              1|         3|          4|            3|        22|            96|25870.950739999997|              48.0|              94|                48.0|           210.375|          2|    0|     1|           4|    1|                 null|                     null|                      null|                        null|                   null|                    null|                       null|                     null|               null|                null|                     null|                null|                 null|                   null|                null|                    null|                     null|                        null|                      null|                          null|                    null|                 null|           null|\n",
      "|200002|        0|       null|              1|               2|                 3|           23|             1|                2|           null|     null|        11|              6|         2|         15|            5|        11|           310| 78695.82683999998|              62.0|             287|                61.2|            263.06|          5|    1|     0|          25|    1|                 null|                     null|                      null|                        null|                   null|                    null|                       null|                     null|               null|                null|                     null|                null|                 null|                   null|                null|                    null|                     null|                        null|                      null|                          null|                    null|                 null|           null|\n",
      "|   296|        0|       null|              1|               1|                 1|            7|          null|                1|           null|     null|         3|              3|         2|          8|         null|         9|           112|28314.150059999996|              22.4|             108|                22.2| 97.03666666666666|          5|    1|     1|          17|    1|                 null|                     null|                      null|                        null|                   null|                    null|                       null|                     null|               null|                null|                     null|                null|                 null|                   null|                null|                    null|                     null|                        null|                      null|                          null|                    null|                 null|           null|\n",
      "|   125|        0|       null|           null|            null|              null|            1|          null|                3|           null|     null|      null|              1|         3|          3|            1|         4|            58|14632.724720000002|              29.0|              57|                28.5|118.06666666666668|          2|    0|     0|          61|    0|                 null|                     null|                      null|                        null|                   null|                    null|                       null|                     null|               null|                null|                     null|                null|                 null|                   null|                null|                    null|                     null|                        null|                      null|                          null|                    null|                 null|           null|\n",
      "|   125|        1|       null|           null|            null|              null|            1|          null|             null|           null|     null|      null|              1|      null|       null|         null|         2|             4|        1181.04635|               4.0|               4|                 4.0|18.816666666666666|          1|    0|     0|          92|    0|                 null|                     null|                      null|                        null|                      1|                    null|                          3|                     null|               null|                null|                        1|                   3|                    3|                      1|                   4|                      58|       14632.724720000002|                        29.0|                        57|                          28.5|      118.06666666666668|                    2|              0|\n",
      "+------+---------+-----------+---------------+----------------+------------------+-------------+--------------+-----------------+---------------+---------+----------+---------------+----------+-----------+-------------+----------+--------------+------------------+------------------+----------------+--------------------+------------------+-----------+-----+------+------------+-----+---------------------+-------------------------+--------------------------+----------------------------+-----------------------+------------------------+---------------------------+-------------------------+-------------------+--------------------+-------------------------+--------------------+---------------------+-----------------------+--------------------+------------------------+-------------------------+----------------------------+--------------------------+------------------------------+------------------------+---------------------+---------------+\n",
      "only showing top 5 rows\n",
      "\n"
     ]
    }
   ],
   "source": [
    "all_data.show(5)"
   ]
  },
  {
   "cell_type": "code",
   "execution_count": 21,
   "metadata": {},
   "outputs": [],
   "source": [
    "windowMov = (Window.partitionBy('userId').orderBy('month_num')\n",
    "             .rangeBetween(Window.unboundedPreceding, 0))\n",
    "\n",
    "# generate moving averages from previous months, not including current mmonth.\n",
    "# For small dataset, it will be the same as the 1 month lag values\n",
    "# since there are only 2 months. For the full dataset, there may be more than 2 months, \n",
    "# so moving averages will be different from 1 month lag\n",
    "all_data = all_data.withColumn('numRegister_cum_old', sum('numRegister').over(windowMov))\n",
    "all_data = all_data.withColumn('numRegister_cum',\\\n",
    "                               (all_data['numRegister_cum_old'] - all_data['numRegister']))\n",
    "all_data = all_data.withColumn('numRegister_movAvg',\\\n",
    "                               (all_data['numRegister_cum'] / all_data['month_num']))\n",
    "\n",
    "all_data = all_data.withColumn('numCancelVisits_cum_old', sum('numCancelVisits').over(windowMov))\n",
    "all_data = all_data.withColumn('numCancelVisits_cum',\\\n",
    "                               (all_data['numCancelVisits_cum_old'] - all_data['numCancelVisits']))\n",
    "all_data = all_data.withColumn('numCancelVisits_movAvg',\\\n",
    "                               (all_data['numCancelVisits_cum'] / all_data['month_num']))\n",
    "\n",
    "all_data = all_data.withColumn('numUpgradeVisits_cum_old', sum('numUpgradeVisits').over(windowMov))\n",
    "all_data = all_data.withColumn('numUpgradeVisits_cum',\\\n",
    "                               (all_data['numUpgradeVisits_cum_old'] - all_data['numUpgradeVisits']))\n",
    "all_data = all_data.withColumn('numUpgradeVisits_movAvg',\\\n",
    "                               (all_data['numUpgradeVisits_cum'] / all_data['month_num']))\n",
    "\n",
    "all_data = all_data.withColumn('numDowngradeVisits_cum_old', sum('numDowngradeVisits').over(windowMov))\n",
    "all_data = all_data.withColumn('numDowngradeVisits_cum',\\\n",
    "                               (all_data['numDowngradeVisits_cum_old'] - all_data['numDowngradeVisits']))\n",
    "all_data = all_data.withColumn('numDowngradeVisits_movAvg',\\\n",
    "                               (all_data['numDowngradeVisits_cum'] / all_data['month_num']))\n",
    "\n",
    "all_data = all_data.withColumn('numHomeVisits_cum_old', sum('numHomeVisits').over(windowMov))\n",
    "all_data = all_data.withColumn('numHomeVisits_cum',\\\n",
    "                               (all_data['numHomeVisits_cum_old'] - all_data['numHomeVisits']))\n",
    "all_data = all_data.withColumn('numHomeVisits_movAvg',\\\n",
    "                               (all_data['numHomeVisits_cum'] / all_data['month_num']))\n",
    "\n",
    "all_data = all_data.withColumn('numAboutVisits_cum_old', sum('numAboutVisits').over(windowMov))\n",
    "all_data = all_data.withColumn('numAboutVisits_cum',\\\n",
    "                               (all_data['numAboutVisits_cum_old'] - all_data['numAboutVisits']))\n",
    "all_data = all_data.withColumn('numAboutVisits_movAvg',\\\n",
    "                               (all_data['numAboutVisits_cum'] / all_data['month_num']))\n",
    "\n",
    "all_data = all_data.withColumn('numSettingsVisits_cum_old', sum('numSettingsVisits').over(windowMov))\n",
    "all_data = all_data.withColumn('numSettingsVisits_cum',\\\n",
    "                               (all_data['numSettingsVisits_cum_old'] - all_data['numSettingsVisits']))\n",
    "all_data = all_data.withColumn('numSettingsVisits_movAvg',\\\n",
    "                               (all_data['numSettingsVisits_cum'] / all_data['month_num']))\n",
    "\n",
    "all_data = all_data.withColumn('numSaveSettings_cum_old', sum('numSaveSettings').over(windowMov))\n",
    "all_data = all_data.withColumn('numSaveSettings_cum',\\\n",
    "                               (all_data['numSaveSettings_cum_old'] - all_data['numSaveSettings']))\n",
    "all_data = all_data.withColumn('numSaveSettings_movAvg',\\\n",
    "                               (all_data['numSaveSettings_cum'] / all_data['month_num']))\n",
    "\n",
    "all_data = all_data.withColumn('numLogins_cum_old', sum('numLogins').over(windowMov))\n",
    "all_data = all_data.withColumn('numLogins_cum',\\\n",
    "                               (all_data['numLogins_cum_old'] - all_data['numLogins']))\n",
    "all_data = all_data.withColumn('numLogins_movAvg',\\\n",
    "                               (all_data['numLogins_cum'] / all_data['month_num']))\n",
    "\n",
    "all_data = all_data.withColumn('numLogouts_cum_old', sum('numLogouts').over(windowMov))\n",
    "all_data = all_data.withColumn('numLogouts_cum',\\\n",
    "                               (all_data['numLogouts_cum_old'] - all_data['numLogouts']))\n",
    "all_data = all_data.withColumn('numLogouts_movAvg',\\\n",
    "                               (all_data['numLogouts_cum'] / all_data['month_num']))\n",
    "\n",
    "all_data = all_data.withColumn('numAddPlaylists_cum_old', sum('numAddPlaylists').over(windowMov))\n",
    "all_data = all_data.withColumn('numAddPlaylists_cum',\\\n",
    "                               (all_data['numAddPlaylists_cum_old'] - all_data['numAddPlaylists']))\n",
    "all_data = all_data.withColumn('numAddPlaylists_movAvg',\\\n",
    "                               (all_data['numAddPlaylists_cum'] / all_data['month_num']))\n",
    "\n",
    "all_data = all_data.withColumn('numFriends_cum_old', sum('numFriends').over(windowMov))\n",
    "all_data = all_data.withColumn('numFriends_cum',\\\n",
    "                               (all_data['numFriends_cum_old'] - all_data['numFriends']))\n",
    "all_data = all_data.withColumn('numFriends_movAvg',\\\n",
    "                               (all_data['numFriends_cum'] / all_data['month_num']))\n",
    "\n",
    "all_data = all_data.withColumn('numThumbsUp_cum_old', sum('numThumbsUp').over(windowMov))\n",
    "all_data = all_data.withColumn('numThumbsUp_cum',\\\n",
    "                               (all_data['numThumbsUp_cum_old'] - all_data['numThumbsUp']))\n",
    "all_data = all_data.withColumn('numThumbsUp_movAvg',\\\n",
    "                               (all_data['numThumbsUp_cum'] / all_data['month_num']))\n",
    "\n",
    "all_data = all_data.withColumn('numThumbsDown_cum_old', sum('numThumbsDown').over(windowMov))\n",
    "all_data = all_data.withColumn('numThumbsDown_cum',\\\n",
    "                               (all_data['numThumbsDown_cum_old'] - all_data['numThumbsDown']))\n",
    "all_data = all_data.withColumn('numThumbsDown_movAvg',\\\n",
    "                               (all_data['numThumbsDown_cum'] / all_data['month_num']))\n",
    "\n",
    "all_data = all_data.withColumn('numAdverts_cum_old', sum('numAdverts').over(windowMov))\n",
    "all_data = all_data.withColumn('numAdverts_cum',\\\n",
    "                               (all_data['numAdverts_cum_old'] - all_data['numAdverts']))\n",
    "all_data = all_data.withColumn('numAdverts_movAvg',\\\n",
    "                               (all_data['numAdverts_cum'] / all_data['month_num']))\n",
    "\n",
    "all_data = all_data.withColumn('numSongsPlayed_cum_old', sum('numSongsPlayed').over(windowMov))\n",
    "all_data = all_data.withColumn('numSongsPlayed_cum',\\\n",
    "                               (all_data['numSongsPlayed_cum_old'] - all_data['numSongsPlayed']))\n",
    "all_data = all_data.withColumn('numSongsPlayed_movAvg',\\\n",
    "                               (all_data['numSongsPlayed_cum'] / all_data['month_num']))\n",
    "\n",
    "all_data = all_data.withColumn('totalListenTime_cum_old', sum('totalListenTime').over(windowMov))\n",
    "all_data = all_data.withColumn('totalListenTime_cum',\\\n",
    "                               (all_data['totalListenTime_cum_old'] - all_data['totalListenTime']))\n",
    "all_data = all_data.withColumn('totalListenTime_movAvg',\\\n",
    "                               (all_data['totalListenTime_cum'] / all_data['month_num']))\n",
    "\n",
    "all_data = all_data.withColumn('avgSongsPerSession_cum_old', sum('avgSongsPerSession').over(windowMov))\n",
    "all_data = all_data.withColumn('avgSongsPerSession_cum',\\\n",
    "                               (all_data['avgSongsPerSession_cum_old'] - all_data['avgSongsPerSession']))\n",
    "all_data = all_data.withColumn('avgSongsPerSession_movAvg',\\\n",
    "                               (all_data['avgSongsPerSession_cum'] / all_data['month_num']))\n",
    "\n",
    "all_data = all_data.withColumn('numSingersPlayed_cum_old', sum('numSingersPlayed').over(windowMov))\n",
    "all_data = all_data.withColumn('numSingersPlayed_cum',\\\n",
    "                               (all_data['numSingersPlayed_cum_old'] - all_data['numSingersPlayed']))\n",
    "all_data = all_data.withColumn('numSingersPlayed_movAvg',\\\n",
    "                               (all_data['numSingersPlayed_cum'] / all_data['month_num']))\n",
    "\n",
    "all_data = all_data.withColumn('avgSingersPerSession_cum_old', sum('avgSingersPerSession').over(windowMov))\n",
    "all_data = all_data.withColumn('avgSingersPerSession_cum',\\\n",
    "                               (all_data['avgSingersPerSession_cum_old'] - all_data['avgSingersPerSession']))\n",
    "all_data = all_data.withColumn('avgSingersPerSession_movAvg',\\\n",
    "                               (all_data['avgSingersPerSession_cum'] / all_data['month_num']))\n",
    "\n",
    "all_data = all_data.withColumn('avgSessionMins_cum_old', sum('avgSessionMins').over(windowMov))\n",
    "all_data = all_data.withColumn('avgSessionMins_cum',\\\n",
    "                               (all_data['avgSessionMins_cum_old'] - all_data['avgSessionMins']))\n",
    "all_data = all_data.withColumn('avgSessionMins_movAvg',\\\n",
    "                               (all_data['avgSessionMins_cum'] / all_data['month_num']))\n",
    "\n",
    "all_data = all_data.withColumn('numSessions_cum_old', sum('numSessions').over(windowMov))\n",
    "all_data = all_data.withColumn('numSessions_cum',\\\n",
    "                               (all_data['numSessions_cum_old'] - all_data['numSessions']))\n",
    "all_data = all_data.withColumn('numSessions_movAvg',\\\n",
    "                               (all_data['numSessions_cum'] / all_data['month_num']))"
   ]
  },
  {
   "cell_type": "code",
   "execution_count": 22,
   "metadata": {},
   "outputs": [
    {
     "name": "stdout",
     "output_type": "stream",
     "text": [
      "+------+---------+-----------+---------------+----------------+------------------+-------------+--------------+-----------------+---------------+---------+----------+---------------+----------+-----------+-------------+----------+--------------+------------------+------------------+----------------+--------------------+------------------+-----------+-----+------+------------+-----+---------------------+-------------------------+--------------------------+----------------------------+-----------------------+------------------------+---------------------------+-------------------------+-------------------+--------------------+-------------------------+--------------------+---------------------+-----------------------+--------------------+------------------------+-------------------------+----------------------------+--------------------------+------------------------------+------------------------+---------------------+---------------+-------------------+---------------+------------------+-----------------------+-------------------+----------------------+------------------------+--------------------+-----------------------+--------------------------+----------------------+-------------------------+---------------------+-----------------+--------------------+----------------------+------------------+---------------------+-------------------------+---------------------+------------------------+-----------------------+-------------------+----------------------+-----------------+-------------+----------------+------------------+--------------+-----------------+-----------------------+-------------------+----------------------+------------------+--------------+-----------------+-------------------+---------------+------------------+---------------------+-----------------+--------------------+------------------+--------------+-----------------+----------------------+------------------+---------------------+-----------------------+-------------------+----------------------+--------------------------+----------------------+-------------------------+------------------------+--------------------+-----------------------+----------------------------+------------------------+---------------------------+----------------------+------------------+---------------------+-------------------+---------------+------------------+\n",
      "|userId|month_num|numRegister|numCancelVisits|numUpgradeVisits|numDowngradeVisits|numHomeVisits|numAboutVisits|numSettingsVisits|numSaveSettings|numLogins|numLogouts|numAddPlaylists|numFriends|numThumbsUp|numThumbsDown|numAdverts|numSongsPlayed|   totalListenTime|avgSongsPerSession|numSingersPlayed|avgSingersPerSession|    avgSessionMins|numSessions|level|gender|daysSinceReg|churn|numRegister_lastMonth|numCancelVisits_lastMonth|numUpgradeVisits_lastMonth|numDowngradeVisits_lastMonth|numHomeVisits_lastMonth|numAboutVisits_lastMonth|numSettingsVisits_lastMonth|numSaveSettings_lastMonth|numLogins_lastMonth|numLogouts_lastMonth|numAddPlaylists_lastMonth|numFriends_lastMonth|numThumbsUp_lastMonth|numThumbsDown_lastMonth|numAdverts_lastMonth|numSongsPlayed_lastMonth|totalListenTime_lastMonth|avgSongsPerSession_lastMonth|numSingersPlayed_lastMonth|avgSingersPerSession_lastMonth|avgSessionMins_lastMonth|numSessions_lastMonth|level_lastMonth|numRegister_cum_old|numRegister_cum|numRegister_movAvg|numCancelVisits_cum_old|numCancelVisits_cum|numCancelVisits_movAvg|numUpgradeVisits_cum_old|numUpgradeVisits_cum|numUpgradeVisits_movAvg|numDowngradeVisits_cum_old|numDowngradeVisits_cum|numDowngradeVisits_movAvg|numHomeVisits_cum_old|numHomeVisits_cum|numHomeVisits_movAvg|numAboutVisits_cum_old|numAboutVisits_cum|numAboutVisits_movAvg|numSettingsVisits_cum_old|numSettingsVisits_cum|numSettingsVisits_movAvg|numSaveSettings_cum_old|numSaveSettings_cum|numSaveSettings_movAvg|numLogins_cum_old|numLogins_cum|numLogins_movAvg|numLogouts_cum_old|numLogouts_cum|numLogouts_movAvg|numAddPlaylists_cum_old|numAddPlaylists_cum|numAddPlaylists_movAvg|numFriends_cum_old|numFriends_cum|numFriends_movAvg|numThumbsUp_cum_old|numThumbsUp_cum|numThumbsUp_movAvg|numThumbsDown_cum_old|numThumbsDown_cum|numThumbsDown_movAvg|numAdverts_cum_old|numAdverts_cum|numAdverts_movAvg|numSongsPlayed_cum_old|numSongsPlayed_cum|numSongsPlayed_movAvg|totalListenTime_cum_old|totalListenTime_cum|totalListenTime_movAvg|avgSongsPerSession_cum_old|avgSongsPerSession_cum|avgSongsPerSession_movAvg|numSingersPlayed_cum_old|numSingersPlayed_cum|numSingersPlayed_movAvg|avgSingersPerSession_cum_old|avgSingersPerSession_cum|avgSingersPerSession_movAvg|avgSessionMins_cum_old|avgSessionMins_cum|avgSessionMins_movAvg|numSessions_cum_old|numSessions_cum|numSessions_movAvg|\n",
      "+------+---------+-----------+---------------+----------------+------------------+-------------+--------------+-----------------+---------------+---------+----------+---------------+----------+-----------+-------------+----------+--------------+------------------+------------------+----------------+--------------------+------------------+-----------+-----+------+------------+-----+---------------------+-------------------------+--------------------------+----------------------------+-----------------------+------------------------+---------------------------+-------------------------+-------------------+--------------------+-------------------------+--------------------+---------------------+-----------------------+--------------------+------------------------+-------------------------+----------------------------+--------------------------+------------------------------+------------------------+---------------------+---------------+-------------------+---------------+------------------+-----------------------+-------------------+----------------------+------------------------+--------------------+-----------------------+--------------------------+----------------------+-------------------------+---------------------+-----------------+--------------------+----------------------+------------------+---------------------+-------------------------+---------------------+------------------------+-----------------------+-------------------+----------------------+-----------------+-------------+----------------+------------------+--------------+-----------------+-----------------------+-------------------+----------------------+------------------+--------------+-----------------+-------------------+---------------+------------------+---------------------+-----------------+--------------------+------------------+--------------+-----------------+----------------------+------------------+---------------------+-----------------------+-------------------+----------------------+--------------------------+----------------------+-------------------------+------------------------+--------------------+-----------------------+----------------------------+------------------------+---------------------------+----------------------+------------------+---------------------+-------------------+---------------+------------------+\n",
      "|100010|        0|       null|              1|               2|              null|            3|          null|             null|           null|     null|         1|              1|         3|          4|            3|        22|            96|25870.950739999997|              48.0|              94|                48.0|           210.375|          2|    0|     1|           4|    1|                 null|                     null|                      null|                        null|                   null|                    null|                       null|                     null|               null|                null|                     null|                null|                 null|                   null|                null|                    null|                     null|                        null|                      null|                          null|                    null|                 null|           null|               null|           null|              null|                      1|                  0|                  null|                       2|                   0|                   null|                      null|                  null|                     null|                    3|                0|                null|                  null|              null|                 null|                     null|                 null|                    null|                   null|               null|                  null|             null|         null|            null|                 1|             0|             null|                      1|                  0|                  null|                 3|             0|             null|                  4|              0|              null|                    3|                0|                null|                22|             0|             null|                    96|                 0|                 null|     25870.950739999997|                0.0|                  null|                      48.0|                   0.0|                     null|                      94|                   0|                   null|                        48.0|                     0.0|                       null|               210.375|               0.0|                 null|                  2|              0|              null|\n",
      "|200002|        0|       null|              1|               2|                 3|           23|             1|                2|           null|     null|        11|              6|         2|         15|            5|        11|           310| 78695.82683999998|              62.0|             287|                61.2|            263.06|          5|    1|     0|          25|    1|                 null|                     null|                      null|                        null|                   null|                    null|                       null|                     null|               null|                null|                     null|                null|                 null|                   null|                null|                    null|                     null|                        null|                      null|                          null|                    null|                 null|           null|               null|           null|              null|                      1|                  0|                  null|                       2|                   0|                   null|                         3|                     0|                     null|                   23|                0|                null|                     1|                 0|                 null|                        2|                    0|                    null|                   null|               null|                  null|             null|         null|            null|                11|             0|             null|                      6|                  0|                  null|                 2|             0|             null|                 15|              0|              null|                    5|                0|                null|                11|             0|             null|                   310|                 0|                 null|      78695.82683999998|                0.0|                  null|                      62.0|                   0.0|                     null|                     287|                   0|                   null|                        61.2|                     0.0|                       null|                263.06|               0.0|                 null|                  5|              0|              null|\n",
      "|   296|        0|       null|              1|               1|                 1|            7|          null|                1|           null|     null|         3|              3|         2|          8|         null|         9|           112|28314.150059999996|              22.4|             108|                22.2| 97.03666666666666|          5|    1|     1|          17|    1|                 null|                     null|                      null|                        null|                   null|                    null|                       null|                     null|               null|                null|                     null|                null|                 null|                   null|                null|                    null|                     null|                        null|                      null|                          null|                    null|                 null|           null|               null|           null|              null|                      1|                  0|                  null|                       1|                   0|                   null|                         1|                     0|                     null|                    7|                0|                null|                  null|              null|                 null|                        1|                    0|                    null|                   null|               null|                  null|             null|         null|            null|                 3|             0|             null|                      3|                  0|                  null|                 2|             0|             null|                  8|              0|              null|                 null|             null|                null|                 9|             0|             null|                   112|                 0|                 null|     28314.150059999996|                0.0|                  null|                      22.4|                   0.0|                     null|                     108|                   0|                   null|                        22.2|                     0.0|                       null|     97.03666666666666|               0.0|                 null|                  5|              0|              null|\n",
      "|   125|        0|       null|           null|            null|              null|            1|          null|                3|           null|     null|      null|              1|         3|          3|            1|         4|            58|14632.724720000002|              29.0|              57|                28.5|118.06666666666668|          2|    0|     0|          61|    0|                 null|                     null|                      null|                        null|                   null|                    null|                       null|                     null|               null|                null|                     null|                null|                 null|                   null|                null|                    null|                     null|                        null|                      null|                          null|                    null|                 null|           null|               null|           null|              null|                   null|               null|                  null|                    null|                null|                   null|                      null|                  null|                     null|                    1|                0|                null|                  null|              null|                 null|                        3|                    0|                    null|                   null|               null|                  null|             null|         null|            null|              null|          null|             null|                      1|                  0|                  null|                 3|             0|             null|                  3|              0|              null|                    1|                0|                null|                 4|             0|             null|                    58|                 0|                 null|     14632.724720000002|                0.0|                  null|                      29.0|                   0.0|                     null|                      57|                   0|                   null|                        28.5|                     0.0|                       null|    118.06666666666668|               0.0|                 null|                  2|              0|              null|\n",
      "|   125|        1|       null|           null|            null|              null|            1|          null|             null|           null|     null|      null|              1|      null|       null|         null|         2|             4|        1181.04635|               4.0|               4|                 4.0|18.816666666666666|          1|    0|     0|          92|    0|                 null|                     null|                      null|                        null|                      1|                    null|                          3|                     null|               null|                null|                        1|                   3|                    3|                      1|                   4|                      58|       14632.724720000002|                        29.0|                        57|                          28.5|      118.06666666666668|                    2|              0|               null|           null|              null|                   null|               null|                  null|                    null|                null|                   null|                      null|                  null|                     null|                    2|                1|                 1.0|                  null|              null|                 null|                        3|                 null|                    null|                   null|               null|                  null|             null|         null|            null|              null|          null|             null|                      2|                  1|                   1.0|                 3|          null|             null|                  3|           null|              null|                    1|             null|                null|                 6|             4|              4.0|                    62|                58|                 58.0|     15813.771070000003| 14632.724720000002|    14632.724720000002|                      33.0|                  29.0|                     29.0|                      61|                  57|                   57.0|                        32.5|                    28.5|                       28.5|    136.88333333333335|118.06666666666669|   118.06666666666669|                  3|              2|               2.0|\n",
      "+------+---------+-----------+---------------+----------------+------------------+-------------+--------------+-----------------+---------------+---------+----------+---------------+----------+-----------+-------------+----------+--------------+------------------+------------------+----------------+--------------------+------------------+-----------+-----+------+------------+-----+---------------------+-------------------------+--------------------------+----------------------------+-----------------------+------------------------+---------------------------+-------------------------+-------------------+--------------------+-------------------------+--------------------+---------------------+-----------------------+--------------------+------------------------+-------------------------+----------------------------+--------------------------+------------------------------+------------------------+---------------------+---------------+-------------------+---------------+------------------+-----------------------+-------------------+----------------------+------------------------+--------------------+-----------------------+--------------------------+----------------------+-------------------------+---------------------+-----------------+--------------------+----------------------+------------------+---------------------+-------------------------+---------------------+------------------------+-----------------------+-------------------+----------------------+-----------------+-------------+----------------+------------------+--------------+-----------------+-----------------------+-------------------+----------------------+------------------+--------------+-----------------+-------------------+---------------+------------------+---------------------+-----------------+--------------------+------------------+--------------+-----------------+----------------------+------------------+---------------------+-----------------------+-------------------+----------------------+--------------------------+----------------------+-------------------------+------------------------+--------------------+-----------------------+----------------------------+------------------------+---------------------------+----------------------+------------------+---------------------+-------------------+---------------+------------------+\n",
      "only showing top 5 rows\n",
      "\n"
     ]
    }
   ],
   "source": [
    "all_data.show(5)"
   ]
  },
  {
   "cell_type": "code",
   "execution_count": 23,
   "metadata": {},
   "outputs": [
    {
     "name": "stdout",
     "output_type": "stream",
     "text": [
      "+------+---------+-----------+---------------+----------------+------------------+-------------+--------------+-----------------+---------------+---------+----------+---------------+----------+-----------+-------------+----------+--------------+---------------+------------------+----------------+--------------------+--------------+-----------+-----+------+------------+-----+---------------------+-------------------------+--------------------------+----------------------------+-----------------------+------------------------+---------------------------+-------------------------+-------------------+--------------------+-------------------------+--------------------+---------------------+-----------------------+--------------------+------------------------+-------------------------+----------------------------+--------------------------+------------------------------+------------------------+---------------------+---------------+-------------------+---------------+------------------+-----------------------+-------------------+----------------------+------------------------+--------------------+-----------------------+--------------------------+----------------------+-------------------------+---------------------+-----------------+--------------------+----------------------+------------------+---------------------+-------------------------+---------------------+------------------------+-----------------------+-------------------+----------------------+-----------------+-------------+----------------+------------------+--------------+-----------------+-----------------------+-------------------+----------------------+------------------+--------------+-----------------+-------------------+---------------+------------------+---------------------+-----------------+--------------------+------------------+--------------+-----------------+----------------------+------------------+---------------------+-----------------------+-------------------+----------------------+--------------------------+----------------------+-------------------------+------------------------+--------------------+-----------------------+----------------------------+------------------------+---------------------------+----------------------+------------------+---------------------+-------------------+---------------+------------------+\n",
      "|userId|month_num|numRegister|numCancelVisits|numUpgradeVisits|numDowngradeVisits|numHomeVisits|numAboutVisits|numSettingsVisits|numSaveSettings|numLogins|numLogouts|numAddPlaylists|numFriends|numThumbsUp|numThumbsDown|numAdverts|numSongsPlayed|totalListenTime|avgSongsPerSession|numSingersPlayed|avgSingersPerSession|avgSessionMins|numSessions|level|gender|daysSinceReg|churn|numRegister_lastMonth|numCancelVisits_lastMonth|numUpgradeVisits_lastMonth|numDowngradeVisits_lastMonth|numHomeVisits_lastMonth|numAboutVisits_lastMonth|numSettingsVisits_lastMonth|numSaveSettings_lastMonth|numLogins_lastMonth|numLogouts_lastMonth|numAddPlaylists_lastMonth|numFriends_lastMonth|numThumbsUp_lastMonth|numThumbsDown_lastMonth|numAdverts_lastMonth|numSongsPlayed_lastMonth|totalListenTime_lastMonth|avgSongsPerSession_lastMonth|numSingersPlayed_lastMonth|avgSingersPerSession_lastMonth|avgSessionMins_lastMonth|numSessions_lastMonth|level_lastMonth|numRegister_cum_old|numRegister_cum|numRegister_movAvg|numCancelVisits_cum_old|numCancelVisits_cum|numCancelVisits_movAvg|numUpgradeVisits_cum_old|numUpgradeVisits_cum|numUpgradeVisits_movAvg|numDowngradeVisits_cum_old|numDowngradeVisits_cum|numDowngradeVisits_movAvg|numHomeVisits_cum_old|numHomeVisits_cum|numHomeVisits_movAvg|numAboutVisits_cum_old|numAboutVisits_cum|numAboutVisits_movAvg|numSettingsVisits_cum_old|numSettingsVisits_cum|numSettingsVisits_movAvg|numSaveSettings_cum_old|numSaveSettings_cum|numSaveSettings_movAvg|numLogins_cum_old|numLogins_cum|numLogins_movAvg|numLogouts_cum_old|numLogouts_cum|numLogouts_movAvg|numAddPlaylists_cum_old|numAddPlaylists_cum|numAddPlaylists_movAvg|numFriends_cum_old|numFriends_cum|numFriends_movAvg|numThumbsUp_cum_old|numThumbsUp_cum|numThumbsUp_movAvg|numThumbsDown_cum_old|numThumbsDown_cum|numThumbsDown_movAvg|numAdverts_cum_old|numAdverts_cum|numAdverts_movAvg|numSongsPlayed_cum_old|numSongsPlayed_cum|numSongsPlayed_movAvg|totalListenTime_cum_old|totalListenTime_cum|totalListenTime_movAvg|avgSongsPerSession_cum_old|avgSongsPerSession_cum|avgSongsPerSession_movAvg|numSingersPlayed_cum_old|numSingersPlayed_cum|numSingersPlayed_movAvg|avgSingersPerSession_cum_old|avgSingersPerSession_cum|avgSingersPerSession_movAvg|avgSessionMins_cum_old|avgSessionMins_cum|avgSessionMins_movAvg|numSessions_cum_old|numSessions_cum|numSessions_movAvg|\n",
      "+------+---------+-----------+---------------+----------------+------------------+-------------+--------------+-----------------+---------------+---------+----------+---------------+----------+-----------+-------------+----------+--------------+---------------+------------------+----------------+--------------------+--------------+-----------+-----+------+------------+-----+---------------------+-------------------------+--------------------------+----------------------------+-----------------------+------------------------+---------------------------+-------------------------+-------------------+--------------------+-------------------------+--------------------+---------------------+-----------------------+--------------------+------------------------+-------------------------+----------------------------+--------------------------+------------------------------+------------------------+---------------------+---------------+-------------------+---------------+------------------+-----------------------+-------------------+----------------------+------------------------+--------------------+-----------------------+--------------------------+----------------------+-------------------------+---------------------+-----------------+--------------------+----------------------+------------------+---------------------+-------------------------+---------------------+------------------------+-----------------------+-------------------+----------------------+-----------------+-------------+----------------+------------------+--------------+-----------------+-----------------------+-------------------+----------------------+------------------+--------------+-----------------+-------------------+---------------+------------------+---------------------+-----------------+--------------------+------------------+--------------+-----------------+----------------------+------------------+---------------------+-----------------------+-------------------+----------------------+--------------------------+----------------------+-------------------------+------------------------+--------------------+-----------------------+----------------------------+------------------------+---------------------------+----------------------+------------------+---------------------+-------------------+---------------+------------------+\n",
      "|     0|        0|          0|              0|               0|                 0|            0|             0|                0|              0|        0|         0|              0|         0|          0|            0|         0|             0|              0|                 0|               0|                   0|             0|          0|    0|     0|           0|    0|                    0|                        0|                         0|                           0|                      0|                       0|                          0|                        0|                  0|                   0|                        0|                   0|                    0|                      0|                   0|                       0|                        0|                           0|                         0|                             0|                       0|                    0|            448|                  0|              0|                 0|                      0|                  0|                     0|                       0|                   0|                      0|                         0|                     0|                        0|                    0|                0|                   0|                     0|                 0|                    0|                        0|                    0|                       0|                      0|                  0|                     0|                0|            0|               0|                 0|             0|                0|                      0|                  0|                     0|                 0|             0|                0|                  0|              0|                 0|                    0|                0|                   0|                 0|             0|                0|                     0|                 0|                    0|                      0|                  0|                     0|                         0|                     0|                        0|                       0|                   0|                      0|                           0|                       0|                          0|                     0|                 0|                    0|                  0|              0|                 0|\n",
      "+------+---------+-----------+---------------+----------------+------------------+-------------+--------------+-----------------+---------------+---------+----------+---------------+----------+-----------+-------------+----------+--------------+---------------+------------------+----------------+--------------------+--------------+-----------+-----+------+------------+-----+---------------------+-------------------------+--------------------------+----------------------------+-----------------------+------------------------+---------------------------+-------------------------+-------------------+--------------------+-------------------------+--------------------+---------------------+-----------------------+--------------------+------------------------+-------------------------+----------------------------+--------------------------+------------------------------+------------------------+---------------------+---------------+-------------------+---------------+------------------+-----------------------+-------------------+----------------------+------------------------+--------------------+-----------------------+--------------------------+----------------------+-------------------------+---------------------+-----------------+--------------------+----------------------+------------------+---------------------+-------------------------+---------------------+------------------------+-----------------------+-------------------+----------------------+-----------------+-------------+----------------+------------------+--------------+-----------------+-----------------------+-------------------+----------------------+------------------+--------------+-----------------+-------------------+---------------+------------------+---------------------+-----------------+--------------------+------------------+--------------+-----------------+----------------------+------------------+---------------------+-----------------------+-------------------+----------------------+--------------------------+----------------------+-------------------------+------------------------+--------------------+-----------------------+----------------------------+------------------------+---------------------------+----------------------+------------------+---------------------+-------------------+---------------+------------------+\n",
      "\n"
     ]
    }
   ],
   "source": [
    "# fill na/null values with 0\n",
    "all_data = all_data.na.fill(0.0)\n",
    "\n",
    "all_data.select([count(when(col(c).isNull(), c)).alias(c) for c in all_data.columns]).show()"
   ]
  },
  {
   "cell_type": "code",
   "execution_count": 24,
   "metadata": {},
   "outputs": [],
   "source": [
    "# Engineer diffs between last months stats and moving averages.\n",
    "# for the small dataset, the differences will be 0 since there were only 2 months\n",
    "all_data = all_data.withColumn('diff_numRegister', (all_data['numRegister_lastMonth'] - all_data['numRegister_movAvg']))\n",
    "all_data = all_data.withColumn('diff_numCancelVisits', (all_data['numCancelVisits_lastMonth'] - all_data['numCancelVisits_movAvg']))\n",
    "all_data = all_data.withColumn('diff_numUpgradeVisits', (all_data['numUpgradeVisits_lastMonth'] - all_data['numUpgradeVisits_movAvg']))\n",
    "all_data = all_data.withColumn('diff_numDowngradeVisits', (all_data['numDowngradeVisits_lastMonth'] - all_data['numDowngradeVisits_movAvg']))\n",
    "all_data = all_data.withColumn('diff_numHomeVisits', (all_data['numHomeVisits_lastMonth'] - all_data['numHomeVisits_movAvg']))\n",
    "all_data = all_data.withColumn('diff_numAboutVisits', (all_data['numAboutVisits_lastMonth'] - all_data['numAboutVisits_movAvg']))\n",
    "all_data = all_data.withColumn('diff_numSettingsVisits', (all_data['numSettingsVisits_lastMonth'] - all_data['numSettingsVisits_movAvg']))\n",
    "all_data = all_data.withColumn('diff_numSaveSettings', (all_data['numSaveSettings_lastMonth'] - all_data['numSaveSettings_movAvg']))\n",
    "all_data = all_data.withColumn('diff_numLogins', (all_data['numLogins_lastMonth'] - all_data['numLogins_movAvg']))\n",
    "all_data = all_data.withColumn('diff_numLogouts', (all_data['numLogouts_lastMonth'] - all_data['numLogouts_movAvg']))\n",
    "all_data = all_data.withColumn('diff_numAddPlaylists', (all_data['numAddPlaylists_lastMonth'] - all_data['numAddPlaylists_movAvg']))\n",
    "all_data = all_data.withColumn('diff_numFriends', (all_data['numFriends_lastMonth'] - all_data['numFriends_movAvg']))\n",
    "all_data = all_data.withColumn('diff_numThumbsUp', (all_data['numThumbsUp_lastMonth'] - all_data['numThumbsUp_movAvg']))\n",
    "all_data = all_data.withColumn('diff_numThumbsDown', (all_data['numThumbsDown_lastMonth'] - all_data['numThumbsDown_movAvg']))\n",
    "all_data = all_data.withColumn('diff_numAdverts', (all_data['numAdverts_lastMonth'] - all_data['numAdverts_movAvg']))\n",
    "all_data = all_data.withColumn('diff_numSongsPlayed', (all_data['numSongsPlayed_lastMonth'] - all_data['numSongsPlayed_movAvg']))\n",
    "all_data = all_data.withColumn('diff_totalListenTime', (all_data['totalListenTime_lastMonth'] - all_data['totalListenTime_movAvg']))\n",
    "all_data = all_data.withColumn('diff_avgSongsPerSession', (all_data['avgSongsPerSession_lastMonth'] - all_data['avgSongsPerSession_movAvg']))\n",
    "all_data = all_data.withColumn('diff_numSingersPlayed', (all_data['numSingersPlayed_lastMonth'] - all_data['numSingersPlayed_movAvg']))\n",
    "all_data = all_data.withColumn('diff_avgSingersPerSession', (all_data['avgSingersPerSession_lastMonth'] - all_data['avgSingersPerSession_movAvg']))\n",
    "all_data = all_data.withColumn('diff_avgSessionMins', (all_data['avgSessionMins_lastMonth'] - all_data['avgSessionMins_movAvg']))\n",
    "all_data = all_data.withColumn('diff_numSessions', (all_data['numSessions_lastMonth'] - all_data['numSessions_movAvg']))"
   ]
  },
  {
   "cell_type": "markdown",
   "metadata": {},
   "source": [
    "## Exploratory Data Analysis"
   ]
  },
  {
   "cell_type": "code",
   "execution_count": 25,
   "metadata": {},
   "outputs": [
    {
     "data": {
      "text/html": [
       "<div>\n",
       "<style scoped>\n",
       "    .dataframe tbody tr th:only-of-type {\n",
       "        vertical-align: middle;\n",
       "    }\n",
       "\n",
       "    .dataframe tbody tr th {\n",
       "        vertical-align: top;\n",
       "    }\n",
       "\n",
       "    .dataframe thead th {\n",
       "        text-align: right;\n",
       "    }\n",
       "</style>\n",
       "<table border=\"1\" class=\"dataframe\">\n",
       "  <thead>\n",
       "    <tr style=\"text-align: right;\">\n",
       "      <th></th>\n",
       "      <th>numRegister_lastMonth</th>\n",
       "      <th>numCancelVisits_lastMonth</th>\n",
       "      <th>numUpgradeVisits_lastMonth</th>\n",
       "      <th>numDowngradeVisits_lastMonth</th>\n",
       "      <th>numHomeVisits_lastMonth</th>\n",
       "      <th>numAboutVisits_lastMonth</th>\n",
       "      <th>numSettingsVisits_lastMonth</th>\n",
       "      <th>numSaveSettings_lastMonth</th>\n",
       "      <th>numLogins_lastMonth</th>\n",
       "      <th>numLogouts_lastMonth</th>\n",
       "      <th>...</th>\n",
       "      <th>totalListenTime_lastMonth</th>\n",
       "      <th>avgSongsPerSession_lastMonth</th>\n",
       "      <th>numSingersPlayed_lastMonth</th>\n",
       "      <th>avgSingersPerSession_lastMonth</th>\n",
       "      <th>avgSessionMins_lastMonth</th>\n",
       "      <th>numSessions_lastMonth</th>\n",
       "      <th>level_lastMonth</th>\n",
       "      <th>gender</th>\n",
       "      <th>daysSinceReg</th>\n",
       "      <th>churn</th>\n",
       "    </tr>\n",
       "  </thead>\n",
       "  <tbody>\n",
       "    <tr>\n",
       "      <th>0</th>\n",
       "      <td>0</td>\n",
       "      <td>0</td>\n",
       "      <td>0</td>\n",
       "      <td>0</td>\n",
       "      <td>1</td>\n",
       "      <td>0</td>\n",
       "      <td>3</td>\n",
       "      <td>0</td>\n",
       "      <td>0</td>\n",
       "      <td>0</td>\n",
       "      <td>...</td>\n",
       "      <td>14632.72472</td>\n",
       "      <td>29.000000</td>\n",
       "      <td>57</td>\n",
       "      <td>28.500000</td>\n",
       "      <td>118.066667</td>\n",
       "      <td>2</td>\n",
       "      <td>0</td>\n",
       "      <td>0</td>\n",
       "      <td>92</td>\n",
       "      <td>0</td>\n",
       "    </tr>\n",
       "    <tr>\n",
       "      <th>1</th>\n",
       "      <td>0</td>\n",
       "      <td>0</td>\n",
       "      <td>0</td>\n",
       "      <td>9</td>\n",
       "      <td>43</td>\n",
       "      <td>1</td>\n",
       "      <td>12</td>\n",
       "      <td>3</td>\n",
       "      <td>0</td>\n",
       "      <td>11</td>\n",
       "      <td>...</td>\n",
       "      <td>293905.64972</td>\n",
       "      <td>130.222222</td>\n",
       "      <td>858</td>\n",
       "      <td>117.333333</td>\n",
       "      <td>487.268333</td>\n",
       "      <td>10</td>\n",
       "      <td>1</td>\n",
       "      <td>1</td>\n",
       "      <td>102</td>\n",
       "      <td>1</td>\n",
       "    </tr>\n",
       "    <tr>\n",
       "      <th>2</th>\n",
       "      <td>0</td>\n",
       "      <td>0</td>\n",
       "      <td>3</td>\n",
       "      <td>0</td>\n",
       "      <td>22</td>\n",
       "      <td>1</td>\n",
       "      <td>3</td>\n",
       "      <td>1</td>\n",
       "      <td>0</td>\n",
       "      <td>7</td>\n",
       "      <td>...</td>\n",
       "      <td>58918.29257</td>\n",
       "      <td>26.333333</td>\n",
       "      <td>224</td>\n",
       "      <td>26.000000</td>\n",
       "      <td>107.729630</td>\n",
       "      <td>9</td>\n",
       "      <td>0</td>\n",
       "      <td>0</td>\n",
       "      <td>51</td>\n",
       "      <td>0</td>\n",
       "    </tr>\n",
       "    <tr>\n",
       "      <th>3</th>\n",
       "      <td>0</td>\n",
       "      <td>0</td>\n",
       "      <td>2</td>\n",
       "      <td>0</td>\n",
       "      <td>1</td>\n",
       "      <td>0</td>\n",
       "      <td>1</td>\n",
       "      <td>0</td>\n",
       "      <td>0</td>\n",
       "      <td>0</td>\n",
       "      <td>...</td>\n",
       "      <td>9965.43446</td>\n",
       "      <td>10.250000</td>\n",
       "      <td>41</td>\n",
       "      <td>10.250000</td>\n",
       "      <td>37.387500</td>\n",
       "      <td>4</td>\n",
       "      <td>0</td>\n",
       "      <td>0</td>\n",
       "      <td>50</td>\n",
       "      <td>0</td>\n",
       "    </tr>\n",
       "    <tr>\n",
       "      <th>4</th>\n",
       "      <td>0</td>\n",
       "      <td>0</td>\n",
       "      <td>0</td>\n",
       "      <td>3</td>\n",
       "      <td>18</td>\n",
       "      <td>2</td>\n",
       "      <td>0</td>\n",
       "      <td>0</td>\n",
       "      <td>0</td>\n",
       "      <td>6</td>\n",
       "      <td>...</td>\n",
       "      <td>87588.04928</td>\n",
       "      <td>115.000000</td>\n",
       "      <td>309</td>\n",
       "      <td>109.333333</td>\n",
       "      <td>483.300000</td>\n",
       "      <td>3</td>\n",
       "      <td>1</td>\n",
       "      <td>1</td>\n",
       "      <td>32</td>\n",
       "      <td>0</td>\n",
       "    </tr>\n",
       "  </tbody>\n",
       "</table>\n",
       "<p>5 rows × 26 columns</p>\n",
       "</div>"
      ],
      "text/plain": [
       "   numRegister_lastMonth  numCancelVisits_lastMonth  \\\n",
       "0                      0                          0   \n",
       "1                      0                          0   \n",
       "2                      0                          0   \n",
       "3                      0                          0   \n",
       "4                      0                          0   \n",
       "\n",
       "   numUpgradeVisits_lastMonth  numDowngradeVisits_lastMonth  \\\n",
       "0                           0                             0   \n",
       "1                           0                             9   \n",
       "2                           3                             0   \n",
       "3                           2                             0   \n",
       "4                           0                             3   \n",
       "\n",
       "   numHomeVisits_lastMonth  numAboutVisits_lastMonth  \\\n",
       "0                        1                         0   \n",
       "1                       43                         1   \n",
       "2                       22                         1   \n",
       "3                        1                         0   \n",
       "4                       18                         2   \n",
       "\n",
       "   numSettingsVisits_lastMonth  numSaveSettings_lastMonth  \\\n",
       "0                            3                          0   \n",
       "1                           12                          3   \n",
       "2                            3                          1   \n",
       "3                            1                          0   \n",
       "4                            0                          0   \n",
       "\n",
       "   numLogins_lastMonth  numLogouts_lastMonth  ...    \\\n",
       "0                    0                     0  ...     \n",
       "1                    0                    11  ...     \n",
       "2                    0                     7  ...     \n",
       "3                    0                     0  ...     \n",
       "4                    0                     6  ...     \n",
       "\n",
       "   totalListenTime_lastMonth  avgSongsPerSession_lastMonth  \\\n",
       "0                14632.72472                     29.000000   \n",
       "1               293905.64972                    130.222222   \n",
       "2                58918.29257                     26.333333   \n",
       "3                 9965.43446                     10.250000   \n",
       "4                87588.04928                    115.000000   \n",
       "\n",
       "   numSingersPlayed_lastMonth  avgSingersPerSession_lastMonth  \\\n",
       "0                          57                       28.500000   \n",
       "1                         858                      117.333333   \n",
       "2                         224                       26.000000   \n",
       "3                          41                       10.250000   \n",
       "4                         309                      109.333333   \n",
       "\n",
       "   avgSessionMins_lastMonth  numSessions_lastMonth  level_lastMonth  gender  \\\n",
       "0                118.066667                      2                0       0   \n",
       "1                487.268333                     10                1       1   \n",
       "2                107.729630                      9                0       0   \n",
       "3                 37.387500                      4                0       0   \n",
       "4                483.300000                      3                1       1   \n",
       "\n",
       "   daysSinceReg  churn  \n",
       "0            92      0  \n",
       "1           102      1  \n",
       "2            51      0  \n",
       "3            50      0  \n",
       "4            32      0  \n",
       "\n",
       "[5 rows x 26 columns]"
      ]
     },
     "execution_count": 25,
     "metadata": {},
     "output_type": "execute_result"
    }
   ],
   "source": [
    "# visualize 1 month lag values\n",
    "all_data_pd = all_data \\\n",
    ".filter(all_data.month_num>=1) \\\n",
    ".select('numRegister_lastMonth','numCancelVisits_lastMonth',\\\n",
    "        'numUpgradeVisits_lastMonth', 'numDowngradeVisits_lastMonth',\\\n",
    "        'numHomeVisits_lastMonth', 'numAboutVisits_lastMonth',\\\n",
    "        'numSettingsVisits_lastMonth', 'numSaveSettings_lastMonth',\\\n",
    "        'numLogins_lastMonth', 'numLogouts_lastMonth',\\\n",
    "        'numAddPlaylists_lastMonth', 'numFriends_lastMonth',\\\n",
    "        'numThumbsUp_lastMonth', 'numThumbsDown_lastMonth',\\\n",
    "        'numAdverts_lastMonth', 'numSongsPlayed_lastMonth',\\\n",
    "        'totalListenTime_lastMonth', 'avgSongsPerSession_lastMonth',\\\n",
    "        'numSingersPlayed_lastMonth', 'avgSingersPerSession_lastMonth',\\\n",
    "        'avgSessionMins_lastMonth', 'numSessions_lastMonth',\\\n",
    "        'level_lastMonth', 'gender', 'daysSinceReg', 'churn'\n",
    "        ).toPandas()\n",
    "\n",
    "all_data_pd.head()"
   ]
  },
  {
   "cell_type": "code",
   "execution_count": 38,
   "metadata": {},
   "outputs": [
    {
     "data": {
      "image/png": "[encoded data removed]",
      "text/plain": [
       "<matplotlib.figure.Figure at 0x2b55b8463080>"
      ]
     },
     "metadata": {},
     "output_type": "display_data"
    }
   ],
   "source": [
    "fig, ax = plt.subplots(figsize=(10,10))\n",
    "all_data_pd.groupby('churn').agg({'numRegister_lastMonth':'mean',\\\n",
    "                                  'numCancelVisits_lastMonth':'mean',\\\n",
    "                                  'numUpgradeVisits_lastMonth':'mean',\\\n",
    "                                  'numDowngradeVisits_lastMonth':'mean',\\\n",
    "                                  'numHomeVisits_lastMonth':'mean',\\\n",
    "                                  'numAboutVisits_lastMonth':'mean',\\\n",
    "                                  'numSettingsVisits_lastMonth':'mean',\\\n",
    "                                  'numSaveSettings_lastMonth':'mean',\\\n",
    "                                  'numLogins_lastMonth':'mean',\\\n",
    "                                  'numLogouts_lastMonth':'mean',\\\n",
    "                                  'numAddPlaylists_lastMonth':'mean',\\\n",
    "                                  'numFriends_lastMonth':'mean',\\\n",
    "                                  'numThumbsUp_lastMonth':'mean',\\\n",
    "                                  'numThumbsDown_lastMonth':'mean',\\\n",
    "                                  'numAdverts_lastMonth':'mean',\\\n",
    "                                  'daysSinceReg':'mean',\\\n",
    "                                  'avgSongsPerSession_lastMonth':'mean',\\\n",
    "                                  'avgSingersPerSession_lastMonth':'mean',\\\n",
    "                                  'numSessions_lastMonth':'mean'\n",
    "                                 }).T.plot.barh(ax=ax);\n",
    "ax.set_xlabel(\"Number of Customers\", fontsize=14)\n",
    "ax.legend([\"Did Not Churn\", \"Churned\"], fontsize=14);\n",
    "fig.savefig(\"churn_dist_1_medium.jpg\", bbox_inches='tight')"
   ]
  },
  {
   "cell_type": "code",
   "execution_count": 39,
   "metadata": {},
   "outputs": [
    {
     "data": {
      "image/png": "[encoded data removed]",
      "text/plain": [
       "<matplotlib.figure.Figure at 0x2b55b8338b70>"
      ]
     },
     "metadata": {},
     "output_type": "display_data"
    }
   ],
   "source": [
    "fig, ax = plt.subplots(figsize=(7,7))\n",
    "all_data_pd.groupby('churn').agg({'numSongsPlayed_lastMonth':'mean',\\\n",
    "                                  'numSingersPlayed_lastMonth':'mean',\\\n",
    "                                  'avgSessionMins_lastMonth':'mean'\n",
    "                                 }).T.plot.barh(ax=ax);\n",
    "ax.set_xlabel(\"Number of Customers\", fontsize=14)\n",
    "ax.legend([\"Did Not Churn\", \"Churned\"], fontsize=14);\n",
    "fig.savefig(\"churn_dist_2_medium.jpg\", bbox_inches='tight')"
   ]
  },
  {
   "cell_type": "code",
   "execution_count": 41,
   "metadata": {},
   "outputs": [
    {
     "data": {
      "image/png": "[encoded data removed]",
      "text/plain": [
       "<matplotlib.figure.Figure at 0x2b55b853ae80>"
      ]
     },
     "metadata": {},
     "output_type": "display_data"
    }
   ],
   "source": [
    "fig, ax = plt.subplots(figsize=(6,6))\n",
    "all_data_pd.groupby('churn').agg({'totalListenTime_lastMonth':'mean'}).T.plot.barh(ax=ax);\n",
    "ax.set_xlabel(\"Number of Customers\", fontsize=14)\n",
    "ax.legend([\"Did Not Churn\", \"Churned\"], fontsize=14);\n",
    "fig.savefig(\"churn_dist_3_medium.jpg\", bbox_inches='tight')"
   ]
  },
  {
   "cell_type": "code",
   "execution_count": 47,
   "metadata": {},
   "outputs": [
    {
     "data": {
      "image/png": "[encoded data removed]",
      "text/plain": [
       "<matplotlib.figure.Figure at 0x2b55affe9d30>"
      ]
     },
     "metadata": {},
     "output_type": "display_data"
    }
   ],
   "source": [
    "fig, ax = plt.subplots(figsize=(7,7))\n",
    "all_data_pd.groupby(['churn', 'level_lastMonth']).agg({'level_lastMonth':'count'}).unstack().plot.bar(ax=ax);\n",
    "ax.legend([\"Free Last Month\", \"Premium Last Month\"], fontsize=14);\n",
    "ax.set_xticklabels([\"Did Not Churn\",\"Churned\"], fontsize=12);\n",
    "ax.set_ylabel(\"Number of Customers\", fontsize=14);\n",
    "fig.savefig(\"churn_level_medium.jpg\", bbox_inches='tight')"
   ]
  },
  {
   "cell_type": "code",
   "execution_count": 48,
   "metadata": {},
   "outputs": [
    {
     "data": {
      "image/png": "[encoded data removed]",
      "text/plain": [
       "<matplotlib.figure.Figure at 0x2b55b800f978>"
      ]
     },
     "metadata": {},
     "output_type": "display_data"
    }
   ],
   "source": [
    "fig, ax = plt.subplots(figsize=(7,7))\n",
    "all_data_pd.groupby(['churn', 'gender']).agg({'gender':'count'}).unstack().plot.bar(ax=ax);\n",
    "ax.legend([\"Male\", \"Female\"], fontsize=14);\n",
    "ax.set_xticklabels([\"Did Not Churn\",\"Churned\"], fontsize=12);\n",
    "ax.set_ylabel(\"Number of Customers\", fontsize=14);\n",
    "fig.savefig(\"churn_gender_medium.jpg\", bbox_inches='tight')"
   ]
  },
  {
   "cell_type": "code",
   "execution_count": 33,
   "metadata": {},
   "outputs": [
    {
     "data": {
      "text/plain": [
       "0    293\n",
       "1     94\n",
       "Name: churn, dtype: int64"
      ]
     },
     "execution_count": 33,
     "metadata": {},
     "output_type": "execute_result"
    }
   ],
   "source": [
    "all_data_pd.churn.value_counts()"
   ]
  },
  {
   "cell_type": "code",
   "execution_count": null,
   "metadata": {},
   "outputs": [],
   "source": []
  },
  {
   "cell_type": "markdown",
   "metadata": {},
   "source": [
    "## Additional Data Adjustments"
   ]
  },
  {
   "cell_type": "code",
   "execution_count": 49,
   "metadata": {},
   "outputs": [],
   "source": [
    "# convert userId, gender, level, level_lastMonth to numeric\n",
    "convert_numeric = ['userId', 'level', 'gender', 'level_lastMonth']\n",
    "for feat in convert_numeric:\n",
    "    featName = feat + \"_n\"\n",
    "    all_data = all_data.withColumn(featName, all_data[feat].cast(\"float\"))\n",
    "    all_data = all_data.drop(feat)\n",
    "    \n",
    "# fill na/null values with 0\n",
    "all_data = all_data.na.fill(0.0)"
   ]
  },
  {
   "cell_type": "code",
   "execution_count": 50,
   "metadata": {},
   "outputs": [
    {
     "data": {
      "text/plain": [
       "DataFrame[month_num: bigint, numRegister: bigint, numCancelVisits: bigint, numUpgradeVisits: bigint, numDowngradeVisits: bigint, numHomeVisits: bigint, numAboutVisits: bigint, numSettingsVisits: bigint, numSaveSettings: bigint, numLogins: bigint, numLogouts: bigint, numAddPlaylists: bigint, numFriends: bigint, numThumbsUp: bigint, numThumbsDown: bigint, numAdverts: bigint, numSongsPlayed: bigint, totalListenTime: double, avgSongsPerSession: double, numSingersPlayed: bigint, avgSingersPerSession: double, avgSessionMins: double, numSessions: bigint, daysSinceReg: int, churn: int, numRegister_lastMonth: bigint, numCancelVisits_lastMonth: bigint, numUpgradeVisits_lastMonth: bigint, numDowngradeVisits_lastMonth: bigint, numHomeVisits_lastMonth: bigint, numAboutVisits_lastMonth: bigint, numSettingsVisits_lastMonth: bigint, numSaveSettings_lastMonth: bigint, numLogins_lastMonth: bigint, numLogouts_lastMonth: bigint, numAddPlaylists_lastMonth: bigint, numFriends_lastMonth: bigint, numThumbsUp_lastMonth: bigint, numThumbsDown_lastMonth: bigint, numAdverts_lastMonth: bigint, numSongsPlayed_lastMonth: bigint, totalListenTime_lastMonth: double, avgSongsPerSession_lastMonth: double, numSingersPlayed_lastMonth: bigint, avgSingersPerSession_lastMonth: double, avgSessionMins_lastMonth: double, numSessions_lastMonth: bigint, numRegister_cum_old: bigint, numRegister_cum: bigint, numRegister_movAvg: double, numCancelVisits_cum_old: bigint, numCancelVisits_cum: bigint, numCancelVisits_movAvg: double, numUpgradeVisits_cum_old: bigint, numUpgradeVisits_cum: bigint, numUpgradeVisits_movAvg: double, numDowngradeVisits_cum_old: bigint, numDowngradeVisits_cum: bigint, numDowngradeVisits_movAvg: double, numHomeVisits_cum_old: bigint, numHomeVisits_cum: bigint, numHomeVisits_movAvg: double, numAboutVisits_cum_old: bigint, numAboutVisits_cum: bigint, numAboutVisits_movAvg: double, numSettingsVisits_cum_old: bigint, numSettingsVisits_cum: bigint, numSettingsVisits_movAvg: double, numSaveSettings_cum_old: bigint, numSaveSettings_cum: bigint, numSaveSettings_movAvg: double, numLogins_cum_old: bigint, numLogins_cum: bigint, numLogins_movAvg: double, numLogouts_cum_old: bigint, numLogouts_cum: bigint, numLogouts_movAvg: double, numAddPlaylists_cum_old: bigint, numAddPlaylists_cum: bigint, numAddPlaylists_movAvg: double, numFriends_cum_old: bigint, numFriends_cum: bigint, numFriends_movAvg: double, numThumbsUp_cum_old: bigint, numThumbsUp_cum: bigint, numThumbsUp_movAvg: double, numThumbsDown_cum_old: bigint, numThumbsDown_cum: bigint, numThumbsDown_movAvg: double, numAdverts_cum_old: bigint, numAdverts_cum: bigint, numAdverts_movAvg: double, numSongsPlayed_cum_old: bigint, numSongsPlayed_cum: bigint, numSongsPlayed_movAvg: double, totalListenTime_cum_old: double, totalListenTime_cum: double, totalListenTime_movAvg: double, avgSongsPerSession_cum_old: double, avgSongsPerSession_cum: double, avgSongsPerSession_movAvg: double, numSingersPlayed_cum_old: bigint, numSingersPlayed_cum: bigint, numSingersPlayed_movAvg: double, avgSingersPerSession_cum_old: double, avgSingersPerSession_cum: double, avgSingersPerSession_movAvg: double, avgSessionMins_cum_old: double, avgSessionMins_cum: double, avgSessionMins_movAvg: double, numSessions_cum_old: bigint, numSessions_cum: bigint, numSessions_movAvg: double, diff_numRegister: double, diff_numCancelVisits: double, diff_numUpgradeVisits: double, diff_numDowngradeVisits: double, diff_numHomeVisits: double, diff_numAboutVisits: double, diff_numSettingsVisits: double, diff_numSaveSettings: double, diff_numLogins: double, diff_numLogouts: double, diff_numAddPlaylists: double, diff_numFriends: double, diff_numThumbsUp: double, diff_numThumbsDown: double, diff_numAdverts: double, diff_numSongsPlayed: double, diff_totalListenTime: double, diff_avgSongsPerSession: double, diff_numSingersPlayed: double, diff_avgSingersPerSession: double, diff_avgSessionMins: double, diff_numSessions: double, userId_n: float, level_n: float, gender_n: float, level_lastMonth_n: float]"
      ]
     },
     "execution_count": 50,
     "metadata": {},
     "output_type": "execute_result"
    }
   ],
   "source": [
    "all_data.persist()"
   ]
  },
  {
   "cell_type": "markdown",
   "metadata": {},
   "source": [
    "## Modelling"
   ]
  },
  {
   "cell_type": "code",
   "execution_count": 51,
   "metadata": {},
   "outputs": [
    {
     "data": {
      "text/plain": [
       "['month_num',\n",
       " 'numRegister',\n",
       " 'numCancelVisits',\n",
       " 'numUpgradeVisits',\n",
       " 'numDowngradeVisits',\n",
       " 'numHomeVisits',\n",
       " 'numAboutVisits',\n",
       " 'numSettingsVisits',\n",
       " 'numSaveSettings',\n",
       " 'numLogins',\n",
       " 'numLogouts',\n",
       " 'numAddPlaylists',\n",
       " 'numFriends',\n",
       " 'numThumbsUp',\n",
       " 'numThumbsDown',\n",
       " 'numAdverts',\n",
       " 'numSongsPlayed',\n",
       " 'totalListenTime',\n",
       " 'avgSongsPerSession',\n",
       " 'numSingersPlayed',\n",
       " 'avgSingersPerSession',\n",
       " 'avgSessionMins',\n",
       " 'numSessions',\n",
       " 'daysSinceReg',\n",
       " 'churn',\n",
       " 'numRegister_lastMonth',\n",
       " 'numCancelVisits_lastMonth',\n",
       " 'numUpgradeVisits_lastMonth',\n",
       " 'numDowngradeVisits_lastMonth',\n",
       " 'numHomeVisits_lastMonth',\n",
       " 'numAboutVisits_lastMonth',\n",
       " 'numSettingsVisits_lastMonth',\n",
       " 'numSaveSettings_lastMonth',\n",
       " 'numLogins_lastMonth',\n",
       " 'numLogouts_lastMonth',\n",
       " 'numAddPlaylists_lastMonth',\n",
       " 'numFriends_lastMonth',\n",
       " 'numThumbsUp_lastMonth',\n",
       " 'numThumbsDown_lastMonth',\n",
       " 'numAdverts_lastMonth',\n",
       " 'numSongsPlayed_lastMonth',\n",
       " 'totalListenTime_lastMonth',\n",
       " 'avgSongsPerSession_lastMonth',\n",
       " 'numSingersPlayed_lastMonth',\n",
       " 'avgSingersPerSession_lastMonth',\n",
       " 'avgSessionMins_lastMonth',\n",
       " 'numSessions_lastMonth',\n",
       " 'numRegister_cum_old',\n",
       " 'numRegister_cum',\n",
       " 'numRegister_movAvg',\n",
       " 'numCancelVisits_cum_old',\n",
       " 'numCancelVisits_cum',\n",
       " 'numCancelVisits_movAvg',\n",
       " 'numUpgradeVisits_cum_old',\n",
       " 'numUpgradeVisits_cum',\n",
       " 'numUpgradeVisits_movAvg',\n",
       " 'numDowngradeVisits_cum_old',\n",
       " 'numDowngradeVisits_cum',\n",
       " 'numDowngradeVisits_movAvg',\n",
       " 'numHomeVisits_cum_old',\n",
       " 'numHomeVisits_cum',\n",
       " 'numHomeVisits_movAvg',\n",
       " 'numAboutVisits_cum_old',\n",
       " 'numAboutVisits_cum',\n",
       " 'numAboutVisits_movAvg',\n",
       " 'numSettingsVisits_cum_old',\n",
       " 'numSettingsVisits_cum',\n",
       " 'numSettingsVisits_movAvg',\n",
       " 'numSaveSettings_cum_old',\n",
       " 'numSaveSettings_cum',\n",
       " 'numSaveSettings_movAvg',\n",
       " 'numLogins_cum_old',\n",
       " 'numLogins_cum',\n",
       " 'numLogins_movAvg',\n",
       " 'numLogouts_cum_old',\n",
       " 'numLogouts_cum',\n",
       " 'numLogouts_movAvg',\n",
       " 'numAddPlaylists_cum_old',\n",
       " 'numAddPlaylists_cum',\n",
       " 'numAddPlaylists_movAvg',\n",
       " 'numFriends_cum_old',\n",
       " 'numFriends_cum',\n",
       " 'numFriends_movAvg',\n",
       " 'numThumbsUp_cum_old',\n",
       " 'numThumbsUp_cum',\n",
       " 'numThumbsUp_movAvg',\n",
       " 'numThumbsDown_cum_old',\n",
       " 'numThumbsDown_cum',\n",
       " 'numThumbsDown_movAvg',\n",
       " 'numAdverts_cum_old',\n",
       " 'numAdverts_cum',\n",
       " 'numAdverts_movAvg',\n",
       " 'numSongsPlayed_cum_old',\n",
       " 'numSongsPlayed_cum',\n",
       " 'numSongsPlayed_movAvg',\n",
       " 'totalListenTime_cum_old',\n",
       " 'totalListenTime_cum',\n",
       " 'totalListenTime_movAvg',\n",
       " 'avgSongsPerSession_cum_old',\n",
       " 'avgSongsPerSession_cum',\n",
       " 'avgSongsPerSession_movAvg',\n",
       " 'numSingersPlayed_cum_old',\n",
       " 'numSingersPlayed_cum',\n",
       " 'numSingersPlayed_movAvg',\n",
       " 'avgSingersPerSession_cum_old',\n",
       " 'avgSingersPerSession_cum',\n",
       " 'avgSingersPerSession_movAvg',\n",
       " 'avgSessionMins_cum_old',\n",
       " 'avgSessionMins_cum',\n",
       " 'avgSessionMins_movAvg',\n",
       " 'numSessions_cum_old',\n",
       " 'numSessions_cum',\n",
       " 'numSessions_movAvg',\n",
       " 'diff_numRegister',\n",
       " 'diff_numCancelVisits',\n",
       " 'diff_numUpgradeVisits',\n",
       " 'diff_numDowngradeVisits',\n",
       " 'diff_numHomeVisits',\n",
       " 'diff_numAboutVisits',\n",
       " 'diff_numSettingsVisits',\n",
       " 'diff_numSaveSettings',\n",
       " 'diff_numLogins',\n",
       " 'diff_numLogouts',\n",
       " 'diff_numAddPlaylists',\n",
       " 'diff_numFriends',\n",
       " 'diff_numThumbsUp',\n",
       " 'diff_numThumbsDown',\n",
       " 'diff_numAdverts',\n",
       " 'diff_numSongsPlayed',\n",
       " 'diff_totalListenTime',\n",
       " 'diff_avgSongsPerSession',\n",
       " 'diff_numSingersPlayed',\n",
       " 'diff_avgSingersPerSession',\n",
       " 'diff_avgSessionMins',\n",
       " 'diff_numSessions',\n",
       " 'userId_n',\n",
       " 'level_n',\n",
       " 'gender_n',\n",
       " 'level_lastMonth_n']"
      ]
     },
     "execution_count": 51,
     "metadata": {},
     "output_type": "execute_result"
    }
   ],
   "source": [
    "all_data.columns"
   ]
  },
  {
   "cell_type": "code",
   "execution_count": 52,
   "metadata": {},
   "outputs": [
    {
     "name": "stdout",
     "output_type": "stream",
     "text": [
      "+--------+---------+---------------------+-------------------------+--------------------------+----------------------------+-----------------------+------------------------+---------------------------+-------------------------+-------------------+--------------------+-------------------------+--------------------+---------------------+-----------------------+--------------------+------------------------+-------------------------+----------------------------+--------------------------+------------------------------+------------------------+---------------------+-----------------+------------------+----------------------+-----------------------+-------------------------+--------------------+---------------------+------------------------+----------------------+----------------+-----------------+----------------------+-----------------+------------------+--------------------+-----------------+---------------------+----------------------+-------------------------+-----------------------+---------------------------+---------------------+------------------+----------------+--------------------+---------------------+-----------------------+------------------+-------------------+----------------------+--------------------+--------------+---------------+--------------------+---------------+----------------+------------------+---------------+-------------------+--------------------+-----------------------+---------------------+-------------------------+--------------------+----------------+--------+------------+-----+\n",
      "|userId_n|month_num|numRegister_lastMonth|numCancelVisits_lastMonth|numUpgradeVisits_lastMonth|numDowngradeVisits_lastMonth|numHomeVisits_lastMonth|numAboutVisits_lastMonth|numSettingsVisits_lastMonth|numSaveSettings_lastMonth|numLogins_lastMonth|numLogouts_lastMonth|numAddPlaylists_lastMonth|numFriends_lastMonth|numThumbsUp_lastMonth|numThumbsDown_lastMonth|numAdverts_lastMonth|numSongsPlayed_lastMonth|totalListenTime_lastMonth|avgSongsPerSession_lastMonth|numSingersPlayed_lastMonth|avgSingersPerSession_lastMonth|avgSessionMins_lastMonth|numSessions_lastMonth|level_lastMonth_n|numRegister_movAvg|numCancelVisits_movAvg|numUpgradeVisits_movAvg|numDowngradeVisits_movAvg|numHomeVisits_movAvg|numAboutVisits_movAvg|numSettingsVisits_movAvg|numSaveSettings_movAvg|numLogins_movAvg|numLogouts_movAvg|numAddPlaylists_movAvg|numFriends_movAvg|numThumbsUp_movAvg|numThumbsDown_movAvg|numAdverts_movAvg|numSongsPlayed_movAvg|totalListenTime_movAvg|avgSongsPerSession_movAvg|numSingersPlayed_movAvg|avgSingersPerSession_movAvg|avgSessionMins_movAvg|numSessions_movAvg|diff_numRegister|diff_numCancelVisits|diff_numUpgradeVisits|diff_numDowngradeVisits|diff_numHomeVisits|diff_numAboutVisits|diff_numSettingsVisits|diff_numSaveSettings|diff_numLogins|diff_numLogouts|diff_numAddPlaylists|diff_numFriends|diff_numThumbsUp|diff_numThumbsDown|diff_numAdverts|diff_numSongsPlayed|diff_totalListenTime|diff_avgSongsPerSession|diff_numSingersPlayed|diff_avgSingersPerSession| diff_avgSessionMins|diff_numSessions|gender_n|daysSinceReg|label|\n",
      "+--------+---------+---------------------+-------------------------+--------------------------+----------------------------+-----------------------+------------------------+---------------------------+-------------------------+-------------------+--------------------+-------------------------+--------------------+---------------------+-----------------------+--------------------+------------------------+-------------------------+----------------------------+--------------------------+------------------------------+------------------------+---------------------+-----------------+------------------+----------------------+-----------------------+-------------------------+--------------------+---------------------+------------------------+----------------------+----------------+-----------------+----------------------+-----------------+------------------+--------------------+-----------------+---------------------+----------------------+-------------------------+-----------------------+---------------------------+---------------------+------------------+----------------+--------------------+---------------------+-----------------------+------------------+-------------------+----------------------+--------------------+--------------+---------------+--------------------+---------------+----------------+------------------+---------------+-------------------+--------------------+-----------------------+---------------------+-------------------------+--------------------+----------------+--------+------------+-----+\n",
      "|   125.0|        1|                    0|                        0|                         0|                           0|                      1|                       0|                          3|                        0|                  0|                   0|                        1|                   3|                    3|                      1|                   4|                      58|       14632.724720000002|                        29.0|                        57|                          28.5|      118.06666666666668|                    2|              0.0|               0.0|                   0.0|                    0.0|                      0.0|                 1.0|                  0.0|                     0.0|                   0.0|             0.0|              0.0|                   1.0|              0.0|               0.0|                 0.0|              4.0|                 58.0|    14632.724720000002|                     29.0|                   57.0|                       28.5|   118.06666666666669|               2.0|             0.0|                 0.0|                  0.0|                    0.0|               0.0|                0.0|                   3.0|                 0.0|           0.0|            0.0|                 0.0|            3.0|             3.0|               1.0|            0.0|                0.0|                 0.0|                    0.0|                  0.0|                      0.0|-1.42108547152020...|             0.0|     0.0|          92|    0|\n",
      "+--------+---------+---------------------+-------------------------+--------------------------+----------------------------+-----------------------+------------------------+---------------------------+-------------------------+-------------------+--------------------+-------------------------+--------------------+---------------------+-----------------------+--------------------+------------------------+-------------------------+----------------------------+--------------------------+------------------------------+------------------------+---------------------+-----------------+------------------+----------------------+-----------------------+-------------------------+--------------------+---------------------+------------------------+----------------------+----------------+-----------------+----------------------+-----------------+------------------+--------------------+-----------------+---------------------+----------------------+-------------------------+-----------------------+---------------------------+---------------------+------------------+----------------+--------------------+---------------------+-----------------------+------------------+-------------------+----------------------+--------------------+--------------+---------------+--------------------+---------------+----------------+------------------+---------------+-------------------+--------------------+-----------------------+---------------------+-------------------------+--------------------+----------------+--------+------------+-----+\n",
      "only showing top 1 row\n",
      "\n"
     ]
    }
   ],
   "source": [
    "# drop month 0 since we do not have old information to predict churn for this month\n",
    "# keep only features to be trained and labels\n",
    "\n",
    "model_data = all_data \\\n",
    ".filter(all_data.month_num>0) \\\n",
    ".select('userId_n', 'month_num', 'numRegister_lastMonth', 'numCancelVisits_lastMonth',\\\n",
    "        'numUpgradeVisits_lastMonth', 'numDowngradeVisits_lastMonth',\\\n",
    "        'numHomeVisits_lastMonth', 'numAboutVisits_lastMonth',\\\n",
    "        'numSettingsVisits_lastMonth', 'numSaveSettings_lastMonth',\\\n",
    "        'numLogins_lastMonth', 'numLogouts_lastMonth', \\\n",
    "        'numAddPlaylists_lastMonth', 'numFriends_lastMonth',\\\n",
    "        'numThumbsUp_lastMonth', 'numThumbsDown_lastMonth',\\\n",
    "        'numAdverts_lastMonth', 'numSongsPlayed_lastMonth',\\\n",
    "        'totalListenTime_lastMonth', 'avgSongsPerSession_lastMonth',\\\n",
    "        'numSingersPlayed_lastMonth', 'avgSingersPerSession_lastMonth',\\\n",
    "        'avgSessionMins_lastMonth', 'numSessions_lastMonth',\\\n",
    "        'level_lastMonth_n', 'numRegister_movAvg', 'numCancelVisits_movAvg',\\\n",
    "        'numUpgradeVisits_movAvg', 'numDowngradeVisits_movAvg',\\\n",
    "        'numHomeVisits_movAvg', 'numAboutVisits_movAvg',\\\n",
    "        'numSettingsVisits_movAvg', 'numSaveSettings_movAvg',\\\n",
    "        'numLogins_movAvg', 'numLogouts_movAvg',\\\n",
    "        'numAddPlaylists_movAvg', 'numFriends_movAvg',\\\n",
    "        'numThumbsUp_movAvg', 'numThumbsDown_movAvg',\\\n",
    "        'numAdverts_movAvg', 'numSongsPlayed_movAvg',\\\n",
    "        'totalListenTime_movAvg', 'avgSongsPerSession_movAvg',\\\n",
    "        'numSingersPlayed_movAvg', 'avgSingersPerSession_movAvg',\\\n",
    "        'avgSessionMins_movAvg', 'numSessions_movAvg',\\\n",
    "        'diff_numRegister', 'diff_numCancelVisits',\\\n",
    "        'diff_numUpgradeVisits', 'diff_numDowngradeVisits',\\\n",
    "        'diff_numHomeVisits', 'diff_numAboutVisits',\\\n",
    "        'diff_numSettingsVisits', 'diff_numSaveSettings',\\\n",
    "        'diff_numLogins', 'diff_numLogouts',\\\n",
    "        'diff_numAddPlaylists', 'diff_numFriends',\\\n",
    "        'diff_numThumbsUp', 'diff_numThumbsDown',\\\n",
    "        'diff_numAdverts', 'diff_numSongsPlayed',\\\n",
    "        'diff_totalListenTime', 'diff_avgSongsPerSession',\\\n",
    "        'diff_numSingersPlayed', 'diff_avgSingersPerSession',\n",
    "        'diff_avgSessionMins', 'diff_numSessions',\\\n",
    "        'gender_n', 'daysSinceReg', 'churn'\n",
    "        ).withColumnRenamed('churn', 'label')\n",
    "\n",
    "model_data.show(1)"
   ]
  },
  {
   "cell_type": "code",
   "execution_count": 53,
   "metadata": {},
   "outputs": [
    {
     "name": "stdout",
     "output_type": "stream",
     "text": [
      "+--------+---------+---------------------+-------------------------+--------------------------+----------------------------+-----------------------+------------------------+---------------------------+-------------------------+-------------------+--------------------+-------------------------+--------------------+---------------------+-----------------------+--------------------+------------------------+-------------------------+----------------------------+--------------------------+------------------------------+------------------------+---------------------+-----------------+------------------+----------------------+-----------------------+-------------------------+--------------------+---------------------+------------------------+----------------------+----------------+-----------------+----------------------+-----------------+------------------+--------------------+-----------------+---------------------+----------------------+-------------------------+-----------------------+---------------------------+---------------------+------------------+----------------+--------------------+---------------------+-----------------------+------------------+-------------------+----------------------+--------------------+--------------+---------------+--------------------+---------------+----------------+------------------+---------------+-------------------+--------------------+-----------------------+---------------------+-------------------------+-------------------+----------------+--------+------------+-----+\n",
      "|userId_n|month_num|numRegister_lastMonth|numCancelVisits_lastMonth|numUpgradeVisits_lastMonth|numDowngradeVisits_lastMonth|numHomeVisits_lastMonth|numAboutVisits_lastMonth|numSettingsVisits_lastMonth|numSaveSettings_lastMonth|numLogins_lastMonth|numLogouts_lastMonth|numAddPlaylists_lastMonth|numFriends_lastMonth|numThumbsUp_lastMonth|numThumbsDown_lastMonth|numAdverts_lastMonth|numSongsPlayed_lastMonth|totalListenTime_lastMonth|avgSongsPerSession_lastMonth|numSingersPlayed_lastMonth|avgSingersPerSession_lastMonth|avgSessionMins_lastMonth|numSessions_lastMonth|level_lastMonth_n|numRegister_movAvg|numCancelVisits_movAvg|numUpgradeVisits_movAvg|numDowngradeVisits_movAvg|numHomeVisits_movAvg|numAboutVisits_movAvg|numSettingsVisits_movAvg|numSaveSettings_movAvg|numLogins_movAvg|numLogouts_movAvg|numAddPlaylists_movAvg|numFriends_movAvg|numThumbsUp_movAvg|numThumbsDown_movAvg|numAdverts_movAvg|numSongsPlayed_movAvg|totalListenTime_movAvg|avgSongsPerSession_movAvg|numSingersPlayed_movAvg|avgSingersPerSession_movAvg|avgSessionMins_movAvg|numSessions_movAvg|diff_numRegister|diff_numCancelVisits|diff_numUpgradeVisits|diff_numDowngradeVisits|diff_numHomeVisits|diff_numAboutVisits|diff_numSettingsVisits|diff_numSaveSettings|diff_numLogins|diff_numLogouts|diff_numAddPlaylists|diff_numFriends|diff_numThumbsUp|diff_numThumbsDown|diff_numAdverts|diff_numSongsPlayed|diff_totalListenTime|diff_avgSongsPerSession|diff_numSingersPlayed|diff_avgSingersPerSession|diff_avgSessionMins|diff_numSessions|gender_n|daysSinceReg|label|\n",
      "+--------+---------+---------------------+-------------------------+--------------------------+----------------------------+-----------------------+------------------------+---------------------------+-------------------------+-------------------+--------------------+-------------------------+--------------------+---------------------+-----------------------+--------------------+------------------------+-------------------------+----------------------------+--------------------------+------------------------------+------------------------+---------------------+-----------------+------------------+----------------------+-----------------------+-------------------------+--------------------+---------------------+------------------------+----------------------+----------------+-----------------+----------------------+-----------------+------------------+--------------------+-----------------+---------------------+----------------------+-------------------------+-----------------------+---------------------------+---------------------+------------------+----------------+--------------------+---------------------+-----------------------+------------------+-------------------+----------------------+--------------------+--------------+---------------+--------------------+---------------+----------------+------------------+---------------+-------------------+--------------------+-----------------------+---------------------+-------------------------+-------------------+----------------+--------+------------+-----+\n",
      "|       0|        0|                    0|                        0|                         0|                           0|                      0|                       0|                          0|                        0|                  0|                   0|                        0|                   0|                    0|                      0|                   0|                       0|                        0|                           0|                         0|                             0|                       0|                    0|                0|                 0|                     0|                      0|                        0|                   0|                    0|                       0|                     0|               0|                0|                     0|                0|                 0|                   0|                0|                    0|                     0|                        0|                      0|                          0|                    0|                 0|               0|                   0|                    0|                      0|                 0|                  0|                     0|                   0|             0|              0|                   0|              0|               0|                 0|              0|                  0|                   0|                      0|                    0|                        0|                  0|               0|       0|           0|    0|\n",
      "+--------+---------+---------------------+-------------------------+--------------------------+----------------------------+-----------------------+------------------------+---------------------------+-------------------------+-------------------+--------------------+-------------------------+--------------------+---------------------+-----------------------+--------------------+------------------------+-------------------------+----------------------------+--------------------------+------------------------------+------------------------+---------------------+-----------------+------------------+----------------------+-----------------------+-------------------------+--------------------+---------------------+------------------------+----------------------+----------------+-----------------+----------------------+-----------------+------------------+--------------------+-----------------+---------------------+----------------------+-------------------------+-----------------------+---------------------------+---------------------+------------------+----------------+--------------------+---------------------+-----------------------+------------------+-------------------+----------------------+--------------------+--------------+---------------+--------------------+---------------+----------------+------------------+---------------+-------------------+--------------------+-----------------------+---------------------+-------------------------+-------------------+----------------+--------+------------+-----+\n",
      "\n"
     ]
    }
   ],
   "source": [
    "# check null values one last time\n",
    "model_data.select([count(when(col(c).isNull(), c)).alias(c) for c in model_data.columns]).show()"
   ]
  },
  {
   "cell_type": "code",
   "execution_count": 54,
   "metadata": {},
   "outputs": [],
   "source": [
    "# for small dataset with 2 months, just use randomSplit\n",
    "# for bigger datasets with multiple months, can split according to months\n",
    "train,test = model_data.randomSplit([0.8, 0.2], seed=50)"
   ]
  },
  {
   "cell_type": "code",
   "execution_count": 55,
   "metadata": {},
   "outputs": [],
   "source": [
    "# for small dataset, just train with last month's stats since there are only 2 months\n",
    "# for large dataset, can train with last month's stats, moving averages and diffs\n",
    "\n",
    "# small dataset\n",
    "inputColumns = ['userId_n', 'month_num', 'numRegister_lastMonth', 'numCancelVisits_lastMonth',\\\n",
    "                'numUpgradeVisits_lastMonth', 'numDowngradeVisits_lastMonth',\\\n",
    "                'numHomeVisits_lastMonth', 'numAboutVisits_lastMonth',\\\n",
    "                'numSettingsVisits_lastMonth', 'numSaveSettings_lastMonth',\\\n",
    "                'numLogins_lastMonth', 'numLogouts_lastMonth', \\\n",
    "                'numAddPlaylists_lastMonth', 'numFriends_lastMonth',\\\n",
    "                'numThumbsUp_lastMonth', 'numThumbsDown_lastMonth',\\\n",
    "                'numAdverts_lastMonth', 'numSongsPlayed_lastMonth',\\\n",
    "                'totalListenTime_lastMonth', 'avgSongsPerSession_lastMonth',\\\n",
    "                'numSingersPlayed_lastMonth', 'avgSingersPerSession_lastMonth',\\\n",
    "                'avgSessionMins_lastMonth', 'numSessions_lastMonth',\\\n",
    "                'level_lastMonth_n', 'gender_n', 'daysSinceReg']\n",
    "\n",
    "\n",
    "assembler = VectorAssembler(inputCols=inputColumns, outputCol=\"FeaturesVec\")\n",
    "#data = assembler.transform(model_data)\n",
    "\n",
    "scaler = StandardScaler(inputCol=\"FeaturesVec\", outputCol=\"features\", withMean=True, withStd=True)\n",
    "#scalerModel = scaler.fit(data)\n",
    "#data = scalerModel.transform(data)\n",
    "#data = data.select(data.churn.alias(\"label\"), data.ScaledFeatures.alias(\"features\"))\n",
    "\n",
    "# set max_iter to 30 for prototype, instead of the default 100, to save time\n",
    "\n",
    "# Logistic Regression\n",
    "lr=LogisticRegression(maxIter=30)\n",
    "pipeline_lr = Pipeline(stages=[assembler, scaler, lr])\n",
    "\n",
    "# Support Vector Machine Classifier\n",
    "svc = LinearSVC(maxIter=30)\n",
    "pipeline_svc = Pipeline(stages=[assembler, scaler, svc])\n",
    "\n",
    "# Gradient Boosted Trees\n",
    "gbt = GBTClassifier(maxIter=20, seed=42)\n",
    "pipeline_gbt = Pipeline(stages=[assembler, scaler, gbt])"
   ]
  },
  {
   "cell_type": "markdown",
   "metadata": {},
   "source": [
    "### Logistic Regression"
   ]
  },
  {
   "cell_type": "code",
   "execution_count": 58,
   "metadata": {},
   "outputs": [],
   "source": [
    "# logistic Regression\n",
    "# Using default L2 regularization\n",
    "paramGrid = ParamGridBuilder() \\\n",
    "    .addGrid(lr.regParam,[0.0, 0.05, 0.1, 0.2, 0.5]) \\\n",
    "    .build()\n",
    "\n",
    "cv_lr = CrossValidator(estimator=pipeline_lr,\\\n",
    "                       estimatorParamMaps=paramGrid,\\\n",
    "                       evaluator=MulticlassClassificationEvaluator(),\\\n",
    "                       numFolds=5,\\\n",
    "                       seed=42\n",
    "                      )\n",
    "cvModel_lr = cv_lr.fit(train)"
   ]
  },
  {
   "cell_type": "code",
   "execution_count": 59,
   "metadata": {},
   "outputs": [
    {
     "data": {
      "text/plain": [
       "[0.7303574819165455,\n",
       " 0.7158180273685165,\n",
       " 0.7062561829345504,\n",
       " 0.6950544533353922,\n",
       " 0.695475292475658]"
      ]
     },
     "execution_count": 59,
     "metadata": {},
     "output_type": "execute_result"
    }
   ],
   "source": [
    "cvModel_lr.avgMetrics"
   ]
  },
  {
   "cell_type": "code",
   "execution_count": 60,
   "metadata": {},
   "outputs": [
    {
     "data": {
      "text/html": [
       "<div>\n",
       "<style scoped>\n",
       "    .dataframe tbody tr th:only-of-type {\n",
       "        vertical-align: middle;\n",
       "    }\n",
       "\n",
       "    .dataframe tbody tr th {\n",
       "        vertical-align: top;\n",
       "    }\n",
       "\n",
       "    .dataframe thead th {\n",
       "        text-align: right;\n",
       "    }\n",
       "</style>\n",
       "<table border=\"1\" class=\"dataframe\">\n",
       "  <thead>\n",
       "    <tr style=\"text-align: right;\">\n",
       "      <th></th>\n",
       "      <th>f1</th>\n",
       "      <th>regParam</th>\n",
       "    </tr>\n",
       "  </thead>\n",
       "  <tbody>\n",
       "    <tr>\n",
       "      <th>0</th>\n",
       "      <td>0.730357</td>\n",
       "      <td>0.00</td>\n",
       "    </tr>\n",
       "    <tr>\n",
       "      <th>1</th>\n",
       "      <td>0.715818</td>\n",
       "      <td>0.05</td>\n",
       "    </tr>\n",
       "    <tr>\n",
       "      <th>2</th>\n",
       "      <td>0.706256</td>\n",
       "      <td>0.10</td>\n",
       "    </tr>\n",
       "    <tr>\n",
       "      <th>3</th>\n",
       "      <td>0.695054</td>\n",
       "      <td>0.20</td>\n",
       "    </tr>\n",
       "    <tr>\n",
       "      <th>4</th>\n",
       "      <td>0.695475</td>\n",
       "      <td>0.50</td>\n",
       "    </tr>\n",
       "  </tbody>\n",
       "</table>\n",
       "</div>"
      ],
      "text/plain": [
       "         f1  regParam\n",
       "0  0.730357      0.00\n",
       "1  0.715818      0.05\n",
       "2  0.706256      0.10\n",
       "3  0.695054      0.20\n",
       "4  0.695475      0.50"
      ]
     },
     "execution_count": 60,
     "metadata": {},
     "output_type": "execute_result"
    }
   ],
   "source": [
    "params = [{p.name: v for p, v in m.items()} for m in cvModel_lr.getEstimatorParamMaps()]\n",
    "\n",
    "pd.DataFrame.from_dict([\n",
    "    {cvModel_lr.getEvaluator().getMetricName(): metric, **ps} \n",
    "    for ps, metric in zip(params, cvModel_lr.avgMetrics)\n",
    "])"
   ]
  },
  {
   "cell_type": "code",
   "execution_count": 61,
   "metadata": {},
   "outputs": [
    {
     "name": "stdout",
     "output_type": "stream",
     "text": [
      "Logistic Regression Model --- Accuracy is: \n",
      "0.6710526315789473\n"
     ]
    }
   ],
   "source": [
    "lr_results = cvModel_lr.transform(test)\n",
    "\n",
    "evaluator = MulticlassClassificationEvaluator(predictionCol=\"prediction\")\n",
    "print(\"Logistic Regression Model --- Accuracy is: \")\n",
    "print(evaluator.evaluate(lr_results, {evaluator.metricName: \"accuracy\"}))"
   ]
  },
  {
   "cell_type": "code",
   "execution_count": 62,
   "metadata": {},
   "outputs": [
    {
     "name": "stdout",
     "output_type": "stream",
     "text": [
      "Logistic Regression Model --- F1-Score is: \n",
      "0.6320437342304457\n"
     ]
    }
   ],
   "source": [
    "print(\"Logistic Regression Model --- F1-Score is: \")\n",
    "print(evaluator.evaluate(lr_results, {evaluator.metricName: \"f1\"}))"
   ]
  },
  {
   "cell_type": "markdown",
   "metadata": {},
   "source": [
    "### Linear SVC"
   ]
  },
  {
   "cell_type": "code",
   "execution_count": null,
   "metadata": {},
   "outputs": [],
   "source": [
    "# Linear Support Vector Machine\n",
    "# Using L2 regularization\n",
    "paramGrid = ParamGridBuilder() \\\n",
    "    .addGrid(svc.regParam,[0.0, 0.05, 0.1, 0.2, 0.5]) \\\n",
    "    .build()\n",
    "\n",
    "cv_svc = CrossValidator(estimator=pipeline_svc,\\\n",
    "                       estimatorParamMaps=paramGrid,\\\n",
    "                       evaluator=MulticlassClassificationEvaluator(),\\\n",
    "                       numFolds=5,\\\n",
    "                       seed=42\n",
    "                      )\n",
    "cvModel_svc = cv_svc.fit(train)"
   ]
  },
  {
   "cell_type": "code",
   "execution_count": null,
   "metadata": {},
   "outputs": [
    {
     "data": {
      "text/plain": [
       "[0.6805317480921693,\n",
       " 0.6799509242213667,\n",
       " 0.6760695890047673,\n",
       " 0.6495284560346812,\n",
       " 0.6495284560346812]"
      ]
     },
     "execution_count": 64,
     "metadata": {},
     "output_type": "execute_result"
    }
   ],
   "source": [
    "cvModel_svc.avgMetrics"
   ]
  },
  {
   "cell_type": "code",
   "execution_count": 65,
   "metadata": {},
   "outputs": [
    {
     "data": {
      "text/html": [
       "<div>\n",
       "<style scoped>\n",
       "    .dataframe tbody tr th:only-of-type {\n",
       "        vertical-align: middle;\n",
       "    }\n",
       "\n",
       "    .dataframe tbody tr th {\n",
       "        vertical-align: top;\n",
       "    }\n",
       "\n",
       "    .dataframe thead th {\n",
       "        text-align: right;\n",
       "    }\n",
       "</style>\n",
       "<table border=\"1\" class=\"dataframe\">\n",
       "  <thead>\n",
       "    <tr style=\"text-align: right;\">\n",
       "      <th></th>\n",
       "      <th>f1</th>\n",
       "      <th>regParam</th>\n",
       "    </tr>\n",
       "  </thead>\n",
       "  <tbody>\n",
       "    <tr>\n",
       "      <th>0</th>\n",
       "      <td>0.680532</td>\n",
       "      <td>0.00</td>\n",
       "    </tr>\n",
       "    <tr>\n",
       "      <th>1</th>\n",
       "      <td>0.679951</td>\n",
       "      <td>0.05</td>\n",
       "    </tr>\n",
       "    <tr>\n",
       "      <th>2</th>\n",
       "      <td>0.676070</td>\n",
       "      <td>0.10</td>\n",
       "    </tr>\n",
       "    <tr>\n",
       "      <th>3</th>\n",
       "      <td>0.649528</td>\n",
       "      <td>0.20</td>\n",
       "    </tr>\n",
       "    <tr>\n",
       "      <th>4</th>\n",
       "      <td>0.649528</td>\n",
       "      <td>0.50</td>\n",
       "    </tr>\n",
       "  </tbody>\n",
       "</table>\n",
       "</div>"
      ],
      "text/plain": [
       "         f1  regParam\n",
       "0  0.680532      0.00\n",
       "1  0.679951      0.05\n",
       "2  0.676070      0.10\n",
       "3  0.649528      0.20\n",
       "4  0.649528      0.50"
      ]
     },
     "execution_count": 65,
     "metadata": {},
     "output_type": "execute_result"
    }
   ],
   "source": [
    "params = [{p.name: v for p, v in m.items()} for m in cvModel_svc.getEstimatorParamMaps()]\n",
    "\n",
    "pd.DataFrame.from_dict([\n",
    "    {cvModel_svc.getEvaluator().getMetricName(): metric, **ps} \n",
    "    for ps, metric in zip(params, cvModel_svc.avgMetrics)\n",
    "])"
   ]
  },
  {
   "cell_type": "code",
   "execution_count": 66,
   "metadata": {},
   "outputs": [
    {
     "name": "stdout",
     "output_type": "stream",
     "text": [
      "Linear SVC Model --- Accuracy is: \n",
      "0.7236842105263158\n"
     ]
    }
   ],
   "source": [
    "svc_results = cvModel_svc.transform(test)\n",
    "\n",
    "evaluator = MulticlassClassificationEvaluator(predictionCol=\"prediction\")\n",
    "print(\"Linear SVC Model --- Accuracy is: \")\n",
    "print(evaluator.evaluate(svc_results, {evaluator.metricName: \"accuracy\"}))"
   ]
  },
  {
   "cell_type": "code",
   "execution_count": 67,
   "metadata": {},
   "outputs": [
    {
     "name": "stdout",
     "output_type": "stream",
     "text": [
      "Linear SVC Model --- F1-Score is: \n",
      "0.665984251968504\n"
     ]
    }
   ],
   "source": [
    "print(\"Linear SVC Model --- F1-Score is: \")\n",
    "print(evaluator.evaluate(svc_results, {evaluator.metricName: \"f1\"}))"
   ]
  },
  {
   "cell_type": "markdown",
   "metadata": {},
   "source": [
    "### Gradient Boosted Trees"
   ]
  },
  {
   "cell_type": "code",
   "execution_count": null,
   "metadata": {},
   "outputs": [],
   "source": [
    "# Gradient Boosted Trees\n",
    "paramGrid = ParamGridBuilder() \\\n",
    "            .addGrid(gbt.minInstancesPerNode,[1, 5, 10, 20, 50]) \\\n",
    "            .addGrid(gbt.maxDepth,[5, 7, 9])\\\n",
    "            .addGrid(gbt.subsamplingRate,[0.5,0.75,1.0])\\\n",
    "            .build()\n",
    "\n",
    "cv_gbt = CrossValidator(estimator=pipeline_gbt,\\\n",
    "                        estimatorParamMaps=paramGrid,\\\n",
    "                        evaluator=MulticlassClassificationEvaluator(),\\\n",
    "                        numFolds=5,\\\n",
    "                        seed=42\n",
    "                       )\n",
    "cvModel_gbt = cv_gbt.fit(train)"
   ]
  },
  {
   "cell_type": "code",
   "execution_count": null,
   "metadata": {},
   "outputs": [],
   "source": [
    "params = [{p.name: v for p, v in m.items()} for m in cvModel_gbt.getEstimatorParamMaps()]\n",
    "\n",
    "pd.DataFrame.from_dict([\n",
    "    {cvModel_gbt.getEvaluator().getMetricName(): metric, **ps} \n",
    "    for ps, metric in zip(params, cvModel_gbt.avgMetrics)\n",
    "])"
   ]
  },
  {
   "cell_type": "code",
   "execution_count": null,
   "metadata": {},
   "outputs": [],
   "source": [
    "gbt_results = cvModel_gbt.transform(test)\n",
    "\n",
    "evaluator = MulticlassClassificationEvaluator(predictionCol=\"prediction\")\n",
    "print(\"GBT Model --- Accuracy is: \")\n",
    "print(evaluator.evaluate(gbt_results, {evaluator.metricName: \"accuracy\"}))"
   ]
  },
  {
   "cell_type": "code",
   "execution_count": null,
   "metadata": {},
   "outputs": [],
   "source": [
    "print(\"GBT Model --- F1-Score is: \")\n",
    "print(evaluator.evaluate(gbt_results, {evaluator.metricName: \"f1\"}))"
   ]
  },
  {
   "cell_type": "code",
   "execution_count": null,
   "metadata": {},
   "outputs": [],
   "source": [
    "# plot feature importances\n",
    "importances = cvModel_gbt.bestModel.stages[-1].featureImportances.toArray()\n",
    "features = ['userId_n', 'month_num', 'numRegister_lastMonth', 'numCancelVisits_lastMonth',\\\n",
    "            'numUpgradeVisits_lastMonth', 'numDowngradeVisits_lastMonth',\\\n",
    "            'numHomeVisits_lastMonth', 'numAboutVisits_lastMonth',\\\n",
    "            'numSettingsVisits_lastMonth', 'numSaveSettings_lastMonth',\\\n",
    "            'numLogins_lastMonth', 'numLogouts_lastMonth', \\\n",
    "            'numAddPlaylists_lastMonth', 'numFriends_lastMonth',\\\n",
    "            'numThumbsUp_lastMonth', 'numThumbsDown_lastMonth',\\\n",
    "            'numAdverts_lastMonth', 'numSongsPlayed_lastMonth',\\\n",
    "            'totalListenTime_lastMonth', 'avgSongsPerSession_lastMonth',\\\n",
    "            'numSingersPlayed_lastMonth', 'avgSingersPerSession_lastMonth',\\\n",
    "            'avgSessionMins_lastMonth', 'numSessions_lastMonth',\\\n",
    "            'level_lastMonth_n', 'gender_n', 'daysSinceReg']\n",
    "\n",
    "y_pos = np.arange(len(features))\n",
    "    \n",
    "fig, ax = plt.subplots(figsize=(10,10))\n",
    "ax.barh(y_pos, importances);\n",
    "plt.yticks(y_pos, features);\n",
    "plt.xlabel('Importance Score');\n",
    "plt.title('GBT Feature Importances');\n",
    "fig.savefig(\"gbt_feat_imp_medium.jpg\", bbox_inches='tight')"
   ]
  }
 ],
 "metadata": {
  "kernelspec": {
   "display_name": "Python 3.5 with Spark",
   "language": "python3",
   "name": "python3"
  },
  "language_info": {
   "codemirror_mode": {
    "name": "ipython",
    "version": 3
   },
   "file_extension": ".py",
   "mimetype": "text/x-python",
   "name": "python",
   "nbconvert_exporter": "python",
   "pygments_lexer": "ipython3",
   "version": "3.5.4"
  }
 },
 "nbformat": 4,
 "nbformat_minor": 1
}
